{
 "cells": [
  {
   "cell_type": "markdown",
   "id": "85603128",
   "metadata": {},
   "source": [
    "## Variables "
   ]
  },
  {
   "cell_type": "code",
   "execution_count": 3,
   "id": "4a12ea0e",
   "metadata": {},
   "outputs": [],
   "source": [
    " x= 10"
   ]
  },
  {
   "cell_type": "code",
   "execution_count": 4,
   "id": "6ef1ee3d",
   "metadata": {},
   "outputs": [
    {
     "name": "stdout",
     "output_type": "stream",
     "text": [
      "10\n"
     ]
    }
   ],
   "source": [
    "print(x)"
   ]
  },
  {
   "cell_type": "code",
   "execution_count": 5,
   "id": "b5329452",
   "metadata": {},
   "outputs": [
    {
     "data": {
      "text/plain": [
       "int"
      ]
     },
     "execution_count": 5,
     "metadata": {},
     "output_type": "execute_result"
    }
   ],
   "source": [
    "type(x)"
   ]
  },
  {
   "cell_type": "code",
   "execution_count": 9,
   "id": "3c69968d",
   "metadata": {},
   "outputs": [
    {
     "data": {
      "text/plain": [
       "10"
      ]
     },
     "execution_count": 9,
     "metadata": {},
     "output_type": "execute_result"
    }
   ],
   "source": [
    "x = 10\n",
    "x\n",
    "print(id(x))\n",
    "\n",
    "x = 'arpit'\n",
    "print(x)\n",
    "print(id(x))"
   ]
  },
  {
   "cell_type": "code",
   "execution_count": 10,
   "id": "61b1e550",
   "metadata": {},
   "outputs": [
    {
     "name": "stdout",
     "output_type": "stream",
     "text": [
      "20\n"
     ]
    }
   ],
   "source": [
    "x = 10 \n",
    "y = 20 \n",
    "x\n",
    "print(y)"
   ]
  },
  {
   "cell_type": "code",
   "execution_count": 11,
   "id": "9e504fce",
   "metadata": {},
   "outputs": [
    {
     "data": {
      "text/plain": [
       "20"
      ]
     },
     "execution_count": 11,
     "metadata": {},
     "output_type": "execute_result"
    }
   ],
   "source": [
    "x = 10 \n",
    "y = 20 \n",
    "x\n",
    "y"
   ]
  },
  {
   "cell_type": "code",
   "execution_count": 12,
   "id": "c155705b",
   "metadata": {},
   "outputs": [
    {
     "name": "stdout",
     "output_type": "stream",
     "text": [
      "10\n"
     ]
    },
    {
     "data": {
      "text/plain": [
       "20"
      ]
     },
     "execution_count": 12,
     "metadata": {},
     "output_type": "execute_result"
    }
   ],
   "source": [
    "x = 10 \n",
    "y = 20 \n",
    "print(x)\n",
    "y"
   ]
  },
  {
   "cell_type": "code",
   "execution_count": null,
   "id": "4867b72f",
   "metadata": {},
   "outputs": [],
   "source": []
  },
  {
   "cell_type": "markdown",
   "id": "4b20e935",
   "metadata": {},
   "source": [
    "#### 4 Rules\n",
    "\n",
    "* Alphabets can be anywhere\n",
    "* No Numbers in beginning, elsewhere okay\n",
    "* No Special characters except `_`\n",
    "* Case sensitive "
   ]
  },
  {
   "cell_type": "code",
   "execution_count": null,
   "id": "8fc99472",
   "metadata": {},
   "outputs": [],
   "source": []
  },
  {
   "cell_type": "code",
   "execution_count": null,
   "id": "8d1d68c3",
   "metadata": {},
   "outputs": [],
   "source": []
  },
  {
   "cell_type": "code",
   "execution_count": null,
   "id": "4a32cd8d",
   "metadata": {},
   "outputs": [],
   "source": []
  },
  {
   "cell_type": "markdown",
   "id": "29ad94c1",
   "metadata": {},
   "source": [
    "## Operators \n",
    "\n",
    "* Arithmetic Operators \n",
    "* Logical Operators \n",
    "* Comparative Operators \n",
    "* Identity Operators "
   ]
  },
  {
   "cell_type": "code",
   "execution_count": 13,
   "id": "0ce5167b",
   "metadata": {},
   "outputs": [
    {
     "data": {
      "text/plain": [
       "3"
      ]
     },
     "execution_count": 13,
     "metadata": {},
     "output_type": "execute_result"
    }
   ],
   "source": [
    "10//3"
   ]
  },
  {
   "cell_type": "code",
   "execution_count": 14,
   "id": "e63a28dd",
   "metadata": {},
   "outputs": [
    {
     "data": {
      "text/plain": [
       "1"
      ]
     },
     "execution_count": 14,
     "metadata": {},
     "output_type": "execute_result"
    }
   ],
   "source": [
    "10%3"
   ]
  },
  {
   "cell_type": "code",
   "execution_count": 15,
   "id": "971c7562",
   "metadata": {},
   "outputs": [
    {
     "data": {
      "text/plain": [
       "1000"
      ]
     },
     "execution_count": 15,
     "metadata": {},
     "output_type": "execute_result"
    }
   ],
   "source": [
    "10**3"
   ]
  },
  {
   "cell_type": "code",
   "execution_count": 20,
   "id": "22af9a95",
   "metadata": {},
   "outputs": [
    {
     "data": {
      "text/plain": [
       "True"
      ]
     },
     "execution_count": 20,
     "metadata": {},
     "output_type": "execute_result"
    }
   ],
   "source": [
    "(10<3) or (30>15)"
   ]
  },
  {
   "cell_type": "code",
   "execution_count": 21,
   "id": "aa38d4aa",
   "metadata": {},
   "outputs": [
    {
     "data": {
      "text/plain": [
       "False"
      ]
     },
     "execution_count": 21,
     "metadata": {},
     "output_type": "execute_result"
    }
   ],
   "source": [
    "(10<3) and (30>15)"
   ]
  },
  {
   "cell_type": "code",
   "execution_count": null,
   "id": "a967999c",
   "metadata": {},
   "outputs": [],
   "source": [
    "s = 'CBRE'"
   ]
  },
  {
   "cell_type": "code",
   "execution_count": null,
   "id": "b33f88aa",
   "metadata": {},
   "outputs": [],
   "source": [
    "x in 10"
   ]
  },
  {
   "cell_type": "code",
   "execution_count": 22,
   "id": "aa7c4a43",
   "metadata": {},
   "outputs": [
    {
     "name": "stdout",
     "output_type": "stream",
     "text": [
      "2\n"
     ]
    }
   ],
   "source": [
    "print(1 and 2)"
   ]
  },
  {
   "cell_type": "code",
   "execution_count": 23,
   "id": "a8f33e70",
   "metadata": {},
   "outputs": [
    {
     "name": "stdout",
     "output_type": "stream",
     "text": [
      "0\n"
     ]
    }
   ],
   "source": [
    "print(1 & 2)"
   ]
  },
  {
   "cell_type": "code",
   "execution_count": null,
   "id": "9792e677",
   "metadata": {},
   "outputs": [],
   "source": [
    "(1==1) and (2==2)"
   ]
  },
  {
   "cell_type": "code",
   "execution_count": 27,
   "id": "67928f37",
   "metadata": {},
   "outputs": [
    {
     "data": {
      "text/plain": [
       "False"
      ]
     },
     "execution_count": 27,
     "metadata": {},
     "output_type": "execute_result"
    }
   ],
   "source": [
    "x = 1\n",
    "x is True"
   ]
  },
  {
   "cell_type": "code",
   "execution_count": 28,
   "id": "eb3d6fff",
   "metadata": {},
   "outputs": [
    {
     "data": {
      "text/plain": [
       "2"
      ]
     },
     "execution_count": 28,
     "metadata": {},
     "output_type": "execute_result"
    }
   ],
   "source": [
    "True + True"
   ]
  },
  {
   "cell_type": "code",
   "execution_count": 29,
   "id": "5d297bee",
   "metadata": {},
   "outputs": [
    {
     "name": "stdout",
     "output_type": "stream",
     "text": [
      "<class 'int'>\n",
      "<class 'str'>\n"
     ]
    }
   ],
   "source": [
    "x = 1\n",
    "y = '1'\n",
    "\n",
    "print(type(x))\n",
    "print(type(y))"
   ]
  },
  {
   "cell_type": "code",
   "execution_count": 30,
   "id": "f303e85c",
   "metadata": {},
   "outputs": [
    {
     "data": {
      "text/plain": [
       "False"
      ]
     },
     "execution_count": 30,
     "metadata": {},
     "output_type": "execute_result"
    }
   ],
   "source": [
    "x is y"
   ]
  },
  {
   "cell_type": "code",
   "execution_count": 31,
   "id": "0fa4f4fb",
   "metadata": {},
   "outputs": [
    {
     "ename": "TypeError",
     "evalue": "unsupported operand type(s) for +: 'int' and 'str'",
     "output_type": "error",
     "traceback": [
      "\u001b[1;31m---------------------------------------------------------------------------\u001b[0m",
      "\u001b[1;31mTypeError\u001b[0m                                 Traceback (most recent call last)",
      "Input \u001b[1;32mIn [31]\u001b[0m, in \u001b[0;36m<cell line: 1>\u001b[1;34m()\u001b[0m\n\u001b[1;32m----> 1\u001b[0m \u001b[43mx\u001b[49m\u001b[38;5;241;43m+\u001b[39;49m\u001b[43my\u001b[49m\n",
      "\u001b[1;31mTypeError\u001b[0m: unsupported operand type(s) for +: 'int' and 'str'"
     ]
    }
   ],
   "source": [
    "x+y"
   ]
  },
  {
   "cell_type": "markdown",
   "id": "bccea7c3",
   "metadata": {},
   "source": [
    "## Data Types \n",
    "\n",
    "* Int\n",
    "* Float\n",
    "* String\n",
    "* Lists \n",
    "* Tuples \n",
    "* Dictionaries \n",
    "* Sets "
   ]
  },
  {
   "cell_type": "code",
   "execution_count": 32,
   "id": "b203bbcd",
   "metadata": {},
   "outputs": [],
   "source": [
    "s= 'CBRE'"
   ]
  },
  {
   "cell_type": "code",
   "execution_count": 33,
   "id": "2a26a4df",
   "metadata": {},
   "outputs": [
    {
     "data": {
      "text/plain": [
       "'cbre'"
      ]
     },
     "execution_count": 33,
     "metadata": {},
     "output_type": "execute_result"
    }
   ],
   "source": [
    "s.lower()"
   ]
  },
  {
   "cell_type": "code",
   "execution_count": null,
   "id": "dc780006",
   "metadata": {},
   "outputs": [],
   "source": [
    "s.find()"
   ]
  },
  {
   "cell_type": "code",
   "execution_count": 34,
   "id": "abcedb9d",
   "metadata": {},
   "outputs": [
    {
     "data": {
      "text/plain": [
       "'H'"
      ]
     },
     "execution_count": 34,
     "metadata": {},
     "output_type": "execute_result"
    }
   ],
   "source": [
    "### Indexing \n",
    "\n",
    "s = 'PYTHON'\n",
    "\n",
    "## Access H\n",
    "s[3]"
   ]
  },
  {
   "cell_type": "code",
   "execution_count": 35,
   "id": "4e8b86ac",
   "metadata": {},
   "outputs": [
    {
     "data": {
      "text/plain": [
       "'H'"
      ]
     },
     "execution_count": 35,
     "metadata": {},
     "output_type": "execute_result"
    }
   ],
   "source": [
    "s[-3]"
   ]
  },
  {
   "cell_type": "code",
   "execution_count": 38,
   "id": "bd15b62f",
   "metadata": {},
   "outputs": [
    {
     "data": {
      "text/plain": [
       "'tho'"
      ]
     },
     "execution_count": 38,
     "metadata": {},
     "output_type": "execute_result"
    }
   ],
   "source": [
    "## Task 2 - Extract THO\n",
    "\n",
    "s = 'PYTHON'  \n",
    "s[2:5].lower()"
   ]
  },
  {
   "cell_type": "code",
   "execution_count": 39,
   "id": "51c0d668",
   "metadata": {},
   "outputs": [
    {
     "data": {
      "text/plain": [
       "'YHN'"
      ]
     },
     "execution_count": 39,
     "metadata": {},
     "output_type": "execute_result"
    }
   ],
   "source": [
    "## Task 3 -> YHN\n",
    "\n",
    "s = 'PYTHON' \n",
    "\n",
    "s[1:6:2]"
   ]
  },
  {
   "cell_type": "code",
   "execution_count": 40,
   "id": "f4c8b62d",
   "metadata": {},
   "outputs": [
    {
     "data": {
      "text/plain": [
       "'YHN'"
      ]
     },
     "execution_count": 40,
     "metadata": {},
     "output_type": "execute_result"
    }
   ],
   "source": [
    "s[1::2]"
   ]
  },
  {
   "cell_type": "code",
   "execution_count": 41,
   "id": "78af9e77",
   "metadata": {},
   "outputs": [
    {
     "data": {
      "text/plain": [
       "'PT'"
      ]
     },
     "execution_count": 41,
     "metadata": {},
     "output_type": "execute_result"
    }
   ],
   "source": [
    "s = 'PYTHON' \n",
    "\n",
    "s[:4:2]"
   ]
  },
  {
   "cell_type": "code",
   "execution_count": 42,
   "id": "0a226c0e",
   "metadata": {},
   "outputs": [
    {
     "data": {
      "text/plain": [
       "'MUR'"
      ]
     },
     "execution_count": 42,
     "metadata": {},
     "output_type": "execute_result"
    }
   ],
   "source": [
    "s = 'I AM HUNGRY'\n",
    "\n",
    "s[3::3]"
   ]
  },
  {
   "cell_type": "code",
   "execution_count": 43,
   "id": "d46449b9",
   "metadata": {},
   "outputs": [
    {
     "data": {
      "text/plain": [
       "'OHT'"
      ]
     },
     "execution_count": 43,
     "metadata": {},
     "output_type": "execute_result"
    }
   ],
   "source": [
    "### Backward Slicers \n",
    "\n",
    "s = 'PYTHON'\n",
    "\n",
    "s[-2:-5:-1]"
   ]
  },
  {
   "cell_type": "code",
   "execution_count": 44,
   "id": "fbd764aa",
   "metadata": {},
   "outputs": [
    {
     "data": {
      "text/plain": [
       "''"
      ]
     },
     "execution_count": 44,
     "metadata": {},
     "output_type": "execute_result"
    }
   ],
   "source": [
    "s[-2:-5]"
   ]
  },
  {
   "cell_type": "code",
   "execution_count": 45,
   "id": "8715d961",
   "metadata": {},
   "outputs": [
    {
     "data": {
      "text/plain": [
       "''"
      ]
     },
     "execution_count": 45,
     "metadata": {},
     "output_type": "execute_result"
    }
   ],
   "source": [
    "s = 'PROGRAMMING'\n",
    "\n",
    "s[2:-3:-2]"
   ]
  },
  {
   "cell_type": "code",
   "execution_count": 46,
   "id": "0b6af257",
   "metadata": {},
   "outputs": [
    {
     "data": {
      "text/plain": [
       "'ORM'"
      ]
     },
     "execution_count": 46,
     "metadata": {},
     "output_type": "execute_result"
    }
   ],
   "source": [
    "s[2:-3:2]"
   ]
  },
  {
   "cell_type": "code",
   "execution_count": 47,
   "id": "a4403b4a",
   "metadata": {},
   "outputs": [
    {
     "data": {
      "text/plain": [
       "3"
      ]
     },
     "execution_count": 47,
     "metadata": {},
     "output_type": "execute_result"
    }
   ],
   "source": [
    "s.find('G')"
   ]
  },
  {
   "cell_type": "code",
   "execution_count": 49,
   "id": "07209e3b",
   "metadata": {},
   "outputs": [
    {
     "data": {
      "text/plain": [
       "['Arpit', 'Jain']"
      ]
     },
     "execution_count": 49,
     "metadata": {},
     "output_type": "execute_result"
    }
   ],
   "source": [
    "name = 'Arpit Jain'\n",
    "name.split()"
   ]
  },
  {
   "cell_type": "code",
   "execution_count": 52,
   "id": "2e2bf508",
   "metadata": {},
   "outputs": [
    {
     "data": {
      "text/plain": [
       "['Arpit', 'Jain']"
      ]
     },
     "execution_count": 52,
     "metadata": {},
     "output_type": "execute_result"
    }
   ],
   "source": [
    "name = 'Arpit$$Jain'\n",
    "name.split('$$')"
   ]
  },
  {
   "cell_type": "code",
   "execution_count": null,
   "id": "c4b47efe",
   "metadata": {},
   "outputs": [],
   "source": []
  },
  {
   "cell_type": "code",
   "execution_count": 53,
   "id": "9d729377",
   "metadata": {},
   "outputs": [
    {
     "data": {
      "text/plain": [
       "'O'"
      ]
     },
     "execution_count": 53,
     "metadata": {},
     "output_type": "execute_result"
    }
   ],
   "source": [
    "s = 'PROGRAMMING'\n",
    "\n",
    "s[2:-11:-2]"
   ]
  },
  {
   "cell_type": "markdown",
   "id": "adecb1c6",
   "metadata": {},
   "source": [
    "### Lists"
   ]
  },
  {
   "cell_type": "code",
   "execution_count": 54,
   "id": "287d878e",
   "metadata": {},
   "outputs": [
    {
     "name": "stdout",
     "output_type": "stream",
     "text": [
      "[]\n",
      "<class 'list'>\n"
     ]
    }
   ],
   "source": [
    "l = []\n",
    "print(l)\n",
    "print(type(l))"
   ]
  },
  {
   "cell_type": "code",
   "execution_count": 55,
   "id": "58c97b97",
   "metadata": {},
   "outputs": [
    {
     "name": "stdout",
     "output_type": "stream",
     "text": [
      "[10, 20, 30, 40, 50]\n"
     ]
    }
   ],
   "source": [
    "l = [10,20,30,40,50]\n",
    "print(l)"
   ]
  },
  {
   "cell_type": "code",
   "execution_count": 56,
   "id": "1760eae5",
   "metadata": {},
   "outputs": [
    {
     "data": {
      "text/plain": [
       "5"
      ]
     },
     "execution_count": 56,
     "metadata": {},
     "output_type": "execute_result"
    }
   ],
   "source": [
    "len(l)"
   ]
  },
  {
   "cell_type": "code",
   "execution_count": 57,
   "id": "541e75e1",
   "metadata": {},
   "outputs": [
    {
     "name": "stdout",
     "output_type": "stream",
     "text": [
      "[10, 20, 30, 40, 50, 60]\n"
     ]
    }
   ],
   "source": [
    "## adding new element \n",
    "l = [10,20,30,40,50]\n",
    "\n",
    "# add 60 \n",
    "l.append(60)\n",
    "print(l)"
   ]
  },
  {
   "cell_type": "code",
   "execution_count": 58,
   "id": "382cbcd7",
   "metadata": {},
   "outputs": [
    {
     "ename": "TypeError",
     "evalue": "list.append() takes exactly one argument (5 given)",
     "output_type": "error",
     "traceback": [
      "\u001b[1;31m---------------------------------------------------------------------------\u001b[0m",
      "\u001b[1;31mTypeError\u001b[0m                                 Traceback (most recent call last)",
      "Input \u001b[1;32mIn [58]\u001b[0m, in \u001b[0;36m<cell line: 4>\u001b[1;34m()\u001b[0m\n\u001b[0;32m      1\u001b[0m \u001b[38;5;66;03m## multi elements 60,70,80,90,100\u001b[39;00m\n\u001b[0;32m      3\u001b[0m l \u001b[38;5;241m=\u001b[39m [\u001b[38;5;241m10\u001b[39m,\u001b[38;5;241m20\u001b[39m,\u001b[38;5;241m30\u001b[39m,\u001b[38;5;241m40\u001b[39m,\u001b[38;5;241m50\u001b[39m]\n\u001b[1;32m----> 4\u001b[0m \u001b[43ml\u001b[49m\u001b[38;5;241;43m.\u001b[39;49m\u001b[43mappend\u001b[49m\u001b[43m(\u001b[49m\u001b[38;5;241;43m60\u001b[39;49m\u001b[43m,\u001b[49m\u001b[38;5;241;43m70\u001b[39;49m\u001b[43m,\u001b[49m\u001b[38;5;241;43m80\u001b[39;49m\u001b[43m,\u001b[49m\u001b[38;5;241;43m90\u001b[39;49m\u001b[43m,\u001b[49m\u001b[38;5;241;43m100\u001b[39;49m\u001b[43m)\u001b[49m\n",
      "\u001b[1;31mTypeError\u001b[0m: list.append() takes exactly one argument (5 given)"
     ]
    }
   ],
   "source": [
    "## multi elements 60,70,80,90,100\n",
    "\n",
    "l = [10,20,30,40,50]\n",
    "l.append(60,70,80,90,100)"
   ]
  },
  {
   "cell_type": "code",
   "execution_count": 59,
   "id": "3b677547",
   "metadata": {},
   "outputs": [
    {
     "name": "stdout",
     "output_type": "stream",
     "text": [
      "[10, 20, 30, 40, 50, [60, 70, 80, 90, 100]]\n"
     ]
    }
   ],
   "source": [
    "l.append([60,70,80,90,100])\n",
    "print(l)"
   ]
  },
  {
   "cell_type": "code",
   "execution_count": 60,
   "id": "179c53f6",
   "metadata": {},
   "outputs": [
    {
     "name": "stdout",
     "output_type": "stream",
     "text": [
      "[10, 20, 30, 40, 50, 60, 70, 80, 90, 100]\n"
     ]
    }
   ],
   "source": [
    "## extend\n",
    "l = [10,20,30,40,50]\n",
    "l.extend([60,70,80,90,100])\n",
    "print(l)"
   ]
  },
  {
   "cell_type": "code",
   "execution_count": 61,
   "id": "cd4844a8",
   "metadata": {},
   "outputs": [
    {
     "name": "stdout",
     "output_type": "stream",
     "text": [
      "[10, 20, 30, 100, 40, 50]\n"
     ]
    }
   ],
   "source": [
    "## insert something in mid \n",
    "l = [10,20,30,40,50]\n",
    "\n",
    "## add 100 at 3rd location\n",
    "l.insert(3,100)\n",
    "print(l)"
   ]
  },
  {
   "cell_type": "code",
   "execution_count": 63,
   "id": "75ceefdf",
   "metadata": {},
   "outputs": [
    {
     "name": "stdout",
     "output_type": "stream",
     "text": [
      "[10, 20, 30, 40]\n"
     ]
    }
   ],
   "source": [
    "### DELETE OBJECT ## index \n",
    "l = [10,20,30,40,50]\n",
    "l.pop()\n",
    "print(l)"
   ]
  },
  {
   "cell_type": "code",
   "execution_count": 64,
   "id": "a017f2b9",
   "metadata": {},
   "outputs": [
    {
     "name": "stdout",
     "output_type": "stream",
     "text": [
      "[10, 20, 40, 50]\n"
     ]
    }
   ],
   "source": [
    "### DELETE OBJECT ## value \n",
    "l = [10,20,30,40,50]\n",
    "l.remove(30)\n",
    "print(l)"
   ]
  },
  {
   "cell_type": "code",
   "execution_count": 65,
   "id": "61e982b4",
   "metadata": {},
   "outputs": [
    {
     "name": "stdout",
     "output_type": "stream",
     "text": [
      "[10, 20, 30, 30, 40, 50]\n"
     ]
    }
   ],
   "source": [
    "l = [10,20,30,30,30,40,50]\n",
    "l.remove(30)\n",
    "print(l)"
   ]
  },
  {
   "cell_type": "code",
   "execution_count": null,
   "id": "14a508ee",
   "metadata": {},
   "outputs": [],
   "source": []
  },
  {
   "cell_type": "code",
   "execution_count": 66,
   "id": "094338f7",
   "metadata": {},
   "outputs": [
    {
     "name": "stdout",
     "output_type": "stream",
     "text": [
      "[10, 20, 100, 40, 50]\n"
     ]
    }
   ],
   "source": [
    "## Updation \n",
    "\n",
    "l = [10,20,30,40,50]\n",
    "\n",
    "l[2] = 100\n",
    "print(l)"
   ]
  },
  {
   "cell_type": "code",
   "execution_count": null,
   "id": "d7572392",
   "metadata": {},
   "outputs": [],
   "source": []
  },
  {
   "cell_type": "code",
   "execution_count": 67,
   "id": "4dd38431",
   "metadata": {},
   "outputs": [
    {
     "name": "stdout",
     "output_type": "stream",
     "text": [
      "()\n",
      "<class 'tuple'>\n"
     ]
    }
   ],
   "source": [
    "## tuples \n",
    "\n",
    "t = ()\n",
    "print(t)\n",
    "print(type(t))"
   ]
  },
  {
   "cell_type": "code",
   "execution_count": 68,
   "id": "8f6cda09",
   "metadata": {},
   "outputs": [
    {
     "ename": "AttributeError",
     "evalue": "'tuple' object has no attribute 'append'",
     "output_type": "error",
     "traceback": [
      "\u001b[1;31m---------------------------------------------------------------------------\u001b[0m",
      "\u001b[1;31mAttributeError\u001b[0m                            Traceback (most recent call last)",
      "Input \u001b[1;32mIn [68]\u001b[0m, in \u001b[0;36m<cell line: 2>\u001b[1;34m()\u001b[0m\n\u001b[0;32m      1\u001b[0m t \u001b[38;5;241m=\u001b[39m (\u001b[38;5;241m10\u001b[39m,\u001b[38;5;241m20\u001b[39m,\u001b[38;5;241m30\u001b[39m,\u001b[38;5;241m40\u001b[39m,\u001b[38;5;241m50\u001b[39m)\n\u001b[1;32m----> 2\u001b[0m \u001b[43mt\u001b[49m\u001b[38;5;241;43m.\u001b[39;49m\u001b[43mappend\u001b[49m(\u001b[38;5;241m60\u001b[39m)\n",
      "\u001b[1;31mAttributeError\u001b[0m: 'tuple' object has no attribute 'append'"
     ]
    }
   ],
   "source": [
    "t = (10,20,30,40,50)\n",
    "t.append(60)"
   ]
  },
  {
   "cell_type": "code",
   "execution_count": 71,
   "id": "444548db",
   "metadata": {},
   "outputs": [
    {
     "data": {
      "text/plain": [
       "1"
      ]
     },
     "execution_count": 71,
     "metadata": {},
     "output_type": "execute_result"
    }
   ],
   "source": [
    "t = (10,20,30,30,30,40,50)\n",
    "t.count(20)"
   ]
  },
  {
   "cell_type": "markdown",
   "id": "2a805303",
   "metadata": {},
   "source": [
    "### Dictionary "
   ]
  },
  {
   "cell_type": "code",
   "execution_count": 72,
   "id": "2360e84c",
   "metadata": {},
   "outputs": [
    {
     "name": "stdout",
     "output_type": "stream",
     "text": [
      "{'Maharashtra': 'Mumbai', 'Tamil Nadu': 'Chennai', 'Rajasthan': 'Jaipur'}\n",
      "<class 'dict'>\n"
     ]
    }
   ],
   "source": [
    "d = {'Maharashtra' : 'Mumbai',\n",
    "     'Tamil Nadu' : 'Chennai',\n",
    "     'Rajasthan' : 'Jaipur'}\n",
    "\n",
    "print(d)\n",
    "print(type(d))"
   ]
  },
  {
   "cell_type": "code",
   "execution_count": 73,
   "id": "db9086fb",
   "metadata": {},
   "outputs": [
    {
     "data": {
      "text/plain": [
       "'Mumbai'"
      ]
     },
     "execution_count": 73,
     "metadata": {},
     "output_type": "execute_result"
    }
   ],
   "source": [
    "d['Maharashtra']"
   ]
  },
  {
   "cell_type": "code",
   "execution_count": 81,
   "id": "7c05beba",
   "metadata": {},
   "outputs": [],
   "source": [
    "d = {'Maharashtra' : 'Mumbai',\n",
    "     'Tamil Nadu' : 'Chennai',\n",
    "     'Rajasthan' : 'Jaipur'}\n",
    "\n",
    "d1 = {'Maharashtra' : 'Mumbai',\n",
    "      'Rajasthan' : 'Jaipur',\n",
    "     'Tamil Nadu' : 'Chennai'\n",
    "     }"
   ]
  },
  {
   "cell_type": "code",
   "execution_count": 82,
   "id": "d95e80b8",
   "metadata": {},
   "outputs": [
    {
     "data": {
      "text/plain": [
       "True"
      ]
     },
     "execution_count": 82,
     "metadata": {},
     "output_type": "execute_result"
    }
   ],
   "source": [
    "d == d1"
   ]
  },
  {
   "cell_type": "code",
   "execution_count": 83,
   "id": "e6aaa411",
   "metadata": {},
   "outputs": [],
   "source": [
    "d = {'Maharashtra' : 'Mumbai',\n",
    "     'Tamil Nadu' : 'Chennai',\n",
    "     'Rajasthan' : 'Jaipur',\n",
    "     'Maharashtra' : 'Pune'\n",
    "    }"
   ]
  },
  {
   "cell_type": "code",
   "execution_count": 84,
   "id": "baed0007",
   "metadata": {},
   "outputs": [
    {
     "name": "stdout",
     "output_type": "stream",
     "text": [
      "{'Maharashtra': 'Pune', 'Tamil Nadu': 'Chennai', 'Rajasthan': 'Jaipur'}\n"
     ]
    }
   ],
   "source": [
    "print(d)"
   ]
  },
  {
   "cell_type": "code",
   "execution_count": 88,
   "id": "10370c87",
   "metadata": {},
   "outputs": [
    {
     "data": {
      "text/plain": [
       "['Maharashtra', 'Tamil Nadu', 'Rajasthan']"
      ]
     },
     "execution_count": 88,
     "metadata": {},
     "output_type": "execute_result"
    }
   ],
   "source": [
    "list(d.keys())"
   ]
  },
  {
   "cell_type": "code",
   "execution_count": 89,
   "id": "864b5862",
   "metadata": {},
   "outputs": [
    {
     "data": {
      "text/plain": [
       "dict_values(['Pune', 'Chennai', 'Jaipur'])"
      ]
     },
     "execution_count": 89,
     "metadata": {},
     "output_type": "execute_result"
    }
   ],
   "source": [
    "d.values()"
   ]
  },
  {
   "cell_type": "code",
   "execution_count": 90,
   "id": "78bd84f6",
   "metadata": {},
   "outputs": [
    {
     "data": {
      "text/plain": [
       "dict_items([('Maharashtra', 'Pune'), ('Tamil Nadu', 'Chennai'), ('Rajasthan', 'Jaipur')])"
      ]
     },
     "execution_count": 90,
     "metadata": {},
     "output_type": "execute_result"
    }
   ],
   "source": [
    "d.items()"
   ]
  },
  {
   "cell_type": "code",
   "execution_count": null,
   "id": "b43d260a",
   "metadata": {},
   "outputs": [],
   "source": []
  },
  {
   "cell_type": "code",
   "execution_count": null,
   "id": "f253e0f1",
   "metadata": {},
   "outputs": [],
   "source": []
  },
  {
   "cell_type": "markdown",
   "id": "1fe9a773",
   "metadata": {},
   "source": [
    "## Loops "
   ]
  },
  {
   "cell_type": "code",
   "execution_count": 91,
   "id": "04c6c337",
   "metadata": {},
   "outputs": [
    {
     "name": "stdout",
     "output_type": "stream",
     "text": [
      "10\n",
      "20\n",
      "30\n",
      "40\n",
      "50\n"
     ]
    }
   ],
   "source": [
    "l = [10,20,30,40,50]\n",
    "\n",
    "## M1 -> accesing the elements directly \n",
    "\n",
    "for i in l:\n",
    "    print(i)"
   ]
  },
  {
   "cell_type": "code",
   "execution_count": null,
   "id": "ecdbd378",
   "metadata": {},
   "outputs": [],
   "source": [
    "## M2 -> access the element using index "
   ]
  },
  {
   "cell_type": "code",
   "execution_count": 93,
   "id": "f49507a1",
   "metadata": {},
   "outputs": [
    {
     "name": "stdout",
     "output_type": "stream",
     "text": [
      "10\n",
      "20\n",
      "30\n",
      "40\n",
      "50\n"
     ]
    }
   ],
   "source": [
    "for i in range(0,5):\n",
    "    print(l[i])"
   ]
  },
  {
   "cell_type": "code",
   "execution_count": 94,
   "id": "37ac8086",
   "metadata": {},
   "outputs": [
    {
     "name": "stdout",
     "output_type": "stream",
     "text": [
      "10\n",
      "20\n",
      "30\n",
      "40\n",
      "50\n"
     ]
    }
   ],
   "source": [
    "for i in range(0,len(l)):\n",
    "    print(l[i])\n",
    "    "
   ]
  },
  {
   "cell_type": "code",
   "execution_count": 96,
   "id": "726429d5",
   "metadata": {},
   "outputs": [
    {
     "name": "stdout",
     "output_type": "stream",
     "text": [
      "not ok\n"
     ]
    }
   ],
   "source": [
    "## If else \n",
    "\n",
    "x = 10\n",
    "\n",
    "if x >20:\n",
    "    print('ok')\n",
    "else:\n",
    "    print('not ok')"
   ]
  },
  {
   "cell_type": "code",
   "execution_count": 97,
   "id": "9b83dfb2",
   "metadata": {},
   "outputs": [
    {
     "name": "stdout",
     "output_type": "stream",
     "text": [
      "not ok\n"
     ]
    }
   ],
   "source": [
    "x = 10\n",
    "\n",
    "if (x >20):\n",
    "    print('ok')\n",
    "elif x>15:\n",
    "    print('still ok')\n",
    "else:\n",
    "    print('not ok')"
   ]
  },
  {
   "cell_type": "code",
   "execution_count": 98,
   "id": "7edf416b",
   "metadata": {},
   "outputs": [
    {
     "name": "stdout",
     "output_type": "stream",
     "text": [
      "30\n",
      "40\n",
      "50\n"
     ]
    }
   ],
   "source": [
    "## for if combine \n",
    "\n",
    "l = [10,20,30,40,50]\n",
    "\n",
    "for i in l:\n",
    "    if i > 25:\n",
    "        print(i)"
   ]
  },
  {
   "cell_type": "code",
   "execution_count": 99,
   "id": "5662d621",
   "metadata": {},
   "outputs": [
    {
     "data": {
      "text/plain": [
       "[30, 40, 50]"
      ]
     },
     "execution_count": 99,
     "metadata": {},
     "output_type": "execute_result"
    }
   ],
   "source": [
    "l = [10,20,30,40,50]\n",
    "op = []\n",
    "\n",
    "for i in l:\n",
    "    if i > 25:\n",
    "        op.append(i)\n",
    "        \n",
    "op"
   ]
  },
  {
   "cell_type": "code",
   "execution_count": 102,
   "id": "79081f2e",
   "metadata": {},
   "outputs": [
    {
     "name": "stdout",
     "output_type": "stream",
     "text": [
      "30\n",
      "40\n",
      "50\n"
     ]
    },
    {
     "data": {
      "text/plain": [
       "[30, 40, 50]"
      ]
     },
     "execution_count": 102,
     "metadata": {},
     "output_type": "execute_result"
    }
   ],
   "source": [
    "l = [10,20,30,40,50]\n",
    "op = []\n",
    "\n",
    "for i in l:\n",
    "    if i > 25:\n",
    "        op.append(i)\n",
    "        \n",
    "op"
   ]
  },
  {
   "cell_type": "markdown",
   "id": "19352b36",
   "metadata": {},
   "source": [
    "## while loop"
   ]
  },
  {
   "cell_type": "code",
   "execution_count": 103,
   "id": "4ef33513",
   "metadata": {},
   "outputs": [
    {
     "name": "stdout",
     "output_type": "stream",
     "text": [
      "5\n",
      "4\n",
      "3\n",
      "2\n"
     ]
    }
   ],
   "source": [
    "n = 5\n",
    "\n",
    "while n >1:\n",
    "    print(n)\n",
    "    n = n-1"
   ]
  },
  {
   "cell_type": "code",
   "execution_count": 104,
   "id": "31463ef0",
   "metadata": {},
   "outputs": [
    {
     "name": "stdout",
     "output_type": "stream",
     "text": [
      "3\n",
      "1\n",
      "-1\n"
     ]
    }
   ],
   "source": [
    "n = 5\n",
    "\n",
    "while n >=0:\n",
    "    n = n-2\n",
    "    print(n)"
   ]
  },
  {
   "cell_type": "code",
   "execution_count": null,
   "id": "051c88e9",
   "metadata": {},
   "outputs": [],
   "source": []
  },
  {
   "cell_type": "code",
   "execution_count": null,
   "id": "8845e03a",
   "metadata": {},
   "outputs": [],
   "source": [
    "## Loop control statements \n",
    "# break\n",
    "# continue\n",
    "# pass\n",
    "\n"
   ]
  },
  {
   "cell_type": "code",
   "execution_count": 105,
   "id": "bbb3402c",
   "metadata": {},
   "outputs": [
    {
     "name": "stdout",
     "output_type": "stream",
     "text": [
      "10\n",
      "20\n",
      "30\n",
      "40\n"
     ]
    }
   ],
   "source": [
    "l = [10,20,30,40,50,60,70,80,90,100]\n",
    "\n",
    "for i in l:\n",
    "    if i == 50:\n",
    "        break\n",
    "    print(i)"
   ]
  },
  {
   "cell_type": "code",
   "execution_count": 106,
   "id": "a326f0c4",
   "metadata": {},
   "outputs": [
    {
     "name": "stdout",
     "output_type": "stream",
     "text": [
      "10\n",
      "20\n",
      "30\n",
      "40\n",
      "60\n",
      "70\n",
      "80\n",
      "90\n",
      "100\n"
     ]
    }
   ],
   "source": [
    "l = [10,20,30,40,50,60,70,80,90,100]\n",
    "\n",
    "for i in l:\n",
    "    if i == 50:\n",
    "        continue\n",
    "    print(i)"
   ]
  },
  {
   "cell_type": "code",
   "execution_count": 107,
   "id": "166681b2",
   "metadata": {},
   "outputs": [
    {
     "name": "stdout",
     "output_type": "stream",
     "text": [
      "10\n",
      "20\n",
      "30\n",
      "40\n",
      "50\n",
      "60\n",
      "70\n",
      "80\n",
      "90\n",
      "100\n"
     ]
    }
   ],
   "source": [
    "l = [10,20,30,40,50,60,70,80,90,100]\n",
    "\n",
    "for i in l:\n",
    "    if i == 50:\n",
    "        pass\n",
    "    print(i)"
   ]
  },
  {
   "cell_type": "markdown",
   "id": "4473e621",
   "metadata": {},
   "source": [
    "## Functions \n",
    "\n",
    "* In built\n",
    "* UDF\n",
    "* Lambda"
   ]
  },
  {
   "cell_type": "code",
   "execution_count": 110,
   "id": "e956f43b",
   "metadata": {},
   "outputs": [
    {
     "name": "stdout",
     "output_type": "stream",
     "text": [
      "Enter your number:10\n"
     ]
    },
    {
     "data": {
      "text/plain": [
       "10"
      ]
     },
     "execution_count": 110,
     "metadata": {},
     "output_type": "execute_result"
    }
   ],
   "source": [
    "int(input('Enter your number:'))"
   ]
  },
  {
   "cell_type": "code",
   "execution_count": 111,
   "id": "74330cbb",
   "metadata": {},
   "outputs": [],
   "source": [
    "## C1 - print \n",
    "\n",
    "def sum_2_num():\n",
    "    x = int(input('Enter your 1st number:'))\n",
    "    y = int(input('Enter your 2nd number:'))\n",
    "    z = x+y\n",
    "    print(z)\n"
   ]
  },
  {
   "cell_type": "code",
   "execution_count": 114,
   "id": "4c4473cb",
   "metadata": {},
   "outputs": [
    {
     "name": "stdout",
     "output_type": "stream",
     "text": [
      "Enter your 1st number:10\n",
      "Enter your 2nd number:20\n",
      "30\n"
     ]
    }
   ],
   "source": [
    "op = sum_2_num()"
   ]
  },
  {
   "cell_type": "code",
   "execution_count": 115,
   "id": "2399ec01",
   "metadata": {},
   "outputs": [
    {
     "name": "stdout",
     "output_type": "stream",
     "text": [
      "None\n"
     ]
    }
   ],
   "source": [
    "print(op)"
   ]
  },
  {
   "cell_type": "code",
   "execution_count": 116,
   "id": "3625b3c8",
   "metadata": {},
   "outputs": [],
   "source": [
    "## c2 - return\n",
    "\n",
    "def sum_2_num_ret():\n",
    "    x = int(input('Enter your 1st number:'))\n",
    "    y = int(input('Enter your 2nd number:'))\n",
    "    z = x+y\n",
    "    return z"
   ]
  },
  {
   "cell_type": "code",
   "execution_count": 117,
   "id": "97d17bee",
   "metadata": {},
   "outputs": [
    {
     "name": "stdout",
     "output_type": "stream",
     "text": [
      "Enter your 1st number:10\n",
      "Enter your 2nd number:20\n"
     ]
    }
   ],
   "source": [
    "op = sum_2_num_ret()"
   ]
  },
  {
   "cell_type": "code",
   "execution_count": 119,
   "id": "4f1ea0cf",
   "metadata": {},
   "outputs": [
    {
     "data": {
      "text/plain": [
       "3000"
      ]
     },
     "execution_count": 119,
     "metadata": {},
     "output_type": "execute_result"
    }
   ],
   "source": [
    "op*100"
   ]
  },
  {
   "cell_type": "code",
   "execution_count": 120,
   "id": "bfe68168",
   "metadata": {},
   "outputs": [],
   "source": [
    "## Arguments \n",
    "\n",
    "def sum_2_num_args(x,y):\n",
    "    z = x+y\n",
    "    print(z)"
   ]
  },
  {
   "cell_type": "code",
   "execution_count": 121,
   "id": "af522a6b",
   "metadata": {},
   "outputs": [
    {
     "ename": "TypeError",
     "evalue": "sum_2_num_args() missing 2 required positional arguments: 'x' and 'y'",
     "output_type": "error",
     "traceback": [
      "\u001b[1;31m---------------------------------------------------------------------------\u001b[0m",
      "\u001b[1;31mTypeError\u001b[0m                                 Traceback (most recent call last)",
      "Input \u001b[1;32mIn [121]\u001b[0m, in \u001b[0;36m<cell line: 1>\u001b[1;34m()\u001b[0m\n\u001b[1;32m----> 1\u001b[0m \u001b[43msum_2_num_args\u001b[49m\u001b[43m(\u001b[49m\u001b[43m)\u001b[49m\n",
      "\u001b[1;31mTypeError\u001b[0m: sum_2_num_args() missing 2 required positional arguments: 'x' and 'y'"
     ]
    }
   ],
   "source": [
    "sum_2_num_args()"
   ]
  },
  {
   "cell_type": "code",
   "execution_count": 122,
   "id": "c433861e",
   "metadata": {},
   "outputs": [
    {
     "name": "stdout",
     "output_type": "stream",
     "text": [
      "30\n"
     ]
    }
   ],
   "source": [
    "sum_2_num_args(10,20)"
   ]
  },
  {
   "cell_type": "code",
   "execution_count": 128,
   "id": "cc60da58",
   "metadata": {},
   "outputs": [],
   "source": [
    "## Default Arguments \n",
    "\n",
    "def sum_2_num_args_def(x,y=[10,20,30]):\n",
    "    z = x+y\n",
    "    print(z)"
   ]
  },
  {
   "cell_type": "code",
   "execution_count": 125,
   "id": "9e7e9ceb",
   "metadata": {},
   "outputs": [
    {
     "ename": "TypeError",
     "evalue": "sum_2_num_args_def() missing 1 required positional argument: 'x'",
     "output_type": "error",
     "traceback": [
      "\u001b[1;31m---------------------------------------------------------------------------\u001b[0m",
      "\u001b[1;31mTypeError\u001b[0m                                 Traceback (most recent call last)",
      "Input \u001b[1;32mIn [125]\u001b[0m, in \u001b[0;36m<cell line: 1>\u001b[1;34m()\u001b[0m\n\u001b[1;32m----> 1\u001b[0m \u001b[43msum_2_num_args_def\u001b[49m\u001b[43m(\u001b[49m\u001b[43m)\u001b[49m\n",
      "\u001b[1;31mTypeError\u001b[0m: sum_2_num_args_def() missing 1 required positional argument: 'x'"
     ]
    }
   ],
   "source": [
    "sum_2_num_args_def()"
   ]
  },
  {
   "cell_type": "code",
   "execution_count": 129,
   "id": "23c7c27d",
   "metadata": {},
   "outputs": [
    {
     "ename": "TypeError",
     "evalue": "unsupported operand type(s) for +: 'int' and 'list'",
     "output_type": "error",
     "traceback": [
      "\u001b[1;31m---------------------------------------------------------------------------\u001b[0m",
      "\u001b[1;31mTypeError\u001b[0m                                 Traceback (most recent call last)",
      "Input \u001b[1;32mIn [129]\u001b[0m, in \u001b[0;36m<cell line: 1>\u001b[1;34m()\u001b[0m\n\u001b[1;32m----> 1\u001b[0m \u001b[43msum_2_num_args_def\u001b[49m\u001b[43m(\u001b[49m\u001b[38;5;241;43m20\u001b[39;49m\u001b[43m)\u001b[49m\n",
      "Input \u001b[1;32mIn [128]\u001b[0m, in \u001b[0;36msum_2_num_args_def\u001b[1;34m(x, y)\u001b[0m\n\u001b[0;32m      3\u001b[0m \u001b[38;5;28;01mdef\u001b[39;00m \u001b[38;5;21msum_2_num_args_def\u001b[39m(x,y\u001b[38;5;241m=\u001b[39m[\u001b[38;5;241m10\u001b[39m,\u001b[38;5;241m20\u001b[39m,\u001b[38;5;241m30\u001b[39m]):\n\u001b[1;32m----> 4\u001b[0m     z \u001b[38;5;241m=\u001b[39m \u001b[43mx\u001b[49m\u001b[38;5;241;43m+\u001b[39;49m\u001b[43my\u001b[49m\n\u001b[0;32m      5\u001b[0m     \u001b[38;5;28mprint\u001b[39m(z)\n",
      "\u001b[1;31mTypeError\u001b[0m: unsupported operand type(s) for +: 'int' and 'list'"
     ]
    }
   ],
   "source": [
    "sum_2_num_args_def(20)"
   ]
  },
  {
   "cell_type": "code",
   "execution_count": 127,
   "id": "9257bd2b",
   "metadata": {},
   "outputs": [
    {
     "name": "stdout",
     "output_type": "stream",
     "text": [
      "220\n"
     ]
    }
   ],
   "source": [
    "sum_2_num_args_def(20,200)"
   ]
  },
  {
   "cell_type": "code",
   "execution_count": null,
   "id": "9f39fe33",
   "metadata": {},
   "outputs": [],
   "source": []
  },
  {
   "cell_type": "markdown",
   "id": "6bda8848",
   "metadata": {},
   "source": [
    "## Lambda "
   ]
  },
  {
   "cell_type": "code",
   "execution_count": 130,
   "id": "4a0cbb1b",
   "metadata": {},
   "outputs": [
    {
     "data": {
      "text/plain": [
       "30"
      ]
     },
     "execution_count": 130,
     "metadata": {},
     "output_type": "execute_result"
    }
   ],
   "source": [
    "# syntax : lambda comma arguments:code \n",
    "\n",
    "f = lambda x,y:x+y\n",
    "f(10,20)"
   ]
  },
  {
   "cell_type": "code",
   "execution_count": 131,
   "id": "6dc5a41c",
   "metadata": {},
   "outputs": [
    {
     "data": {
      "text/plain": [
       "'not ok'"
      ]
     },
     "execution_count": 131,
     "metadata": {},
     "output_type": "execute_result"
    }
   ],
   "source": [
    "x = 10\n",
    "\n",
    "# if x >10:\n",
    "#     print('ok')\n",
    "# else:\n",
    "#     print('not ok')\n",
    "    \n",
    "#comprehension > A1 If else A2\n",
    "\n",
    "'ok' if x >10 else 'not ok'"
   ]
  },
  {
   "cell_type": "code",
   "execution_count": null,
   "id": "7e73875e",
   "metadata": {},
   "outputs": [],
   "source": []
  },
  {
   "cell_type": "code",
   "execution_count": null,
   "id": "293ae780",
   "metadata": {},
   "outputs": [],
   "source": []
  },
  {
   "cell_type": "code",
   "execution_count": null,
   "id": "d01b0d5e",
   "metadata": {},
   "outputs": [],
   "source": []
  },
  {
   "cell_type": "code",
   "execution_count": null,
   "id": "8d07f12a",
   "metadata": {},
   "outputs": [],
   "source": []
  },
  {
   "cell_type": "code",
   "execution_count": null,
   "id": "94f4cf34",
   "metadata": {},
   "outputs": [],
   "source": []
  },
  {
   "cell_type": "code",
   "execution_count": null,
   "id": "009c47f0",
   "metadata": {},
   "outputs": [],
   "source": []
  },
  {
   "cell_type": "markdown",
   "id": "09513ed5",
   "metadata": {},
   "source": [
    "## Modules (Libraries) \n",
    "\n",
    "* Numpy\n",
    "* Pandas \n",
    "* SciPy\n",
    "* Etc.. "
   ]
  },
  {
   "cell_type": "code",
   "execution_count": null,
   "id": "03d16fcc",
   "metadata": {},
   "outputs": [],
   "source": []
  }
 ],
 "metadata": {
  "kernelspec": {
   "display_name": "Python 3 (ipykernel)",
   "language": "python",
   "name": "python3"
  },
  "language_info": {
   "codemirror_mode": {
    "name": "ipython",
    "version": 3
   },
   "file_extension": ".py",
   "mimetype": "text/x-python",
   "name": "python",
   "nbconvert_exporter": "python",
   "pygments_lexer": "ipython3",
   "version": "3.9.12"
  }
 },
 "nbformat": 4,
 "nbformat_minor": 5
}
