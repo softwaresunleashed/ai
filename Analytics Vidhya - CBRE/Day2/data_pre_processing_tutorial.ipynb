{
 "cells": [
  {
   "cell_type": "markdown",
   "id": "beneficial-senegal",
   "metadata": {
    "papermill": {
     "duration": 0.141889,
     "end_time": "2021-07-07T05:11:12.039381",
     "exception": false,
     "start_time": "2021-07-07T05:11:11.897492",
     "status": "completed"
    },
    "tags": []
   },
   "source": [
    "## Content\n",
    "\n",
    "- **Data Cleaning / Cleasing**\n",
    "    - Noisy Data\n",
    "    - Missing Data Analysis\n",
    "    - Outlier Detection\n",
    "- **Data Standardization / Feature Scaling**\n",
    "    - Normalization(0-1 Scaling)\n",
    "    - Standardization(Z Score Scaling)\n",
    "    - Min-Max Scaling\n",
    "    - Binary Transformation\n",
    "- **Variable Transformation**\n",
    "    - Label Encoding\n",
    "    - One Hot Encoding"
   ]
  },
  {
   "cell_type": "markdown",
   "id": "progressive-symphony",
   "metadata": {
    "papermill": {
     "duration": 0.145372,
     "end_time": "2021-07-07T05:11:12.894368",
     "exception": false,
     "start_time": "2021-07-07T05:11:12.748996",
     "status": "completed"
    },
    "tags": []
   },
   "source": [
    "## Importing Libraries"
   ]
  },
  {
   "cell_type": "code",
   "execution_count": 1,
   "id": "mental-reason",
   "metadata": {
    "execution": {
     "iopub.execute_input": "2021-07-07T05:11:13.186337Z",
     "iopub.status.busy": "2021-07-07T05:11:13.185620Z",
     "iopub.status.idle": "2021-07-07T05:11:13.189247Z",
     "shell.execute_reply": "2021-07-07T05:11:13.188461Z",
     "shell.execute_reply.started": "2021-07-07T05:06:43.576567Z"
    },
    "papermill": {
     "duration": 0.156428,
     "end_time": "2021-07-07T05:11:13.189418",
     "exception": false,
     "start_time": "2021-07-07T05:11:13.032990",
     "status": "completed"
    },
    "tags": []
   },
   "outputs": [],
   "source": [
    "import pandas as pd"
   ]
  },
  {
   "cell_type": "code",
   "execution_count": 2,
   "id": "proprietary-friday",
   "metadata": {
    "execution": {
     "iopub.execute_input": "2021-07-07T05:11:13.475729Z",
     "iopub.status.busy": "2021-07-07T05:11:13.475042Z",
     "iopub.status.idle": "2021-07-07T05:11:13.477584Z",
     "shell.execute_reply": "2021-07-07T05:11:13.476905Z",
     "shell.execute_reply.started": "2021-07-07T05:06:43.590021Z"
    },
    "papermill": {
     "duration": 0.144917,
     "end_time": "2021-07-07T05:11:13.477747",
     "exception": false,
     "start_time": "2021-07-07T05:11:13.332830",
     "status": "completed"
    },
    "tags": []
   },
   "outputs": [],
   "source": [
    "import numpy as np"
   ]
  },
  {
   "cell_type": "code",
   "execution_count": 3,
   "id": "flush-arctic",
   "metadata": {
    "execution": {
     "iopub.execute_input": "2021-07-07T05:11:13.762522Z",
     "iopub.status.busy": "2021-07-07T05:11:13.761796Z",
     "iopub.status.idle": "2021-07-07T05:11:13.764178Z",
     "shell.execute_reply": "2021-07-07T05:11:13.763459Z",
     "shell.execute_reply.started": "2021-07-07T05:06:43.605997Z"
    },
    "papermill": {
     "duration": 0.147107,
     "end_time": "2021-07-07T05:11:13.764338",
     "exception": false,
     "start_time": "2021-07-07T05:11:13.617231",
     "status": "completed"
    },
    "tags": []
   },
   "outputs": [],
   "source": [
    "import math"
   ]
  },
  {
   "cell_type": "code",
   "execution_count": 4,
   "id": "handed-bedroom",
   "metadata": {
    "execution": {
     "iopub.execute_input": "2021-07-07T05:11:14.055992Z",
     "iopub.status.busy": "2021-07-07T05:11:14.055278Z",
     "iopub.status.idle": "2021-07-07T05:11:15.087827Z",
     "shell.execute_reply": "2021-07-07T05:11:15.087133Z",
     "shell.execute_reply.started": "2021-07-07T05:06:43.636894Z"
    },
    "papermill": {
     "duration": 1.181786,
     "end_time": "2021-07-07T05:11:15.087975",
     "exception": false,
     "start_time": "2021-07-07T05:11:13.906189",
     "status": "completed"
    },
    "tags": []
   },
   "outputs": [],
   "source": [
    "import seaborn as sns"
   ]
  },
  {
   "cell_type": "code",
   "execution_count": 5,
   "id": "cooperative-macintosh",
   "metadata": {
    "execution": {
     "iopub.execute_input": "2021-07-07T05:11:15.369162Z",
     "iopub.status.busy": "2021-07-07T05:11:15.368473Z",
     "iopub.status.idle": "2021-07-07T05:11:15.372195Z",
     "shell.execute_reply": "2021-07-07T05:11:15.372767Z",
     "shell.execute_reply.started": "2021-07-07T05:06:44.523945Z"
    },
    "papermill": {
     "duration": 0.14451,
     "end_time": "2021-07-07T05:11:15.372945",
     "exception": false,
     "start_time": "2021-07-07T05:11:15.228435",
     "status": "completed"
    },
    "tags": []
   },
   "outputs": [],
   "source": [
    "import matplotlib.pyplot as plt"
   ]
  },
  {
   "cell_type": "code",
   "execution_count": 6,
   "id": "northern-shakespeare",
   "metadata": {
    "execution": {
     "iopub.execute_input": "2021-07-07T05:11:15.651090Z",
     "iopub.status.busy": "2021-07-07T05:11:15.650289Z",
     "iopub.status.idle": "2021-07-07T05:11:16.101859Z",
     "shell.execute_reply": "2021-07-07T05:11:16.101030Z",
     "shell.execute_reply.started": "2021-07-07T05:06:44.530329Z"
    },
    "papermill": {
     "duration": 0.591757,
     "end_time": "2021-07-07T05:11:16.102042",
     "exception": false,
     "start_time": "2021-07-07T05:11:15.510285",
     "status": "completed"
    },
    "tags": []
   },
   "outputs": [],
   "source": [
    "from sklearn.neighbors import LocalOutlierFactor"
   ]
  },
  {
   "cell_type": "code",
   "execution_count": 4,
   "id": "expensive-corruption",
   "metadata": {
    "execution": {
     "iopub.execute_input": "2021-07-07T05:11:16.421729Z",
     "iopub.status.busy": "2021-07-07T05:11:16.420763Z",
     "iopub.status.idle": "2021-07-07T05:11:16.430364Z",
     "shell.execute_reply": "2021-07-07T05:11:16.431202Z",
     "shell.execute_reply.started": "2021-07-07T05:06:44.916876Z"
    },
    "papermill": {
     "duration": 0.167583,
     "end_time": "2021-07-07T05:11:16.431448",
     "exception": false,
     "start_time": "2021-07-07T05:11:16.263865",
     "status": "completed"
    },
    "tags": []
   },
   "outputs": [],
   "source": [
    "import missingno as msno"
   ]
  },
  {
   "cell_type": "code",
   "execution_count": 5,
   "id": "civic-monitor",
   "metadata": {
    "execution": {
     "iopub.execute_input": "2021-07-07T05:11:16.720716Z",
     "iopub.status.busy": "2021-07-07T05:11:16.719979Z",
     "iopub.status.idle": "2021-07-07T05:11:25.949367Z",
     "shell.execute_reply": "2021-07-07T05:11:25.948322Z"
    },
    "papermill": {
     "duration": 9.371354,
     "end_time": "2021-07-07T05:11:25.949530",
     "exception": false,
     "start_time": "2021-07-07T05:11:16.578176",
     "status": "completed"
    },
    "tags": []
   },
   "outputs": [
    {
     "name": "stdout",
     "output_type": "stream",
     "text": [
      "Collecting ycimpute\n",
      "  Downloading ycimpute-0.2-py3-none-any.whl (35 kB)\n",
      "Requirement already satisfied: scikit-learn>=0.17.1 in c:\\users\\jaina\\anaconda3\\lib\\site-packages (from ycimpute) (1.0.2)\n",
      "Requirement already satisfied: six in c:\\users\\jaina\\anaconda3\\lib\\site-packages (from ycimpute) (1.16.0)\n",
      "Requirement already satisfied: numpy>=1.10 in c:\\users\\jaina\\anaconda3\\lib\\site-packages (from ycimpute) (1.21.5)\n",
      "Collecting torch>=1.1.0\n",
      "  Downloading torch-2.1.0-cp39-cp39-win_amd64.whl (192.2 MB)\n",
      "Requirement already satisfied: scipy in c:\\users\\jaina\\anaconda3\\lib\\site-packages (from ycimpute) (1.7.3)\n",
      "Requirement already satisfied: joblib>=0.11 in c:\\users\\jaina\\anaconda3\\lib\\site-packages (from scikit-learn>=0.17.1->ycimpute) (1.1.0)\n",
      "Requirement already satisfied: threadpoolctl>=2.0.0 in c:\\users\\jaina\\anaconda3\\lib\\site-packages (from scikit-learn>=0.17.1->ycimpute) (2.2.0)\n",
      "Requirement already satisfied: filelock in c:\\users\\jaina\\anaconda3\\lib\\site-packages (from torch>=1.1.0->ycimpute) (3.6.0)\n",
      "Requirement already satisfied: typing-extensions in c:\\users\\jaina\\anaconda3\\lib\\site-packages (from torch>=1.1.0->ycimpute) (4.4.0)\n",
      "Requirement already satisfied: jinja2 in c:\\users\\jaina\\anaconda3\\lib\\site-packages (from torch>=1.1.0->ycimpute) (2.11.3)\n",
      "Requirement already satisfied: fsspec in c:\\users\\jaina\\anaconda3\\lib\\site-packages (from torch>=1.1.0->ycimpute) (2022.2.0)\n",
      "Requirement already satisfied: networkx in c:\\users\\jaina\\anaconda3\\lib\\site-packages (from torch>=1.1.0->ycimpute) (2.7.1)\n",
      "Requirement already satisfied: sympy in c:\\users\\jaina\\anaconda3\\lib\\site-packages (from torch>=1.1.0->ycimpute) (1.10.1)\n",
      "Requirement already satisfied: MarkupSafe>=0.23 in c:\\users\\jaina\\anaconda3\\lib\\site-packages (from jinja2->torch>=1.1.0->ycimpute) (2.0.1)\n",
      "Requirement already satisfied: mpmath>=0.19 in c:\\users\\jaina\\anaconda3\\lib\\site-packages (from sympy->torch>=1.1.0->ycimpute) (1.2.1)\n",
      "Installing collected packages: torch, ycimpute\n",
      "Successfully installed torch-2.1.0 ycimpute-0.2\n"
     ]
    }
   ],
   "source": [
    "!pip install ycimpute"
   ]
  },
  {
   "cell_type": "code",
   "execution_count": 9,
   "id": "related-sender",
   "metadata": {
    "execution": {
     "iopub.execute_input": "2021-07-07T05:11:26.238206Z",
     "iopub.status.busy": "2021-07-07T05:11:26.237208Z",
     "iopub.status.idle": "2021-07-07T05:11:27.479876Z",
     "shell.execute_reply": "2021-07-07T05:11:27.479190Z",
     "shell.execute_reply.started": "2021-07-07T05:07:28.868759Z"
    },
    "papermill": {
     "duration": 1.387852,
     "end_time": "2021-07-07T05:11:27.480031",
     "exception": false,
     "start_time": "2021-07-07T05:11:26.092179",
     "status": "completed"
    },
    "tags": []
   },
   "outputs": [],
   "source": [
    "from ycimpute.imputer import knnimput"
   ]
  },
  {
   "cell_type": "code",
   "execution_count": 10,
   "id": "horizontal-custody",
   "metadata": {
    "execution": {
     "iopub.execute_input": "2021-07-07T05:11:27.764604Z",
     "iopub.status.busy": "2021-07-07T05:11:27.763971Z",
     "iopub.status.idle": "2021-07-07T05:11:27.767437Z",
     "shell.execute_reply": "2021-07-07T05:11:27.766924Z",
     "shell.execute_reply.started": "2021-07-07T05:07:30.119373Z"
    },
    "papermill": {
     "duration": 0.148555,
     "end_time": "2021-07-07T05:11:27.767581",
     "exception": false,
     "start_time": "2021-07-07T05:11:27.619026",
     "status": "completed"
    },
    "tags": []
   },
   "outputs": [],
   "source": [
    "from ycimpute.imputer import iterforest"
   ]
  },
  {
   "cell_type": "code",
   "execution_count": 11,
   "id": "narrow-matthew",
   "metadata": {
    "execution": {
     "iopub.execute_input": "2021-07-07T05:11:28.107509Z",
     "iopub.status.busy": "2021-07-07T05:11:28.106819Z",
     "iopub.status.idle": "2021-07-07T05:11:28.109864Z",
     "shell.execute_reply": "2021-07-07T05:11:28.109221Z",
     "shell.execute_reply.started": "2021-07-07T05:07:30.125816Z"
    },
    "papermill": {
     "duration": 0.147361,
     "end_time": "2021-07-07T05:11:28.110008",
     "exception": false,
     "start_time": "2021-07-07T05:11:27.962647",
     "status": "completed"
    },
    "tags": []
   },
   "outputs": [],
   "source": [
    "from ycimpute.imputer import EM"
   ]
  },
  {
   "cell_type": "code",
   "execution_count": 18,
   "id": "mechanical-deposit",
   "metadata": {
    "execution": {
     "iopub.execute_input": "2021-07-07T05:11:28.396658Z",
     "iopub.status.busy": "2021-07-07T05:11:28.395988Z",
     "iopub.status.idle": "2021-07-07T05:11:28.399197Z",
     "shell.execute_reply": "2021-07-07T05:11:28.398693Z",
     "shell.execute_reply.started": "2021-07-07T05:07:33.427565Z"
    },
    "papermill": {
     "duration": 0.147663,
     "end_time": "2021-07-07T05:11:28.399339",
     "exception": false,
     "start_time": "2021-07-07T05:11:28.251676",
     "status": "completed"
    },
    "tags": []
   },
   "outputs": [],
   "source": [
    "from sklearn import preprocessing"
   ]
  },
  {
   "cell_type": "code",
   "execution_count": 13,
   "id": "mechanical-character",
   "metadata": {
    "execution": {
     "iopub.execute_input": "2021-07-07T05:11:28.683225Z",
     "iopub.status.busy": "2021-07-07T05:11:28.682566Z",
     "iopub.status.idle": "2021-07-07T05:11:28.685192Z",
     "shell.execute_reply": "2021-07-07T05:11:28.685711Z",
     "shell.execute_reply.started": "2021-07-07T05:07:34.321918Z"
    },
    "papermill": {
     "duration": 0.146523,
     "end_time": "2021-07-07T05:11:28.685882",
     "exception": false,
     "start_time": "2021-07-07T05:11:28.539359",
     "status": "completed"
    },
    "tags": []
   },
   "outputs": [],
   "source": [
    "from sklearn.preprocessing import LabelEncoder"
   ]
  },
  {
   "cell_type": "code",
   "execution_count": 14,
   "id": "inside-fireplace",
   "metadata": {
    "execution": {
     "iopub.execute_input": "2021-07-07T05:11:28.973412Z",
     "iopub.status.busy": "2021-07-07T05:11:28.972627Z",
     "iopub.status.idle": "2021-07-07T05:11:28.975693Z",
     "shell.execute_reply": "2021-07-07T05:11:28.975149Z",
     "shell.execute_reply.started": "2021-07-07T05:07:35.237614Z"
    },
    "papermill": {
     "duration": 0.148117,
     "end_time": "2021-07-07T05:11:28.975839",
     "exception": false,
     "start_time": "2021-07-07T05:11:28.827722",
     "status": "completed"
    },
    "tags": []
   },
   "outputs": [],
   "source": [
    "from sklearn.preprocessing import OneHotEncoder"
   ]
  },
  {
   "cell_type": "markdown",
   "id": "standing-fraction",
   "metadata": {
    "papermill": {
     "duration": 0.140385,
     "end_time": "2021-07-07T05:11:29.259387",
     "exception": false,
     "start_time": "2021-07-07T05:11:29.119002",
     "status": "completed"
    },
    "tags": []
   },
   "source": [
    "## Data Cleaning / Cleasing"
   ]
  },
  {
   "cell_type": "markdown",
   "id": "south-uncle",
   "metadata": {
    "papermill": {
     "duration": 0.144092,
     "end_time": "2021-07-07T05:11:29.544819",
     "exception": false,
     "start_time": "2021-07-07T05:11:29.400727",
     "status": "completed"
    },
    "tags": []
   },
   "source": [
    "### Outlier Detection"
   ]
  },
  {
   "cell_type": "markdown",
   "id": "combined-victory",
   "metadata": {
    "papermill": {
     "duration": 0.141275,
     "end_time": "2021-07-07T05:11:29.826250",
     "exception": false,
     "start_time": "2021-07-07T05:11:29.684975",
     "status": "completed"
    },
    "tags": []
   },
   "source": [
    "In statistics, an outlier is a data point that differs significantly from other observations. An outlier may be due to variability in the measurement or it may indicate experimental error; the latter are sometimes excluded from the data set. An outlier can cause serious problems in statistical analyses."
   ]
  },
  {
   "cell_type": "markdown",
   "id": "recorded-vacuum",
   "metadata": {
    "papermill": {
     "duration": 0.14063,
     "end_time": "2021-07-07T05:11:30.108186",
     "exception": false,
     "start_time": "2021-07-07T05:11:29.967556",
     "status": "completed"
    },
    "tags": []
   },
   "source": [
    "**How to Identify Outliers in our Data?**"
   ]
  },
  {
   "cell_type": "markdown",
   "id": "remarkable-struggle",
   "metadata": {
    "papermill": {
     "duration": 0.141264,
     "end_time": "2021-07-07T05:11:30.390075",
     "exception": false,
     "start_time": "2021-07-07T05:11:30.248811",
     "status": "completed"
    },
    "tags": []
   },
   "source": [
    "**Mean and Standard Deviation Method:** For this outlier detection method, the mean and standard deviation of the residuals are calculated and compared. If a value is a certain number of standard deviations away from the mean, that data point is identified as an outlier. The specified number of standard deviations is called the threshold. The default value is 3. This method can fail to detect outliers because the outliers increase the standard deviation. The more extreme the outlier, the more the standard deviation is affected.\n",
    "\n",
    "**Z Score:** Z score is an important concept in statistics. Z score is also called standard score. This score helps to understand if a data value is greater or smaller than mean and how far away it is from the mean. More specifically, Z score tells how many standard deviations away a data point is from the mean.\n",
    "\n",
    "**IQR-Boxplot:** For this outlier detection method, the median of the residuals is calculated, along with the 25th percentile and the 75th percentile. The difference between the 25th and 75th percentile is the interquartile deviation (IQD). Then, the difference is calculated between each historical value and the residual median. If the historical value is a certain number of Median Absolute Deviation(MAD) away from the median of the residuals, that value is classified as an outlier. The default threshold is 2.22, which is equivalent to 3 standard deviations or MADs. This method is somewhat susceptible to influence from extreme outliers, but less so than the mean and standard deviation method. Box plots are based on this approach. The median and interquartile deviation method can be used for both symmetric and asymmetric data.\n",
    "\n",
    "- lower inner fence: Q1 - 1.5*IQ\n",
    "- upper inner fence: Q3 + 1.5*IQ\n",
    "- lower outer fence: Q1 - 3*IQ\n",
    "- upper outer fence: Q3 + 3*IQ"
   ]
  },
  {
   "cell_type": "markdown",
   "id": "patient-telling",
   "metadata": {
    "papermill": {
     "duration": 0.159807,
     "end_time": "2021-07-07T05:11:30.690797",
     "exception": false,
     "start_time": "2021-07-07T05:11:30.530990",
     "status": "completed"
    },
    "tags": []
   },
   "source": [
    "**Outlier Detection**"
   ]
  },
  {
   "cell_type": "markdown",
   "id": "exceptional-reputation",
   "metadata": {
    "papermill": {
     "duration": 0.1391,
     "end_time": "2021-07-07T05:11:30.977780",
     "exception": false,
     "start_time": "2021-07-07T05:11:30.838680",
     "status": "completed"
    },
    "tags": []
   },
   "source": [
    "For a real world example, we will use *diamonds* dataset from seaborn."
   ]
  },
  {
   "cell_type": "code",
   "execution_count": 15,
   "id": "independent-crossing",
   "metadata": {
    "execution": {
     "iopub.execute_input": "2021-07-07T05:11:31.296798Z",
     "iopub.status.busy": "2021-07-07T05:11:31.295018Z",
     "iopub.status.idle": "2021-07-07T05:11:32.883894Z",
     "shell.execute_reply": "2021-07-07T05:11:32.884466Z",
     "shell.execute_reply.started": "2021-07-07T05:07:45.878287Z"
    },
    "papermill": {
     "duration": 1.765948,
     "end_time": "2021-07-07T05:11:32.884662",
     "exception": false,
     "start_time": "2021-07-07T05:11:31.118714",
     "status": "completed"
    },
    "tags": []
   },
   "outputs": [
    {
     "data": {
      "text/html": [
       "<div>\n",
       "<style scoped>\n",
       "    .dataframe tbody tr th:only-of-type {\n",
       "        vertical-align: middle;\n",
       "    }\n",
       "\n",
       "    .dataframe tbody tr th {\n",
       "        vertical-align: top;\n",
       "    }\n",
       "\n",
       "    .dataframe thead th {\n",
       "        text-align: right;\n",
       "    }\n",
       "</style>\n",
       "<table border=\"1\" class=\"dataframe\">\n",
       "  <thead>\n",
       "    <tr style=\"text-align: right;\">\n",
       "      <th></th>\n",
       "      <th>carat</th>\n",
       "      <th>depth</th>\n",
       "      <th>table</th>\n",
       "      <th>price</th>\n",
       "      <th>x</th>\n",
       "      <th>y</th>\n",
       "      <th>z</th>\n",
       "    </tr>\n",
       "  </thead>\n",
       "  <tbody>\n",
       "    <tr>\n",
       "      <th>0</th>\n",
       "      <td>0.23</td>\n",
       "      <td>61.5</td>\n",
       "      <td>55.0</td>\n",
       "      <td>326</td>\n",
       "      <td>3.95</td>\n",
       "      <td>3.98</td>\n",
       "      <td>2.43</td>\n",
       "    </tr>\n",
       "    <tr>\n",
       "      <th>1</th>\n",
       "      <td>0.21</td>\n",
       "      <td>59.8</td>\n",
       "      <td>61.0</td>\n",
       "      <td>326</td>\n",
       "      <td>3.89</td>\n",
       "      <td>3.84</td>\n",
       "      <td>2.31</td>\n",
       "    </tr>\n",
       "    <tr>\n",
       "      <th>2</th>\n",
       "      <td>0.23</td>\n",
       "      <td>56.9</td>\n",
       "      <td>65.0</td>\n",
       "      <td>327</td>\n",
       "      <td>4.05</td>\n",
       "      <td>4.07</td>\n",
       "      <td>2.31</td>\n",
       "    </tr>\n",
       "    <tr>\n",
       "      <th>3</th>\n",
       "      <td>0.29</td>\n",
       "      <td>62.4</td>\n",
       "      <td>58.0</td>\n",
       "      <td>334</td>\n",
       "      <td>4.20</td>\n",
       "      <td>4.23</td>\n",
       "      <td>2.63</td>\n",
       "    </tr>\n",
       "    <tr>\n",
       "      <th>4</th>\n",
       "      <td>0.31</td>\n",
       "      <td>63.3</td>\n",
       "      <td>58.0</td>\n",
       "      <td>335</td>\n",
       "      <td>4.34</td>\n",
       "      <td>4.35</td>\n",
       "      <td>2.75</td>\n",
       "    </tr>\n",
       "  </tbody>\n",
       "</table>\n",
       "</div>"
      ],
      "text/plain": [
       "   carat  depth  table  price     x     y     z\n",
       "0   0.23   61.5   55.0    326  3.95  3.98  2.43\n",
       "1   0.21   59.8   61.0    326  3.89  3.84  2.31\n",
       "2   0.23   56.9   65.0    327  4.05  4.07  2.31\n",
       "3   0.29   62.4   58.0    334  4.20  4.23  2.63\n",
       "4   0.31   63.3   58.0    335  4.34  4.35  2.75"
      ]
     },
     "execution_count": 15,
     "metadata": {},
     "output_type": "execute_result"
    }
   ],
   "source": [
    "df = sns.load_dataset(\"diamonds\")\n",
    "df = df.select_dtypes(include=[\"float64\",\"int64\"])\n",
    "df.dropna(inplace=True)\n",
    "df.head()"
   ]
  },
  {
   "cell_type": "code",
   "execution_count": 16,
   "id": "coral-short",
   "metadata": {
    "execution": {
     "iopub.execute_input": "2021-07-07T05:11:33.191007Z",
     "iopub.status.busy": "2021-07-07T05:11:33.190317Z",
     "iopub.status.idle": "2021-07-07T05:11:33.196621Z",
     "shell.execute_reply": "2021-07-07T05:11:33.197385Z",
     "shell.execute_reply.started": "2021-07-07T05:07:46.596132Z"
    },
    "papermill": {
     "duration": 0.173098,
     "end_time": "2021-07-07T05:11:33.197693",
     "exception": false,
     "start_time": "2021-07-07T05:11:33.024595",
     "status": "completed"
    },
    "tags": []
   },
   "outputs": [
    {
     "data": {
      "text/plain": [
       "(53940, 7)"
      ]
     },
     "execution_count": 16,
     "metadata": {},
     "output_type": "execute_result"
    }
   ],
   "source": [
    "df.shape"
   ]
  },
  {
   "cell_type": "code",
   "execution_count": 17,
   "id": "express-faculty",
   "metadata": {
    "execution": {
     "iopub.execute_input": "2021-07-07T05:11:33.487222Z",
     "iopub.status.busy": "2021-07-07T05:11:33.486536Z",
     "iopub.status.idle": "2021-07-07T05:11:33.493028Z",
     "shell.execute_reply": "2021-07-07T05:11:33.493554Z",
     "shell.execute_reply.started": "2021-07-07T05:07:46.604795Z"
    },
    "papermill": {
     "duration": 0.151065,
     "end_time": "2021-07-07T05:11:33.493740",
     "exception": false,
     "start_time": "2021-07-07T05:11:33.342675",
     "status": "completed"
    },
    "tags": []
   },
   "outputs": [
    {
     "data": {
      "text/plain": [
       "0    55.0\n",
       "1    61.0\n",
       "2    65.0\n",
       "3    58.0\n",
       "4    58.0\n",
       "Name: table, dtype: float64"
      ]
     },
     "execution_count": 17,
     "metadata": {},
     "output_type": "execute_result"
    }
   ],
   "source": [
    "df_table = df[\"table\"]\n",
    "df_table.head()"
   ]
  },
  {
   "cell_type": "markdown",
   "id": "parallel-breathing",
   "metadata": {
    "papermill": {
     "duration": 0.142251,
     "end_time": "2021-07-07T05:11:33.777268",
     "exception": false,
     "start_time": "2021-07-07T05:11:33.635017",
     "status": "completed"
    },
    "tags": []
   },
   "source": [
    "Let's plot table variable in order to see outliers."
   ]
  },
  {
   "cell_type": "code",
   "execution_count": 18,
   "id": "clinical-session",
   "metadata": {
    "execution": {
     "iopub.execute_input": "2021-07-07T05:11:34.065270Z",
     "iopub.status.busy": "2021-07-07T05:11:34.064600Z",
     "iopub.status.idle": "2021-07-07T05:11:34.218961Z",
     "shell.execute_reply": "2021-07-07T05:11:34.219510Z",
     "shell.execute_reply.started": "2021-07-07T05:07:47.172797Z"
    },
    "papermill": {
     "duration": 0.3008,
     "end_time": "2021-07-07T05:11:34.219713",
     "exception": false,
     "start_time": "2021-07-07T05:11:33.918913",
     "status": "completed"
    },
    "tags": []
   },
   "outputs": [
    {
     "data": {
      "image/png": "[encoded data removed]",
      "text/plain": [
       "<Figure size 432x288 with 1 Axes>"
      ]
     },
     "metadata": {
      "needs_background": "light"
     },
     "output_type": "display_data"
    }
   ],
   "source": [
    "sns.boxplot(x=df_table)\n",
    "plt.title(\"Boxplot of Table Variable of Diamonds Dataset\")\n",
    "plt.show()"
   ]
  },
  {
   "cell_type": "code",
   "execution_count": 19,
   "id": "stone-bleeding",
   "metadata": {
    "execution": {
     "iopub.execute_input": "2021-07-07T05:11:34.506617Z",
     "iopub.status.busy": "2021-07-07T05:11:34.505997Z",
     "iopub.status.idle": "2021-07-07T05:11:34.519117Z",
     "shell.execute_reply": "2021-07-07T05:11:34.519618Z",
     "shell.execute_reply.started": "2021-07-07T05:07:47.534146Z"
    },
    "papermill": {
     "duration": 0.158989,
     "end_time": "2021-07-07T05:11:34.519809",
     "exception": false,
     "start_time": "2021-07-07T05:11:34.360820",
     "status": "completed"
    },
    "tags": []
   },
   "outputs": [
    {
     "data": {
      "text/plain": [
       "count    53940.000000\n",
       "mean        57.457184\n",
       "std          2.234491\n",
       "min         43.000000\n",
       "25%         56.000000\n",
       "50%         57.000000\n",
       "75%         59.000000\n",
       "max         95.000000\n",
       "Name: table, dtype: float64"
      ]
     },
     "execution_count": 19,
     "metadata": {},
     "output_type": "execute_result"
    }
   ],
   "source": [
    "df_table.describe()"
   ]
  },
  {
   "cell_type": "markdown",
   "id": "documentary-jerusalem",
   "metadata": {
    "papermill": {
     "duration": 0.143176,
     "end_time": "2021-07-07T05:11:34.806439",
     "exception": false,
     "start_time": "2021-07-07T05:11:34.663263",
     "status": "completed"
    },
    "tags": []
   },
   "source": [
    "Let's calculate the IQR."
   ]
  },
  {
   "cell_type": "code",
   "execution_count": 20,
   "id": "studied-scheme",
   "metadata": {
    "execution": {
     "iopub.execute_input": "2021-07-07T05:11:35.093446Z",
     "iopub.status.busy": "2021-07-07T05:11:35.092851Z",
     "iopub.status.idle": "2021-07-07T05:11:35.105445Z",
     "shell.execute_reply": "2021-07-07T05:11:35.104456Z",
     "shell.execute_reply.started": "2021-07-07T05:07:48.540420Z"
    },
    "papermill": {
     "duration": 0.157448,
     "end_time": "2021-07-07T05:11:35.105746",
     "exception": false,
     "start_time": "2021-07-07T05:11:34.948298",
     "status": "completed"
    },
    "tags": []
   },
   "outputs": [
    {
     "name": "stdout",
     "output_type": "stream",
     "text": [
      "Q1:  56.0\n",
      "Q3:  59.0\n",
      "IQR:  3.0\n"
     ]
    }
   ],
   "source": [
    "quantile1 = df_table.quantile(0.25)\n",
    "quantile3 = df_table.quantile(0.75)\n",
    "IQR = quantile3-quantile1\n",
    "\n",
    "print(\"Q1: \", quantile1)\n",
    "print(\"Q3: \", quantile3)\n",
    "print(\"IQR: \", IQR)"
   ]
  },
  {
   "cell_type": "code",
   "execution_count": 21,
   "id": "supreme-trader",
   "metadata": {
    "execution": {
     "iopub.execute_input": "2021-07-07T05:11:35.396226Z",
     "iopub.status.busy": "2021-07-07T05:11:35.395538Z",
     "iopub.status.idle": "2021-07-07T05:11:35.397401Z",
     "shell.execute_reply": "2021-07-07T05:11:35.397960Z",
     "shell.execute_reply.started": "2021-07-07T05:07:48.955560Z"
    },
    "papermill": {
     "duration": 0.14893,
     "end_time": "2021-07-07T05:11:35.398136",
     "exception": false,
     "start_time": "2021-07-07T05:11:35.249206",
     "status": "completed"
    },
    "tags": []
   },
   "outputs": [],
   "source": [
    "lower_inner_fence = quantile1 - 1.5*IQR\n",
    "upper_inner_fence = quantile3 + 1.5*IQR"
   ]
  },
  {
   "cell_type": "code",
   "execution_count": 22,
   "id": "integrated-myrtle",
   "metadata": {
    "execution": {
     "iopub.execute_input": "2021-07-07T05:11:35.688390Z",
     "iopub.status.busy": "2021-07-07T05:11:35.687736Z",
     "iopub.status.idle": "2021-07-07T05:11:35.694689Z",
     "shell.execute_reply": "2021-07-07T05:11:35.693827Z",
     "shell.execute_reply.started": "2021-07-07T05:07:49.369594Z"
    },
    "papermill": {
     "duration": 0.151845,
     "end_time": "2021-07-07T05:11:35.694871",
     "exception": false,
     "start_time": "2021-07-07T05:11:35.543026",
     "status": "completed"
    },
    "tags": []
   },
   "outputs": [
    {
     "name": "stdout",
     "output_type": "stream",
     "text": [
      "lower_inner_fence 51.5\n",
      "upper_inner_fence 63.5\n"
     ]
    }
   ],
   "source": [
    "print(\"lower_inner_fence\",lower_inner_fence)\n",
    "print(\"upper_inner_fence\",upper_inner_fence)"
   ]
  },
  {
   "cell_type": "code",
   "execution_count": 23,
   "id": "cellular-dollar",
   "metadata": {
    "execution": {
     "iopub.execute_input": "2021-07-07T05:11:35.988156Z",
     "iopub.status.busy": "2021-07-07T05:11:35.987280Z",
     "iopub.status.idle": "2021-07-07T05:11:35.992041Z",
     "shell.execute_reply": "2021-07-07T05:11:35.992750Z",
     "shell.execute_reply.started": "2021-07-07T05:07:49.857674Z"
    },
    "papermill": {
     "duration": 0.154232,
     "end_time": "2021-07-07T05:11:35.992978",
     "exception": false,
     "start_time": "2021-07-07T05:11:35.838746",
     "status": "completed"
    },
    "tags": []
   },
   "outputs": [
    {
     "name": "stdout",
     "output_type": "stream",
     "text": [
      "Number of Outliers:  605\n"
     ]
    }
   ],
   "source": [
    "print(\"Number of Outliers: \",len(df_table[(df_table<lower_inner_fence) | (df_table>upper_inner_fence)]))"
   ]
  },
  {
   "cell_type": "markdown",
   "id": "latest-dryer",
   "metadata": {
    "papermill": {
     "duration": 0.143321,
     "end_time": "2021-07-07T05:11:36.280907",
     "exception": false,
     "start_time": "2021-07-07T05:11:36.137586",
     "status": "completed"
    },
    "tags": []
   },
   "source": [
    "**Solutions for Bivariate Outliers**"
   ]
  },
  {
   "cell_type": "markdown",
   "id": "modified-fancy",
   "metadata": {
    "papermill": {
     "duration": 0.144054,
     "end_time": "2021-07-07T05:11:36.567579",
     "exception": false,
     "start_time": "2021-07-07T05:11:36.423525",
     "status": "completed"
    },
    "tags": []
   },
   "source": [
    "**1. Deleting the outlier observations**"
   ]
  },
  {
   "cell_type": "code",
   "execution_count": 24,
   "id": "alien-chassis",
   "metadata": {
    "execution": {
     "iopub.execute_input": "2021-07-07T05:11:36.866493Z",
     "iopub.status.busy": "2021-07-07T05:11:36.865277Z",
     "iopub.status.idle": "2021-07-07T05:11:36.869094Z",
     "shell.execute_reply": "2021-07-07T05:11:36.869716Z",
     "shell.execute_reply.started": "2021-07-07T05:07:51.027629Z"
    },
    "papermill": {
     "duration": 0.159561,
     "end_time": "2021-07-07T05:11:36.869885",
     "exception": false,
     "start_time": "2021-07-07T05:11:36.710324",
     "status": "completed"
    },
    "tags": []
   },
   "outputs": [
    {
     "data": {
      "text/html": [
       "<div>\n",
       "<style scoped>\n",
       "    .dataframe tbody tr th:only-of-type {\n",
       "        vertical-align: middle;\n",
       "    }\n",
       "\n",
       "    .dataframe tbody tr th {\n",
       "        vertical-align: top;\n",
       "    }\n",
       "\n",
       "    .dataframe thead th {\n",
       "        text-align: right;\n",
       "    }\n",
       "</style>\n",
       "<table border=\"1\" class=\"dataframe\">\n",
       "  <thead>\n",
       "    <tr style=\"text-align: right;\">\n",
       "      <th></th>\n",
       "      <th>table</th>\n",
       "    </tr>\n",
       "  </thead>\n",
       "  <tbody>\n",
       "    <tr>\n",
       "      <th>0</th>\n",
       "      <td>55.0</td>\n",
       "    </tr>\n",
       "    <tr>\n",
       "      <th>1</th>\n",
       "      <td>61.0</td>\n",
       "    </tr>\n",
       "    <tr>\n",
       "      <th>2</th>\n",
       "      <td>65.0</td>\n",
       "    </tr>\n",
       "    <tr>\n",
       "      <th>3</th>\n",
       "      <td>58.0</td>\n",
       "    </tr>\n",
       "    <tr>\n",
       "      <th>4</th>\n",
       "      <td>58.0</td>\n",
       "    </tr>\n",
       "  </tbody>\n",
       "</table>\n",
       "</div>"
      ],
      "text/plain": [
       "   table\n",
       "0   55.0\n",
       "1   61.0\n",
       "2   65.0\n",
       "3   58.0\n",
       "4   58.0"
      ]
     },
     "execution_count": 24,
     "metadata": {},
     "output_type": "execute_result"
    }
   ],
   "source": [
    "df_table = pd.DataFrame(df_table)\n",
    "df_table.head()"
   ]
  },
  {
   "cell_type": "code",
   "execution_count": 25,
   "id": "square-journalist",
   "metadata": {
    "execution": {
     "iopub.execute_input": "2021-07-07T05:11:37.161483Z",
     "iopub.status.busy": "2021-07-07T05:11:37.160487Z",
     "iopub.status.idle": "2021-07-07T05:11:37.165730Z",
     "shell.execute_reply": "2021-07-07T05:11:37.166256Z",
     "shell.execute_reply.started": "2021-07-07T05:07:51.399792Z"
    },
    "papermill": {
     "duration": 0.152995,
     "end_time": "2021-07-07T05:11:37.166420",
     "exception": false,
     "start_time": "2021-07-07T05:11:37.013425",
     "status": "completed"
    },
    "tags": []
   },
   "outputs": [
    {
     "data": {
      "text/plain": [
       "(53940, 1)"
      ]
     },
     "execution_count": 25,
     "metadata": {},
     "output_type": "execute_result"
    }
   ],
   "source": [
    "df_table.shape"
   ]
  },
  {
   "cell_type": "code",
   "execution_count": 26,
   "id": "steady-gates",
   "metadata": {
    "execution": {
     "iopub.execute_input": "2021-07-07T05:11:37.463789Z",
     "iopub.status.busy": "2021-07-07T05:11:37.462502Z",
     "iopub.status.idle": "2021-07-07T05:11:37.472103Z",
     "shell.execute_reply": "2021-07-07T05:11:37.471543Z",
     "shell.execute_reply.started": "2021-07-07T05:07:51.757357Z"
    },
    "papermill": {
     "duration": 0.162277,
     "end_time": "2021-07-07T05:11:37.472253",
     "exception": false,
     "start_time": "2021-07-07T05:11:37.309976",
     "status": "completed"
    },
    "tags": []
   },
   "outputs": [],
   "source": [
    "new_df = df_table[~((df_table<lower_inner_fence) | (df_table>upper_inner_fence)).any(axis=1)]"
   ]
  },
  {
   "cell_type": "code",
   "execution_count": 27,
   "id": "polished-greene",
   "metadata": {
    "execution": {
     "iopub.execute_input": "2021-07-07T05:11:37.767722Z",
     "iopub.status.busy": "2021-07-07T05:11:37.767050Z",
     "iopub.status.idle": "2021-07-07T05:11:37.769531Z",
     "shell.execute_reply": "2021-07-07T05:11:37.770028Z",
     "shell.execute_reply.started": "2021-07-07T05:07:52.090634Z"
    },
    "papermill": {
     "duration": 0.153493,
     "end_time": "2021-07-07T05:11:37.770200",
     "exception": false,
     "start_time": "2021-07-07T05:11:37.616707",
     "status": "completed"
    },
    "tags": []
   },
   "outputs": [
    {
     "data": {
      "text/plain": [
       "(53335, 1)"
      ]
     },
     "execution_count": 27,
     "metadata": {},
     "output_type": "execute_result"
    }
   ],
   "source": [
    "new_df.shape"
   ]
  },
  {
   "cell_type": "markdown",
   "id": "logical-texture",
   "metadata": {
    "papermill": {
     "duration": 0.144135,
     "end_time": "2021-07-07T05:11:38.059810",
     "exception": false,
     "start_time": "2021-07-07T05:11:37.915675",
     "status": "completed"
    },
    "tags": []
   },
   "source": [
    "**2. Filling with Average**"
   ]
  },
  {
   "cell_type": "code",
   "execution_count": 28,
   "id": "light-handy",
   "metadata": {
    "execution": {
     "iopub.execute_input": "2021-07-07T05:11:38.352484Z",
     "iopub.status.busy": "2021-07-07T05:11:38.351843Z",
     "iopub.status.idle": "2021-07-07T05:11:38.470608Z",
     "shell.execute_reply": "2021-07-07T05:11:38.471097Z",
     "shell.execute_reply.started": "2021-07-07T05:07:52.930848Z"
    },
    "papermill": {
     "duration": 0.266091,
     "end_time": "2021-07-07T05:11:38.471274",
     "exception": false,
     "start_time": "2021-07-07T05:11:38.205183",
     "status": "completed"
    },
    "tags": []
   },
   "outputs": [
    {
     "data": {
      "text/html": [
       "<div>\n",
       "<style scoped>\n",
       "    .dataframe tbody tr th:only-of-type {\n",
       "        vertical-align: middle;\n",
       "    }\n",
       "\n",
       "    .dataframe tbody tr th {\n",
       "        vertical-align: top;\n",
       "    }\n",
       "\n",
       "    .dataframe thead th {\n",
       "        text-align: right;\n",
       "    }\n",
       "</style>\n",
       "<table border=\"1\" class=\"dataframe\">\n",
       "  <thead>\n",
       "    <tr style=\"text-align: right;\">\n",
       "      <th></th>\n",
       "      <th>carat</th>\n",
       "      <th>depth</th>\n",
       "      <th>table</th>\n",
       "      <th>price</th>\n",
       "      <th>x</th>\n",
       "      <th>y</th>\n",
       "      <th>z</th>\n",
       "    </tr>\n",
       "  </thead>\n",
       "  <tbody>\n",
       "    <tr>\n",
       "      <th>0</th>\n",
       "      <td>0.23</td>\n",
       "      <td>61.5</td>\n",
       "      <td>55.0</td>\n",
       "      <td>326</td>\n",
       "      <td>3.95</td>\n",
       "      <td>3.98</td>\n",
       "      <td>2.43</td>\n",
       "    </tr>\n",
       "    <tr>\n",
       "      <th>1</th>\n",
       "      <td>0.21</td>\n",
       "      <td>59.8</td>\n",
       "      <td>61.0</td>\n",
       "      <td>326</td>\n",
       "      <td>3.89</td>\n",
       "      <td>3.84</td>\n",
       "      <td>2.31</td>\n",
       "    </tr>\n",
       "    <tr>\n",
       "      <th>2</th>\n",
       "      <td>0.23</td>\n",
       "      <td>56.9</td>\n",
       "      <td>65.0</td>\n",
       "      <td>327</td>\n",
       "      <td>4.05</td>\n",
       "      <td>4.07</td>\n",
       "      <td>2.31</td>\n",
       "    </tr>\n",
       "    <tr>\n",
       "      <th>3</th>\n",
       "      <td>0.29</td>\n",
       "      <td>62.4</td>\n",
       "      <td>58.0</td>\n",
       "      <td>334</td>\n",
       "      <td>4.20</td>\n",
       "      <td>4.23</td>\n",
       "      <td>2.63</td>\n",
       "    </tr>\n",
       "    <tr>\n",
       "      <th>4</th>\n",
       "      <td>0.31</td>\n",
       "      <td>63.3</td>\n",
       "      <td>58.0</td>\n",
       "      <td>335</td>\n",
       "      <td>4.34</td>\n",
       "      <td>4.35</td>\n",
       "      <td>2.75</td>\n",
       "    </tr>\n",
       "  </tbody>\n",
       "</table>\n",
       "</div>"
      ],
      "text/plain": [
       "   carat  depth  table  price     x     y     z\n",
       "0   0.23   61.5   55.0    326  3.95  3.98  2.43\n",
       "1   0.21   59.8   61.0    326  3.89  3.84  2.31\n",
       "2   0.23   56.9   65.0    327  4.05  4.07  2.31\n",
       "3   0.29   62.4   58.0    334  4.20  4.23  2.63\n",
       "4   0.31   63.3   58.0    335  4.34  4.35  2.75"
      ]
     },
     "execution_count": 28,
     "metadata": {},
     "output_type": "execute_result"
    }
   ],
   "source": [
    "df = sns.load_dataset(\"diamonds\")\n",
    "df = df.select_dtypes(include=[\"float64\",\"int64\"])\n",
    "df.dropna(inplace=True)\n",
    "df.head()"
   ]
  },
  {
   "cell_type": "code",
   "execution_count": 29,
   "id": "according-president",
   "metadata": {
    "execution": {
     "iopub.execute_input": "2021-07-07T05:11:38.766108Z",
     "iopub.status.busy": "2021-07-07T05:11:38.765400Z",
     "iopub.status.idle": "2021-07-07T05:11:38.771599Z",
     "shell.execute_reply": "2021-07-07T05:11:38.772085Z",
     "shell.execute_reply.started": "2021-07-07T05:07:53.308544Z"
    },
    "papermill": {
     "duration": 0.155919,
     "end_time": "2021-07-07T05:11:38.772271",
     "exception": false,
     "start_time": "2021-07-07T05:11:38.616352",
     "status": "completed"
    },
    "tags": []
   },
   "outputs": [
    {
     "data": {
      "text/plain": [
       "0    55.0\n",
       "1    61.0\n",
       "2    65.0\n",
       "3    58.0\n",
       "4    58.0\n",
       "Name: table, dtype: float64"
      ]
     },
     "execution_count": 29,
     "metadata": {},
     "output_type": "execute_result"
    }
   ],
   "source": [
    "df_table = df[\"table\"]\n",
    "df_table.head()"
   ]
  },
  {
   "cell_type": "code",
   "execution_count": 30,
   "id": "august-indianapolis",
   "metadata": {
    "execution": {
     "iopub.execute_input": "2021-07-07T05:11:39.068325Z",
     "iopub.status.busy": "2021-07-07T05:11:39.067694Z",
     "iopub.status.idle": "2021-07-07T05:11:39.078007Z",
     "shell.execute_reply": "2021-07-07T05:11:39.078869Z",
     "shell.execute_reply.started": "2021-07-07T05:07:53.647403Z"
    },
    "papermill": {
     "duration": 0.159199,
     "end_time": "2021-07-07T05:11:39.079111",
     "exception": false,
     "start_time": "2021-07-07T05:11:38.919912",
     "status": "completed"
    },
    "tags": []
   },
   "outputs": [
    {
     "name": "stderr",
     "output_type": "stream",
     "text": [
      "/opt/conda/lib/python3.7/site-packages/ipykernel_launcher.py:1: SettingWithCopyWarning: \n",
      "A value is trying to be set on a copy of a slice from a DataFrame\n",
      "\n",
      "See the caveats in the documentation: https://pandas.pydata.org/pandas-docs/stable/user_guide/indexing.html#returning-a-view-versus-a-copy\n",
      "  \"\"\"Entry point for launching an IPython kernel.\n"
     ]
    }
   ],
   "source": [
    "df_table[(df_table<lower_inner_fence) | (df_table>upper_inner_fence)] = df_table.mean()"
   ]
  },
  {
   "cell_type": "code",
   "execution_count": 31,
   "id": "qualified-petersburg",
   "metadata": {
    "execution": {
     "iopub.execute_input": "2021-07-07T05:11:39.385922Z",
     "iopub.status.busy": "2021-07-07T05:11:39.385278Z",
     "iopub.status.idle": "2021-07-07T05:11:39.394448Z",
     "shell.execute_reply": "2021-07-07T05:11:39.393917Z",
     "shell.execute_reply.started": "2021-07-07T05:07:53.939259Z"
    },
    "papermill": {
     "duration": 0.156867,
     "end_time": "2021-07-07T05:11:39.394599",
     "exception": false,
     "start_time": "2021-07-07T05:11:39.237732",
     "status": "completed"
    },
    "tags": []
   },
   "outputs": [
    {
     "data": {
      "text/plain": [
       "Series([], Name: table, dtype: float64)"
      ]
     },
     "execution_count": 31,
     "metadata": {},
     "output_type": "execute_result"
    }
   ],
   "source": [
    "df_table[(df_table<lower_inner_fence) | (df_table>upper_inner_fence)] # There is no outlier after filling."
   ]
  },
  {
   "cell_type": "markdown",
   "id": "chinese-maldives",
   "metadata": {
    "papermill": {
     "duration": 0.146193,
     "end_time": "2021-07-07T05:11:39.687253",
     "exception": false,
     "start_time": "2021-07-07T05:11:39.541060",
     "status": "completed"
    },
    "tags": []
   },
   "source": [
    "**3. Suppression of the Outliers**"
   ]
  },
  {
   "cell_type": "markdown",
   "id": "adapted-steam",
   "metadata": {
    "papermill": {
     "duration": 0.145644,
     "end_time": "2021-07-07T05:11:39.979622",
     "exception": false,
     "start_time": "2021-07-07T05:11:39.833978",
     "status": "completed"
    },
    "tags": []
   },
   "source": [
    "If a outlier is close to upper bound, we make it upper bound. If it's close to lower bound, we make it lower bound."
   ]
  },
  {
   "cell_type": "code",
   "execution_count": 32,
   "id": "orange-election",
   "metadata": {
    "execution": {
     "iopub.execute_input": "2021-07-07T05:11:40.278986Z",
     "iopub.status.busy": "2021-07-07T05:11:40.278266Z",
     "iopub.status.idle": "2021-07-07T05:11:40.395856Z",
     "shell.execute_reply": "2021-07-07T05:11:40.395269Z",
     "shell.execute_reply.started": "2021-07-07T05:08:04.117845Z"
    },
    "papermill": {
     "duration": 0.270548,
     "end_time": "2021-07-07T05:11:40.396019",
     "exception": false,
     "start_time": "2021-07-07T05:11:40.125471",
     "status": "completed"
    },
    "tags": []
   },
   "outputs": [
    {
     "data": {
      "text/html": [
       "<div>\n",
       "<style scoped>\n",
       "    .dataframe tbody tr th:only-of-type {\n",
       "        vertical-align: middle;\n",
       "    }\n",
       "\n",
       "    .dataframe tbody tr th {\n",
       "        vertical-align: top;\n",
       "    }\n",
       "\n",
       "    .dataframe thead th {\n",
       "        text-align: right;\n",
       "    }\n",
       "</style>\n",
       "<table border=\"1\" class=\"dataframe\">\n",
       "  <thead>\n",
       "    <tr style=\"text-align: right;\">\n",
       "      <th></th>\n",
       "      <th>carat</th>\n",
       "      <th>depth</th>\n",
       "      <th>table</th>\n",
       "      <th>price</th>\n",
       "      <th>x</th>\n",
       "      <th>y</th>\n",
       "      <th>z</th>\n",
       "    </tr>\n",
       "  </thead>\n",
       "  <tbody>\n",
       "    <tr>\n",
       "      <th>0</th>\n",
       "      <td>0.23</td>\n",
       "      <td>61.5</td>\n",
       "      <td>55.0</td>\n",
       "      <td>326</td>\n",
       "      <td>3.95</td>\n",
       "      <td>3.98</td>\n",
       "      <td>2.43</td>\n",
       "    </tr>\n",
       "    <tr>\n",
       "      <th>1</th>\n",
       "      <td>0.21</td>\n",
       "      <td>59.8</td>\n",
       "      <td>61.0</td>\n",
       "      <td>326</td>\n",
       "      <td>3.89</td>\n",
       "      <td>3.84</td>\n",
       "      <td>2.31</td>\n",
       "    </tr>\n",
       "    <tr>\n",
       "      <th>2</th>\n",
       "      <td>0.23</td>\n",
       "      <td>56.9</td>\n",
       "      <td>65.0</td>\n",
       "      <td>327</td>\n",
       "      <td>4.05</td>\n",
       "      <td>4.07</td>\n",
       "      <td>2.31</td>\n",
       "    </tr>\n",
       "    <tr>\n",
       "      <th>3</th>\n",
       "      <td>0.29</td>\n",
       "      <td>62.4</td>\n",
       "      <td>58.0</td>\n",
       "      <td>334</td>\n",
       "      <td>4.20</td>\n",
       "      <td>4.23</td>\n",
       "      <td>2.63</td>\n",
       "    </tr>\n",
       "    <tr>\n",
       "      <th>4</th>\n",
       "      <td>0.31</td>\n",
       "      <td>63.3</td>\n",
       "      <td>58.0</td>\n",
       "      <td>335</td>\n",
       "      <td>4.34</td>\n",
       "      <td>4.35</td>\n",
       "      <td>2.75</td>\n",
       "    </tr>\n",
       "  </tbody>\n",
       "</table>\n",
       "</div>"
      ],
      "text/plain": [
       "   carat  depth  table  price     x     y     z\n",
       "0   0.23   61.5   55.0    326  3.95  3.98  2.43\n",
       "1   0.21   59.8   61.0    326  3.89  3.84  2.31\n",
       "2   0.23   56.9   65.0    327  4.05  4.07  2.31\n",
       "3   0.29   62.4   58.0    334  4.20  4.23  2.63\n",
       "4   0.31   63.3   58.0    335  4.34  4.35  2.75"
      ]
     },
     "execution_count": 32,
     "metadata": {},
     "output_type": "execute_result"
    }
   ],
   "source": [
    "df = sns.load_dataset(\"diamonds\")\n",
    "df = df.select_dtypes(include=[\"float64\",\"int64\"])\n",
    "df.dropna(inplace=True)\n",
    "df.head()"
   ]
  },
  {
   "cell_type": "code",
   "execution_count": 33,
   "id": "heard-liabilities",
   "metadata": {
    "execution": {
     "iopub.execute_input": "2021-07-07T05:11:40.696617Z",
     "iopub.status.busy": "2021-07-07T05:11:40.695961Z",
     "iopub.status.idle": "2021-07-07T05:11:40.699019Z",
     "shell.execute_reply": "2021-07-07T05:11:40.699505Z",
     "shell.execute_reply.started": "2021-07-07T05:08:04.679501Z"
    },
    "papermill": {
     "duration": 0.155989,
     "end_time": "2021-07-07T05:11:40.699693",
     "exception": false,
     "start_time": "2021-07-07T05:11:40.543704",
     "status": "completed"
    },
    "tags": []
   },
   "outputs": [
    {
     "data": {
      "text/plain": [
       "0    55.0\n",
       "1    61.0\n",
       "2    65.0\n",
       "3    58.0\n",
       "4    58.0\n",
       "Name: table, dtype: float64"
      ]
     },
     "execution_count": 33,
     "metadata": {},
     "output_type": "execute_result"
    }
   ],
   "source": [
    "df_table = df[\"table\"]\n",
    "df_table.head()"
   ]
  },
  {
   "cell_type": "code",
   "execution_count": 34,
   "id": "patent-velvet",
   "metadata": {
    "execution": {
     "iopub.execute_input": "2021-07-07T05:11:40.996397Z",
     "iopub.status.busy": "2021-07-07T05:11:40.995750Z",
     "iopub.status.idle": "2021-07-07T05:11:41.005895Z",
     "shell.execute_reply": "2021-07-07T05:11:41.006411Z",
     "shell.execute_reply.started": "2021-07-07T05:08:05.497240Z"
    },
    "papermill": {
     "duration": 0.159376,
     "end_time": "2021-07-07T05:11:41.006587",
     "exception": false,
     "start_time": "2021-07-07T05:11:40.847211",
     "status": "completed"
    },
    "tags": []
   },
   "outputs": [
    {
     "data": {
      "text/plain": [
       "2        65.0\n",
       "91       69.0\n",
       "145      64.0\n",
       "219      64.0\n",
       "227      67.0\n",
       "         ... \n",
       "53695    65.0\n",
       "53697    65.0\n",
       "53756    64.0\n",
       "53757    64.0\n",
       "53785    65.0\n",
       "Name: table, Length: 605, dtype: float64"
      ]
     },
     "execution_count": 34,
     "metadata": {},
     "output_type": "execute_result"
    }
   ],
   "source": [
    "df_table[(df_table<lower_inner_fence) | (df_table>upper_inner_fence)]"
   ]
  },
  {
   "cell_type": "code",
   "execution_count": 35,
   "id": "polyphonic-cooperative",
   "metadata": {
    "execution": {
     "iopub.execute_input": "2021-07-07T05:11:41.305715Z",
     "iopub.status.busy": "2021-07-07T05:11:41.305073Z",
     "iopub.status.idle": "2021-07-07T05:11:41.317535Z",
     "shell.execute_reply": "2021-07-07T05:11:41.316782Z",
     "shell.execute_reply.started": "2021-07-07T05:08:06.089632Z"
    },
    "papermill": {
     "duration": 0.163588,
     "end_time": "2021-07-07T05:11:41.317772",
     "exception": false,
     "start_time": "2021-07-07T05:11:41.154184",
     "status": "completed"
    },
    "tags": []
   },
   "outputs": [
    {
     "name": "stderr",
     "output_type": "stream",
     "text": [
      "/opt/conda/lib/python3.7/site-packages/ipykernel_launcher.py:1: SettingWithCopyWarning: \n",
      "A value is trying to be set on a copy of a slice from a DataFrame\n",
      "\n",
      "See the caveats in the documentation: https://pandas.pydata.org/pandas-docs/stable/user_guide/indexing.html#returning-a-view-versus-a-copy\n",
      "  \"\"\"Entry point for launching an IPython kernel.\n",
      "/opt/conda/lib/python3.7/site-packages/ipykernel_launcher.py:2: SettingWithCopyWarning: \n",
      "A value is trying to be set on a copy of a slice from a DataFrame\n",
      "\n",
      "See the caveats in the documentation: https://pandas.pydata.org/pandas-docs/stable/user_guide/indexing.html#returning-a-view-versus-a-copy\n",
      "  \n"
     ]
    }
   ],
   "source": [
    "df_table[df_table<lower_inner_fence] =lower_inner_fence\n",
    "df_table[df_table>upper_inner_fence] =upper_inner_fence"
   ]
  },
  {
   "cell_type": "markdown",
   "id": "spare-singer",
   "metadata": {
    "papermill": {
     "duration": 0.159179,
     "end_time": "2021-07-07T05:11:50.390229",
     "exception": false,
     "start_time": "2021-07-07T05:11:50.231050",
     "status": "completed"
    },
    "tags": []
   },
   "source": [
    "### Missing Data Analysis"
   ]
  },
  {
   "cell_type": "markdown",
   "id": "deluxe-interval",
   "metadata": {
    "papermill": {
     "duration": 0.151883,
     "end_time": "2021-07-07T05:11:50.694658",
     "exception": false,
     "start_time": "2021-07-07T05:11:50.542775",
     "status": "completed"
    },
    "tags": []
   },
   "source": [
    "In statistics, missing data, or missing values, occur when no data value is stored for the variable in an observation.\n",
    "\n",
    "Missing data in the training data set can reduce the power / fit of a model or can lead to a biased model because we have not analysed the behavior and relationship with other variables correctly. It can lead to wrong prediction or classification."
   ]
  },
  {
   "attachments": {
    "image.png": {
     "image/png": "[encoded data removed]"
    }
   },
   "cell_type": "markdown",
   "id": "universal-feeling",
   "metadata": {
    "papermill": {
     "duration": 0.154454,
     "end_time": "2021-07-07T05:11:51.002181",
     "exception": false,
     "start_time": "2021-07-07T05:11:50.847727",
     "status": "completed"
    },
    "tags": []
   },
   "source": [
    "![image.png](attachment:image.png)"
   ]
  },
  {
   "cell_type": "markdown",
   "id": "martial-aside",
   "metadata": {
    "papermill": {
     "duration": 0.154114,
     "end_time": "2021-07-07T05:11:51.310997",
     "exception": false,
     "start_time": "2021-07-07T05:11:51.156883",
     "status": "completed"
    },
    "tags": []
   },
   "source": [
    "**Solutions for Missing Data**\n",
    "\n",
    "*1)* Deletion : List Wise Deletion and Pair Wise Deletion\n",
    "\n",
    "*2)* Mean/ Mode/ Median Imputation\n",
    "\n",
    "*3)* Prediction Model\n",
    "\n",
    "*4)* KNN Imputation"
   ]
  },
  {
   "cell_type": "markdown",
   "id": "dedicated-tower",
   "metadata": {
    "papermill": {
     "duration": 0.151532,
     "end_time": "2021-07-07T05:11:51.617562",
     "exception": false,
     "start_time": "2021-07-07T05:11:51.466030",
     "status": "completed"
    },
    "tags": []
   },
   "source": [
    "**Note:** If a value is missing becuase it doesn't exist (like the height of the oldest child of someone who doesn't have any children) then it doesn't make sense to try and guess what it might be. These values you probably do want to keep as NaN. On the other hand, if a value is missing because it wasn't recorded, then you can try to guess what it might have been based on the other values in that column and row."
   ]
  },
  {
   "cell_type": "markdown",
   "id": "posted-confidentiality",
   "metadata": {
    "papermill": {
     "duration": 0.152752,
     "end_time": "2021-07-07T05:11:51.921723",
     "exception": false,
     "start_time": "2021-07-07T05:11:51.768971",
     "status": "completed"
    },
    "tags": []
   },
   "source": [
    "**1) Deletion : List Wise Deletion and Pair Wise Deletion**\n",
    "\n",
    "Deletion methods are used when the nature of missing data is “Missing completely at random” else non random missing values can bias the model output."
   ]
  },
  {
   "cell_type": "code",
   "execution_count": 55,
   "id": "choice-florist",
   "metadata": {
    "execution": {
     "iopub.execute_input": "2021-07-07T05:11:52.238759Z",
     "iopub.status.busy": "2021-07-07T05:11:52.238072Z",
     "iopub.status.idle": "2021-07-07T05:11:52.241384Z",
     "shell.execute_reply": "2021-07-07T05:11:52.240710Z",
     "shell.execute_reply.started": "2021-07-07T05:08:22.901198Z"
    },
    "papermill": {
     "duration": 0.16648,
     "end_time": "2021-07-07T05:11:52.241533",
     "exception": false,
     "start_time": "2021-07-07T05:11:52.075053",
     "status": "completed"
    },
    "tags": []
   },
   "outputs": [],
   "source": [
    "C1 = np.array([1,5,np.NaN,42,np.NaN,54,22,85,19,35])\n",
    "C2 = np.array([42,24,53,3,np.NaN,np.NaN,42,88,9,12])\n",
    "C3 = np.array([np.NaN,13,53,57,np.NaN,43,76,18,np.NaN,35])\n",
    "df = pd.DataFrame({\"C1\":C1,\"C2\":C2,\"C3\":C3})"
   ]
  },
  {
   "cell_type": "code",
   "execution_count": 56,
   "id": "important-panama",
   "metadata": {
    "execution": {
     "iopub.execute_input": "2021-07-07T05:11:52.612815Z",
     "iopub.status.busy": "2021-07-07T05:11:52.612142Z",
     "iopub.status.idle": "2021-07-07T05:11:52.616849Z",
     "shell.execute_reply": "2021-07-07T05:11:52.617348Z",
     "shell.execute_reply.started": "2021-07-07T05:08:23.740811Z"
    },
    "papermill": {
     "duration": 0.222488,
     "end_time": "2021-07-07T05:11:52.617532",
     "exception": false,
     "start_time": "2021-07-07T05:11:52.395044",
     "status": "completed"
    },
    "tags": []
   },
   "outputs": [
    {
     "data": {
      "text/html": [
       "<div>\n",
       "<style scoped>\n",
       "    .dataframe tbody tr th:only-of-type {\n",
       "        vertical-align: middle;\n",
       "    }\n",
       "\n",
       "    .dataframe tbody tr th {\n",
       "        vertical-align: top;\n",
       "    }\n",
       "\n",
       "    .dataframe thead th {\n",
       "        text-align: right;\n",
       "    }\n",
       "</style>\n",
       "<table border=\"1\" class=\"dataframe\">\n",
       "  <thead>\n",
       "    <tr style=\"text-align: right;\">\n",
       "      <th></th>\n",
       "      <th>C1</th>\n",
       "      <th>C2</th>\n",
       "      <th>C3</th>\n",
       "    </tr>\n",
       "  </thead>\n",
       "  <tbody>\n",
       "    <tr>\n",
       "      <th>0</th>\n",
       "      <td>1.0</td>\n",
       "      <td>42.0</td>\n",
       "      <td>NaN</td>\n",
       "    </tr>\n",
       "    <tr>\n",
       "      <th>1</th>\n",
       "      <td>5.0</td>\n",
       "      <td>24.0</td>\n",
       "      <td>13.0</td>\n",
       "    </tr>\n",
       "    <tr>\n",
       "      <th>2</th>\n",
       "      <td>NaN</td>\n",
       "      <td>53.0</td>\n",
       "      <td>53.0</td>\n",
       "    </tr>\n",
       "    <tr>\n",
       "      <th>3</th>\n",
       "      <td>42.0</td>\n",
       "      <td>3.0</td>\n",
       "      <td>57.0</td>\n",
       "    </tr>\n",
       "    <tr>\n",
       "      <th>4</th>\n",
       "      <td>NaN</td>\n",
       "      <td>NaN</td>\n",
       "      <td>NaN</td>\n",
       "    </tr>\n",
       "    <tr>\n",
       "      <th>5</th>\n",
       "      <td>54.0</td>\n",
       "      <td>NaN</td>\n",
       "      <td>43.0</td>\n",
       "    </tr>\n",
       "    <tr>\n",
       "      <th>6</th>\n",
       "      <td>22.0</td>\n",
       "      <td>42.0</td>\n",
       "      <td>76.0</td>\n",
       "    </tr>\n",
       "    <tr>\n",
       "      <th>7</th>\n",
       "      <td>85.0</td>\n",
       "      <td>88.0</td>\n",
       "      <td>18.0</td>\n",
       "    </tr>\n",
       "    <tr>\n",
       "      <th>8</th>\n",
       "      <td>19.0</td>\n",
       "      <td>9.0</td>\n",
       "      <td>NaN</td>\n",
       "    </tr>\n",
       "    <tr>\n",
       "      <th>9</th>\n",
       "      <td>35.0</td>\n",
       "      <td>12.0</td>\n",
       "      <td>35.0</td>\n",
       "    </tr>\n",
       "  </tbody>\n",
       "</table>\n",
       "</div>"
      ],
      "text/plain": [
       "     C1    C2    C3\n",
       "0   1.0  42.0   NaN\n",
       "1   5.0  24.0  13.0\n",
       "2   NaN  53.0  53.0\n",
       "3  42.0   3.0  57.0\n",
       "4   NaN   NaN   NaN\n",
       "5  54.0   NaN  43.0\n",
       "6  22.0  42.0  76.0\n",
       "7  85.0  88.0  18.0\n",
       "8  19.0   9.0   NaN\n",
       "9  35.0  12.0  35.0"
      ]
     },
     "execution_count": 56,
     "metadata": {},
     "output_type": "execute_result"
    }
   ],
   "source": [
    "df"
   ]
  },
  {
   "cell_type": "code",
   "execution_count": 57,
   "id": "biblical-desperate",
   "metadata": {
    "execution": {
     "iopub.execute_input": "2021-07-07T05:11:52.930141Z",
     "iopub.status.busy": "2021-07-07T05:11:52.929470Z",
     "iopub.status.idle": "2021-07-07T05:11:52.936541Z",
     "shell.execute_reply": "2021-07-07T05:11:52.937178Z",
     "shell.execute_reply.started": "2021-07-07T05:08:24.239983Z"
    },
    "papermill": {
     "duration": 0.163718,
     "end_time": "2021-07-07T05:11:52.937370",
     "exception": false,
     "start_time": "2021-07-07T05:11:52.773652",
     "status": "completed"
    },
    "tags": []
   },
   "outputs": [
    {
     "data": {
      "text/plain": [
       "C1    2\n",
       "C2    2\n",
       "C3    3\n",
       "dtype: int64"
      ]
     },
     "execution_count": 57,
     "metadata": {},
     "output_type": "execute_result"
    }
   ],
   "source": [
    "df.isna().sum()"
   ]
  },
  {
   "cell_type": "code",
   "execution_count": 58,
   "id": "suffering-lunch",
   "metadata": {
    "execution": {
     "iopub.execute_input": "2021-07-07T05:11:53.254967Z",
     "iopub.status.busy": "2021-07-07T05:11:53.254305Z",
     "iopub.status.idle": "2021-07-07T05:11:53.262417Z",
     "shell.execute_reply": "2021-07-07T05:11:53.261847Z",
     "shell.execute_reply.started": "2021-07-07T05:08:24.777284Z"
    },
    "papermill": {
     "duration": 0.165227,
     "end_time": "2021-07-07T05:11:53.262553",
     "exception": false,
     "start_time": "2021-07-07T05:11:53.097326",
     "status": "completed"
    },
    "tags": []
   },
   "outputs": [
    {
     "data": {
      "text/plain": [
       "C1    8\n",
       "C2    8\n",
       "C3    7\n",
       "dtype: int64"
      ]
     },
     "execution_count": 58,
     "metadata": {},
     "output_type": "execute_result"
    }
   ],
   "source": [
    "df.notnull().sum()"
   ]
  },
  {
   "cell_type": "code",
   "execution_count": 59,
   "id": "acute-protein",
   "metadata": {
    "execution": {
     "iopub.execute_input": "2021-07-07T05:11:53.575991Z",
     "iopub.status.busy": "2021-07-07T05:11:53.575318Z",
     "iopub.status.idle": "2021-07-07T05:11:53.581816Z",
     "shell.execute_reply": "2021-07-07T05:11:53.582319Z",
     "shell.execute_reply.started": "2021-07-07T05:08:25.216403Z"
    },
    "papermill": {
     "duration": 0.164603,
     "end_time": "2021-07-07T05:11:53.582488",
     "exception": false,
     "start_time": "2021-07-07T05:11:53.417885",
     "status": "completed"
    },
    "tags": []
   },
   "outputs": [
    {
     "data": {
      "text/plain": [
       "7"
      ]
     },
     "execution_count": 59,
     "metadata": {},
     "output_type": "execute_result"
    }
   ],
   "source": [
    "df.isna().sum().sum()"
   ]
  },
  {
   "cell_type": "code",
   "execution_count": 60,
   "id": "liberal-season",
   "metadata": {
    "execution": {
     "iopub.execute_input": "2021-07-07T05:11:53.922838Z",
     "iopub.status.busy": "2021-07-07T05:11:53.922192Z",
     "iopub.status.idle": "2021-07-07T05:11:53.934323Z",
     "shell.execute_reply": "2021-07-07T05:11:53.934847Z",
     "shell.execute_reply.started": "2021-07-07T05:08:25.617530Z"
    },
    "papermill": {
     "duration": 0.19777,
     "end_time": "2021-07-07T05:11:53.935025",
     "exception": false,
     "start_time": "2021-07-07T05:11:53.737255",
     "status": "completed"
    },
    "tags": []
   },
   "outputs": [
    {
     "data": {
      "text/html": [
       "<div>\n",
       "<style scoped>\n",
       "    .dataframe tbody tr th:only-of-type {\n",
       "        vertical-align: middle;\n",
       "    }\n",
       "\n",
       "    .dataframe tbody tr th {\n",
       "        vertical-align: top;\n",
       "    }\n",
       "\n",
       "    .dataframe thead th {\n",
       "        text-align: right;\n",
       "    }\n",
       "</style>\n",
       "<table border=\"1\" class=\"dataframe\">\n",
       "  <thead>\n",
       "    <tr style=\"text-align: right;\">\n",
       "      <th></th>\n",
       "      <th>C1</th>\n",
       "      <th>C2</th>\n",
       "      <th>C3</th>\n",
       "    </tr>\n",
       "  </thead>\n",
       "  <tbody>\n",
       "    <tr>\n",
       "      <th>0</th>\n",
       "      <td>1.0</td>\n",
       "      <td>42.0</td>\n",
       "      <td>NaN</td>\n",
       "    </tr>\n",
       "    <tr>\n",
       "      <th>2</th>\n",
       "      <td>NaN</td>\n",
       "      <td>53.0</td>\n",
       "      <td>53.0</td>\n",
       "    </tr>\n",
       "    <tr>\n",
       "      <th>4</th>\n",
       "      <td>NaN</td>\n",
       "      <td>NaN</td>\n",
       "      <td>NaN</td>\n",
       "    </tr>\n",
       "    <tr>\n",
       "      <th>5</th>\n",
       "      <td>54.0</td>\n",
       "      <td>NaN</td>\n",
       "      <td>43.0</td>\n",
       "    </tr>\n",
       "    <tr>\n",
       "      <th>8</th>\n",
       "      <td>19.0</td>\n",
       "      <td>9.0</td>\n",
       "      <td>NaN</td>\n",
       "    </tr>\n",
       "  </tbody>\n",
       "</table>\n",
       "</div>"
      ],
      "text/plain": [
       "     C1    C2    C3\n",
       "0   1.0  42.0   NaN\n",
       "2   NaN  53.0  53.0\n",
       "4   NaN   NaN   NaN\n",
       "5  54.0   NaN  43.0\n",
       "8  19.0   9.0   NaN"
      ]
     },
     "execution_count": 60,
     "metadata": {},
     "output_type": "execute_result"
    }
   ],
   "source": [
    "df[df.isnull().any(axis=1)] # All missing values"
   ]
  },
  {
   "cell_type": "code",
   "execution_count": 61,
   "id": "imported-entity",
   "metadata": {
    "execution": {
     "iopub.execute_input": "2021-07-07T05:11:54.248979Z",
     "iopub.status.busy": "2021-07-07T05:11:54.248316Z",
     "iopub.status.idle": "2021-07-07T05:11:54.260838Z",
     "shell.execute_reply": "2021-07-07T05:11:54.261346Z",
     "shell.execute_reply.started": "2021-07-07T05:08:26.107972Z"
    },
    "papermill": {
     "duration": 0.172126,
     "end_time": "2021-07-07T05:11:54.261516",
     "exception": false,
     "start_time": "2021-07-07T05:11:54.089390",
     "status": "completed"
    },
    "tags": []
   },
   "outputs": [
    {
     "data": {
      "text/html": [
       "<div>\n",
       "<style scoped>\n",
       "    .dataframe tbody tr th:only-of-type {\n",
       "        vertical-align: middle;\n",
       "    }\n",
       "\n",
       "    .dataframe tbody tr th {\n",
       "        vertical-align: top;\n",
       "    }\n",
       "\n",
       "    .dataframe thead th {\n",
       "        text-align: right;\n",
       "    }\n",
       "</style>\n",
       "<table border=\"1\" class=\"dataframe\">\n",
       "  <thead>\n",
       "    <tr style=\"text-align: right;\">\n",
       "      <th></th>\n",
       "      <th>C1</th>\n",
       "      <th>C2</th>\n",
       "      <th>C3</th>\n",
       "    </tr>\n",
       "  </thead>\n",
       "  <tbody>\n",
       "    <tr>\n",
       "      <th>1</th>\n",
       "      <td>5.0</td>\n",
       "      <td>24.0</td>\n",
       "      <td>13.0</td>\n",
       "    </tr>\n",
       "    <tr>\n",
       "      <th>3</th>\n",
       "      <td>42.0</td>\n",
       "      <td>3.0</td>\n",
       "      <td>57.0</td>\n",
       "    </tr>\n",
       "    <tr>\n",
       "      <th>6</th>\n",
       "      <td>22.0</td>\n",
       "      <td>42.0</td>\n",
       "      <td>76.0</td>\n",
       "    </tr>\n",
       "    <tr>\n",
       "      <th>7</th>\n",
       "      <td>85.0</td>\n",
       "      <td>88.0</td>\n",
       "      <td>18.0</td>\n",
       "    </tr>\n",
       "    <tr>\n",
       "      <th>9</th>\n",
       "      <td>35.0</td>\n",
       "      <td>12.0</td>\n",
       "      <td>35.0</td>\n",
       "    </tr>\n",
       "  </tbody>\n",
       "</table>\n",
       "</div>"
      ],
      "text/plain": [
       "     C1    C2    C3\n",
       "1   5.0  24.0  13.0\n",
       "3  42.0   3.0  57.0\n",
       "6  22.0  42.0  76.0\n",
       "7  85.0  88.0  18.0\n",
       "9  35.0  12.0  35.0"
      ]
     },
     "execution_count": 61,
     "metadata": {},
     "output_type": "execute_result"
    }
   ],
   "source": [
    "df[df.notnull().all(axis=1)] # All non-missing values"
   ]
  },
  {
   "cell_type": "code",
   "execution_count": 62,
   "id": "august-hybrid",
   "metadata": {
    "execution": {
     "iopub.execute_input": "2021-07-07T05:11:54.573269Z",
     "iopub.status.busy": "2021-07-07T05:11:54.572532Z",
     "iopub.status.idle": "2021-07-07T05:11:54.584100Z",
     "shell.execute_reply": "2021-07-07T05:11:54.584739Z",
     "shell.execute_reply.started": "2021-07-07T05:08:26.607587Z"
    },
    "papermill": {
     "duration": 0.169023,
     "end_time": "2021-07-07T05:11:54.584933",
     "exception": false,
     "start_time": "2021-07-07T05:11:54.415910",
     "status": "completed"
    },
    "tags": []
   },
   "outputs": [
    {
     "data": {
      "text/html": [
       "<div>\n",
       "<style scoped>\n",
       "    .dataframe tbody tr th:only-of-type {\n",
       "        vertical-align: middle;\n",
       "    }\n",
       "\n",
       "    .dataframe tbody tr th {\n",
       "        vertical-align: top;\n",
       "    }\n",
       "\n",
       "    .dataframe thead th {\n",
       "        text-align: right;\n",
       "    }\n",
       "</style>\n",
       "<table border=\"1\" class=\"dataframe\">\n",
       "  <thead>\n",
       "    <tr style=\"text-align: right;\">\n",
       "      <th></th>\n",
       "      <th>C1</th>\n",
       "      <th>C2</th>\n",
       "      <th>C3</th>\n",
       "    </tr>\n",
       "  </thead>\n",
       "  <tbody>\n",
       "    <tr>\n",
       "      <th>2</th>\n",
       "      <td>NaN</td>\n",
       "      <td>53.0</td>\n",
       "      <td>53.0</td>\n",
       "    </tr>\n",
       "  </tbody>\n",
       "</table>\n",
       "</div>"
      ],
      "text/plain": [
       "   C1    C2    C3\n",
       "2 NaN  53.0  53.0"
      ]
     },
     "execution_count": 62,
     "metadata": {},
     "output_type": "execute_result"
    }
   ],
   "source": [
    "df[df[\"C1\"].isnull() & df[\"C3\"].notnull()]"
   ]
  },
  {
   "cell_type": "markdown",
   "id": "fifty-budget",
   "metadata": {
    "papermill": {
     "duration": 0.154371,
     "end_time": "2021-07-07T05:11:54.901973",
     "exception": false,
     "start_time": "2021-07-07T05:11:54.747602",
     "status": "completed"
    },
    "tags": []
   },
   "source": [
    "Let's delete missing values."
   ]
  },
  {
   "cell_type": "code",
   "execution_count": 63,
   "id": "bacterial-suicide",
   "metadata": {
    "execution": {
     "iopub.execute_input": "2021-07-07T05:11:55.257782Z",
     "iopub.status.busy": "2021-07-07T05:11:55.257083Z",
     "iopub.status.idle": "2021-07-07T05:11:55.271017Z",
     "shell.execute_reply": "2021-07-07T05:11:55.271474Z",
     "shell.execute_reply.started": "2021-07-07T05:08:27.890320Z"
    },
    "papermill": {
     "duration": 0.208504,
     "end_time": "2021-07-07T05:11:55.271675",
     "exception": false,
     "start_time": "2021-07-07T05:11:55.063171",
     "status": "completed"
    },
    "tags": []
   },
   "outputs": [
    {
     "data": {
      "text/html": [
       "<div>\n",
       "<style scoped>\n",
       "    .dataframe tbody tr th:only-of-type {\n",
       "        vertical-align: middle;\n",
       "    }\n",
       "\n",
       "    .dataframe tbody tr th {\n",
       "        vertical-align: top;\n",
       "    }\n",
       "\n",
       "    .dataframe thead th {\n",
       "        text-align: right;\n",
       "    }\n",
       "</style>\n",
       "<table border=\"1\" class=\"dataframe\">\n",
       "  <thead>\n",
       "    <tr style=\"text-align: right;\">\n",
       "      <th></th>\n",
       "      <th>C1</th>\n",
       "      <th>C2</th>\n",
       "      <th>C3</th>\n",
       "    </tr>\n",
       "  </thead>\n",
       "  <tbody>\n",
       "    <tr>\n",
       "      <th>1</th>\n",
       "      <td>5.0</td>\n",
       "      <td>24.0</td>\n",
       "      <td>13.0</td>\n",
       "    </tr>\n",
       "    <tr>\n",
       "      <th>3</th>\n",
       "      <td>42.0</td>\n",
       "      <td>3.0</td>\n",
       "      <td>57.0</td>\n",
       "    </tr>\n",
       "    <tr>\n",
       "      <th>6</th>\n",
       "      <td>22.0</td>\n",
       "      <td>42.0</td>\n",
       "      <td>76.0</td>\n",
       "    </tr>\n",
       "    <tr>\n",
       "      <th>7</th>\n",
       "      <td>85.0</td>\n",
       "      <td>88.0</td>\n",
       "      <td>18.0</td>\n",
       "    </tr>\n",
       "    <tr>\n",
       "      <th>9</th>\n",
       "      <td>35.0</td>\n",
       "      <td>12.0</td>\n",
       "      <td>35.0</td>\n",
       "    </tr>\n",
       "  </tbody>\n",
       "</table>\n",
       "</div>"
      ],
      "text/plain": [
       "     C1    C2    C3\n",
       "1   5.0  24.0  13.0\n",
       "3  42.0   3.0  57.0\n",
       "6  22.0  42.0  76.0\n",
       "7  85.0  88.0  18.0\n",
       "9  35.0  12.0  35.0"
      ]
     },
     "execution_count": 63,
     "metadata": {},
     "output_type": "execute_result"
    }
   ],
   "source": [
    "df.dropna() # If we want to drop na values permanently, we can say inplace argument True"
   ]
  },
  {
   "cell_type": "markdown",
   "id": "voluntary-november",
   "metadata": {
    "papermill": {
     "duration": 0.159842,
     "end_time": "2021-07-07T05:11:55.590362",
     "exception": false,
     "start_time": "2021-07-07T05:11:55.430520",
     "status": "completed"
    },
    "tags": []
   },
   "source": [
    "If we want to delete rows that all values are NaN, we can use *how* argument."
   ]
  },
  {
   "cell_type": "code",
   "execution_count": 64,
   "id": "placed-crazy",
   "metadata": {
    "execution": {
     "iopub.execute_input": "2021-07-07T05:11:55.918657Z",
     "iopub.status.busy": "2021-07-07T05:11:55.917979Z",
     "iopub.status.idle": "2021-07-07T05:11:55.934398Z",
     "shell.execute_reply": "2021-07-07T05:11:55.933764Z",
     "shell.execute_reply.started": "2021-07-07T05:08:29.347283Z"
    },
    "papermill": {
     "duration": 0.189123,
     "end_time": "2021-07-07T05:11:55.934533",
     "exception": false,
     "start_time": "2021-07-07T05:11:55.745410",
     "status": "completed"
    },
    "tags": []
   },
   "outputs": [
    {
     "data": {
      "text/html": [
       "<div>\n",
       "<style scoped>\n",
       "    .dataframe tbody tr th:only-of-type {\n",
       "        vertical-align: middle;\n",
       "    }\n",
       "\n",
       "    .dataframe tbody tr th {\n",
       "        vertical-align: top;\n",
       "    }\n",
       "\n",
       "    .dataframe thead th {\n",
       "        text-align: right;\n",
       "    }\n",
       "</style>\n",
       "<table border=\"1\" class=\"dataframe\">\n",
       "  <thead>\n",
       "    <tr style=\"text-align: right;\">\n",
       "      <th></th>\n",
       "      <th>C1</th>\n",
       "      <th>C2</th>\n",
       "      <th>C3</th>\n",
       "    </tr>\n",
       "  </thead>\n",
       "  <tbody>\n",
       "    <tr>\n",
       "      <th>0</th>\n",
       "      <td>1.0</td>\n",
       "      <td>42.0</td>\n",
       "      <td>NaN</td>\n",
       "    </tr>\n",
       "    <tr>\n",
       "      <th>1</th>\n",
       "      <td>5.0</td>\n",
       "      <td>24.0</td>\n",
       "      <td>13.0</td>\n",
       "    </tr>\n",
       "    <tr>\n",
       "      <th>2</th>\n",
       "      <td>NaN</td>\n",
       "      <td>53.0</td>\n",
       "      <td>53.0</td>\n",
       "    </tr>\n",
       "    <tr>\n",
       "      <th>3</th>\n",
       "      <td>42.0</td>\n",
       "      <td>3.0</td>\n",
       "      <td>57.0</td>\n",
       "    </tr>\n",
       "    <tr>\n",
       "      <th>5</th>\n",
       "      <td>54.0</td>\n",
       "      <td>NaN</td>\n",
       "      <td>43.0</td>\n",
       "    </tr>\n",
       "    <tr>\n",
       "      <th>6</th>\n",
       "      <td>22.0</td>\n",
       "      <td>42.0</td>\n",
       "      <td>76.0</td>\n",
       "    </tr>\n",
       "    <tr>\n",
       "      <th>7</th>\n",
       "      <td>85.0</td>\n",
       "      <td>88.0</td>\n",
       "      <td>18.0</td>\n",
       "    </tr>\n",
       "    <tr>\n",
       "      <th>8</th>\n",
       "      <td>19.0</td>\n",
       "      <td>9.0</td>\n",
       "      <td>NaN</td>\n",
       "    </tr>\n",
       "    <tr>\n",
       "      <th>9</th>\n",
       "      <td>35.0</td>\n",
       "      <td>12.0</td>\n",
       "      <td>35.0</td>\n",
       "    </tr>\n",
       "  </tbody>\n",
       "</table>\n",
       "</div>"
      ],
      "text/plain": [
       "     C1    C2    C3\n",
       "0   1.0  42.0   NaN\n",
       "1   5.0  24.0  13.0\n",
       "2   NaN  53.0  53.0\n",
       "3  42.0   3.0  57.0\n",
       "5  54.0   NaN  43.0\n",
       "6  22.0  42.0  76.0\n",
       "7  85.0  88.0  18.0\n",
       "8  19.0   9.0   NaN\n",
       "9  35.0  12.0  35.0"
      ]
     },
     "execution_count": 64,
     "metadata": {},
     "output_type": "execute_result"
    }
   ],
   "source": [
    "df.dropna(how=\"all\") "
   ]
  },
  {
   "cell_type": "markdown",
   "id": "daily-milton",
   "metadata": {
    "papermill": {
     "duration": 0.156333,
     "end_time": "2021-07-07T05:11:56.248790",
     "exception": false,
     "start_time": "2021-07-07T05:11:56.092457",
     "status": "completed"
    },
    "tags": []
   },
   "source": [
    "**2) Mean/ Mode/ Median Imputation**\n",
    "\n",
    "Imputation is a method to fill in the missing values with estimated ones."
   ]
  },
  {
   "cell_type": "code",
   "execution_count": 65,
   "id": "aboriginal-sponsorship",
   "metadata": {
    "execution": {
     "iopub.execute_input": "2021-07-07T05:11:56.570159Z",
     "iopub.status.busy": "2021-07-07T05:11:56.569408Z",
     "iopub.status.idle": "2021-07-07T05:11:56.572143Z",
     "shell.execute_reply": "2021-07-07T05:11:56.572600Z",
     "shell.execute_reply.started": "2021-07-07T05:08:30.849582Z"
    },
    "papermill": {
     "duration": 0.168711,
     "end_time": "2021-07-07T05:11:56.572808",
     "exception": false,
     "start_time": "2021-07-07T05:11:56.404097",
     "status": "completed"
    },
    "tags": []
   },
   "outputs": [],
   "source": [
    "C1 = np.array([1,5,np.NaN,42,np.NaN,54,22,85,19,35])\n",
    "C2 = np.array([42,24,53,3,np.NaN,np.NaN,42,88,9,12])\n",
    "C3 = np.array([np.NaN,13,53,57,np.NaN,43,76,18,np.NaN,35])\n",
    "df = pd.DataFrame({\"C1\":C1,\"C2\":C2,\"C3\":C3})"
   ]
  },
  {
   "cell_type": "code",
   "execution_count": 66,
   "id": "single-samuel",
   "metadata": {
    "execution": {
     "iopub.execute_input": "2021-07-07T05:11:56.899939Z",
     "iopub.status.busy": "2021-07-07T05:11:56.898984Z",
     "iopub.status.idle": "2021-07-07T05:11:56.903795Z",
     "shell.execute_reply": "2021-07-07T05:11:56.903261Z",
     "shell.execute_reply.started": "2021-07-07T05:08:31.307414Z"
    },
    "papermill": {
     "duration": 0.174083,
     "end_time": "2021-07-07T05:11:56.903942",
     "exception": false,
     "start_time": "2021-07-07T05:11:56.729859",
     "status": "completed"
    },
    "tags": []
   },
   "outputs": [
    {
     "data": {
      "text/html": [
       "<div>\n",
       "<style scoped>\n",
       "    .dataframe tbody tr th:only-of-type {\n",
       "        vertical-align: middle;\n",
       "    }\n",
       "\n",
       "    .dataframe tbody tr th {\n",
       "        vertical-align: top;\n",
       "    }\n",
       "\n",
       "    .dataframe thead th {\n",
       "        text-align: right;\n",
       "    }\n",
       "</style>\n",
       "<table border=\"1\" class=\"dataframe\">\n",
       "  <thead>\n",
       "    <tr style=\"text-align: right;\">\n",
       "      <th></th>\n",
       "      <th>C1</th>\n",
       "      <th>C2</th>\n",
       "      <th>C3</th>\n",
       "    </tr>\n",
       "  </thead>\n",
       "  <tbody>\n",
       "    <tr>\n",
       "      <th>0</th>\n",
       "      <td>1.0</td>\n",
       "      <td>42.0</td>\n",
       "      <td>NaN</td>\n",
       "    </tr>\n",
       "    <tr>\n",
       "      <th>1</th>\n",
       "      <td>5.0</td>\n",
       "      <td>24.0</td>\n",
       "      <td>13.0</td>\n",
       "    </tr>\n",
       "    <tr>\n",
       "      <th>2</th>\n",
       "      <td>NaN</td>\n",
       "      <td>53.0</td>\n",
       "      <td>53.0</td>\n",
       "    </tr>\n",
       "    <tr>\n",
       "      <th>3</th>\n",
       "      <td>42.0</td>\n",
       "      <td>3.0</td>\n",
       "      <td>57.0</td>\n",
       "    </tr>\n",
       "    <tr>\n",
       "      <th>4</th>\n",
       "      <td>NaN</td>\n",
       "      <td>NaN</td>\n",
       "      <td>NaN</td>\n",
       "    </tr>\n",
       "    <tr>\n",
       "      <th>5</th>\n",
       "      <td>54.0</td>\n",
       "      <td>NaN</td>\n",
       "      <td>43.0</td>\n",
       "    </tr>\n",
       "    <tr>\n",
       "      <th>6</th>\n",
       "      <td>22.0</td>\n",
       "      <td>42.0</td>\n",
       "      <td>76.0</td>\n",
       "    </tr>\n",
       "    <tr>\n",
       "      <th>7</th>\n",
       "      <td>85.0</td>\n",
       "      <td>88.0</td>\n",
       "      <td>18.0</td>\n",
       "    </tr>\n",
       "    <tr>\n",
       "      <th>8</th>\n",
       "      <td>19.0</td>\n",
       "      <td>9.0</td>\n",
       "      <td>NaN</td>\n",
       "    </tr>\n",
       "    <tr>\n",
       "      <th>9</th>\n",
       "      <td>35.0</td>\n",
       "      <td>12.0</td>\n",
       "      <td>35.0</td>\n",
       "    </tr>\n",
       "  </tbody>\n",
       "</table>\n",
       "</div>"
      ],
      "text/plain": [
       "     C1    C2    C3\n",
       "0   1.0  42.0   NaN\n",
       "1   5.0  24.0  13.0\n",
       "2   NaN  53.0  53.0\n",
       "3  42.0   3.0  57.0\n",
       "4   NaN   NaN   NaN\n",
       "5  54.0   NaN  43.0\n",
       "6  22.0  42.0  76.0\n",
       "7  85.0  88.0  18.0\n",
       "8  19.0   9.0   NaN\n",
       "9  35.0  12.0  35.0"
      ]
     },
     "execution_count": 66,
     "metadata": {},
     "output_type": "execute_result"
    }
   ],
   "source": [
    "df"
   ]
  },
  {
   "cell_type": "markdown",
   "id": "successful-exclusion",
   "metadata": {
    "papermill": {
     "duration": 0.158386,
     "end_time": "2021-07-07T05:11:57.222360",
     "exception": false,
     "start_time": "2021-07-07T05:11:57.063974",
     "status": "completed"
    },
    "tags": []
   },
   "source": [
    "Let's give mean of column to NA values."
   ]
  },
  {
   "cell_type": "code",
   "execution_count": 67,
   "id": "talented-survival",
   "metadata": {
    "execution": {
     "iopub.execute_input": "2021-07-07T05:11:57.548384Z",
     "iopub.status.busy": "2021-07-07T05:11:57.547395Z",
     "iopub.status.idle": "2021-07-07T05:11:57.550654Z",
     "shell.execute_reply": "2021-07-07T05:11:57.550000Z",
     "shell.execute_reply.started": "2021-07-07T05:08:32.487860Z"
    },
    "papermill": {
     "duration": 0.171142,
     "end_time": "2021-07-07T05:11:57.550801",
     "exception": false,
     "start_time": "2021-07-07T05:11:57.379659",
     "status": "completed"
    },
    "tags": []
   },
   "outputs": [],
   "source": [
    "df[\"C1\"][df[\"C1\"].isnull()] = df[\"C1\"].mean()\n",
    "df[\"C2\"][df[\"C2\"].isnull()] = df[\"C2\"].mean()\n",
    "df[\"C3\"][df[\"C3\"].isnull()] = df[\"C3\"].mean()"
   ]
  },
  {
   "cell_type": "code",
   "execution_count": 68,
   "id": "excellent-liberal",
   "metadata": {
    "execution": {
     "iopub.execute_input": "2021-07-07T05:11:57.881530Z",
     "iopub.status.busy": "2021-07-07T05:11:57.880786Z",
     "iopub.status.idle": "2021-07-07T05:11:57.884992Z",
     "shell.execute_reply": "2021-07-07T05:11:57.884328Z",
     "shell.execute_reply.started": "2021-07-07T05:08:32.987938Z"
    },
    "papermill": {
     "duration": 0.172276,
     "end_time": "2021-07-07T05:11:57.885157",
     "exception": false,
     "start_time": "2021-07-07T05:11:57.712881",
     "status": "completed"
    },
    "tags": []
   },
   "outputs": [
    {
     "data": {
      "text/html": [
       "<div>\n",
       "<style scoped>\n",
       "    .dataframe tbody tr th:only-of-type {\n",
       "        vertical-align: middle;\n",
       "    }\n",
       "\n",
       "    .dataframe tbody tr th {\n",
       "        vertical-align: top;\n",
       "    }\n",
       "\n",
       "    .dataframe thead th {\n",
       "        text-align: right;\n",
       "    }\n",
       "</style>\n",
       "<table border=\"1\" class=\"dataframe\">\n",
       "  <thead>\n",
       "    <tr style=\"text-align: right;\">\n",
       "      <th></th>\n",
       "      <th>C1</th>\n",
       "      <th>C2</th>\n",
       "      <th>C3</th>\n",
       "    </tr>\n",
       "  </thead>\n",
       "  <tbody>\n",
       "    <tr>\n",
       "      <th>0</th>\n",
       "      <td>1.000</td>\n",
       "      <td>42.000</td>\n",
       "      <td>42.142857</td>\n",
       "    </tr>\n",
       "    <tr>\n",
       "      <th>1</th>\n",
       "      <td>5.000</td>\n",
       "      <td>24.000</td>\n",
       "      <td>13.000000</td>\n",
       "    </tr>\n",
       "    <tr>\n",
       "      <th>2</th>\n",
       "      <td>32.875</td>\n",
       "      <td>53.000</td>\n",
       "      <td>53.000000</td>\n",
       "    </tr>\n",
       "    <tr>\n",
       "      <th>3</th>\n",
       "      <td>42.000</td>\n",
       "      <td>3.000</td>\n",
       "      <td>57.000000</td>\n",
       "    </tr>\n",
       "    <tr>\n",
       "      <th>4</th>\n",
       "      <td>32.875</td>\n",
       "      <td>34.125</td>\n",
       "      <td>42.142857</td>\n",
       "    </tr>\n",
       "    <tr>\n",
       "      <th>5</th>\n",
       "      <td>54.000</td>\n",
       "      <td>34.125</td>\n",
       "      <td>43.000000</td>\n",
       "    </tr>\n",
       "    <tr>\n",
       "      <th>6</th>\n",
       "      <td>22.000</td>\n",
       "      <td>42.000</td>\n",
       "      <td>76.000000</td>\n",
       "    </tr>\n",
       "    <tr>\n",
       "      <th>7</th>\n",
       "      <td>85.000</td>\n",
       "      <td>88.000</td>\n",
       "      <td>18.000000</td>\n",
       "    </tr>\n",
       "    <tr>\n",
       "      <th>8</th>\n",
       "      <td>19.000</td>\n",
       "      <td>9.000</td>\n",
       "      <td>42.142857</td>\n",
       "    </tr>\n",
       "    <tr>\n",
       "      <th>9</th>\n",
       "      <td>35.000</td>\n",
       "      <td>12.000</td>\n",
       "      <td>35.000000</td>\n",
       "    </tr>\n",
       "  </tbody>\n",
       "</table>\n",
       "</div>"
      ],
      "text/plain": [
       "       C1      C2         C3\n",
       "0   1.000  42.000  42.142857\n",
       "1   5.000  24.000  13.000000\n",
       "2  32.875  53.000  53.000000\n",
       "3  42.000   3.000  57.000000\n",
       "4  32.875  34.125  42.142857\n",
       "5  54.000  34.125  43.000000\n",
       "6  22.000  42.000  76.000000\n",
       "7  85.000  88.000  18.000000\n",
       "8  19.000   9.000  42.142857\n",
       "9  35.000  12.000  35.000000"
      ]
     },
     "execution_count": 68,
     "metadata": {},
     "output_type": "execute_result"
    }
   ],
   "source": [
    "df"
   ]
  },
  {
   "cell_type": "markdown",
   "id": "recorded-privacy",
   "metadata": {
    "papermill": {
     "duration": 0.155413,
     "end_time": "2021-07-07T05:11:58.210649",
     "exception": false,
     "start_time": "2021-07-07T05:11:58.055236",
     "status": "completed"
    },
    "tags": []
   },
   "source": [
    "We can also use **fillna()** function."
   ]
  },
  {
   "cell_type": "code",
   "execution_count": 69,
   "id": "injured-technique",
   "metadata": {
    "execution": {
     "iopub.execute_input": "2021-07-07T05:11:58.527283Z",
     "iopub.status.busy": "2021-07-07T05:11:58.526575Z",
     "iopub.status.idle": "2021-07-07T05:11:58.534037Z",
     "shell.execute_reply": "2021-07-07T05:11:58.534574Z",
     "shell.execute_reply.started": "2021-07-07T05:08:33.930263Z"
    },
    "papermill": {
     "duration": 0.166824,
     "end_time": "2021-07-07T05:11:58.534771",
     "exception": false,
     "start_time": "2021-07-07T05:11:58.367947",
     "status": "completed"
    },
    "tags": []
   },
   "outputs": [],
   "source": [
    "C1 = np.array([1,5,np.NaN,42,np.NaN,54,22,85,19,35])\n",
    "C2 = np.array([42,24,53,3,np.NaN,np.NaN,42,88,9,12])\n",
    "C3 = np.array([np.NaN,13,53,57,np.NaN,43,76,18,np.NaN,35])\n",
    "df = pd.DataFrame({\"C1\":C1,\"C2\":C2,\"C3\":C3})"
   ]
  },
  {
   "cell_type": "code",
   "execution_count": 70,
   "id": "separated-neutral",
   "metadata": {
    "execution": {
     "iopub.execute_input": "2021-07-07T05:11:58.852825Z",
     "iopub.status.busy": "2021-07-07T05:11:58.852145Z",
     "iopub.status.idle": "2021-07-07T05:11:58.861189Z",
     "shell.execute_reply": "2021-07-07T05:11:58.861788Z",
     "shell.execute_reply.started": "2021-07-07T05:08:34.337427Z"
    },
    "papermill": {
     "duration": 0.169466,
     "end_time": "2021-07-07T05:11:58.861985",
     "exception": false,
     "start_time": "2021-07-07T05:11:58.692519",
     "status": "completed"
    },
    "tags": []
   },
   "outputs": [
    {
     "data": {
      "text/plain": [
       "0    34.125\n",
       "1    13.000\n",
       "2    53.000\n",
       "3    57.000\n",
       "4    34.125\n",
       "5    43.000\n",
       "6    76.000\n",
       "7    18.000\n",
       "8    34.125\n",
       "9    35.000\n",
       "Name: C3, dtype: float64"
      ]
     },
     "execution_count": 70,
     "metadata": {},
     "output_type": "execute_result"
    }
   ],
   "source": [
    "df[\"C1\"].fillna(df[\"C1\"].mean())\n",
    "df[\"C2\"].fillna(df[\"C3\"].mean())\n",
    "df[\"C3\"].fillna(df[\"C2\"].mean())"
   ]
  },
  {
   "cell_type": "markdown",
   "id": "acute-holocaust",
   "metadata": {
    "papermill": {
     "duration": 0.158676,
     "end_time": "2021-07-07T05:11:59.183749",
     "exception": false,
     "start_time": "2021-07-07T05:11:59.025073",
     "status": "completed"
    },
    "tags": []
   },
   "source": [
    "We can also use **apply()** function."
   ]
  },
  {
   "cell_type": "code",
   "execution_count": 71,
   "id": "turned-timeline",
   "metadata": {
    "execution": {
     "iopub.execute_input": "2021-07-07T05:11:59.503075Z",
     "iopub.status.busy": "2021-07-07T05:11:59.502220Z",
     "iopub.status.idle": "2021-07-07T05:11:59.520137Z",
     "shell.execute_reply": "2021-07-07T05:11:59.519587Z",
     "shell.execute_reply.started": "2021-07-07T05:08:35.357363Z"
    },
    "papermill": {
     "duration": 0.18068,
     "end_time": "2021-07-07T05:11:59.520281",
     "exception": false,
     "start_time": "2021-07-07T05:11:59.339601",
     "status": "completed"
    },
    "tags": []
   },
   "outputs": [
    {
     "data": {
      "text/html": [
       "<div>\n",
       "<style scoped>\n",
       "    .dataframe tbody tr th:only-of-type {\n",
       "        vertical-align: middle;\n",
       "    }\n",
       "\n",
       "    .dataframe tbody tr th {\n",
       "        vertical-align: top;\n",
       "    }\n",
       "\n",
       "    .dataframe thead th {\n",
       "        text-align: right;\n",
       "    }\n",
       "</style>\n",
       "<table border=\"1\" class=\"dataframe\">\n",
       "  <thead>\n",
       "    <tr style=\"text-align: right;\">\n",
       "      <th></th>\n",
       "      <th>C1</th>\n",
       "      <th>C2</th>\n",
       "      <th>C3</th>\n",
       "    </tr>\n",
       "  </thead>\n",
       "  <tbody>\n",
       "    <tr>\n",
       "      <th>0</th>\n",
       "      <td>1.000</td>\n",
       "      <td>42.000</td>\n",
       "      <td>42.142857</td>\n",
       "    </tr>\n",
       "    <tr>\n",
       "      <th>1</th>\n",
       "      <td>5.000</td>\n",
       "      <td>24.000</td>\n",
       "      <td>13.000000</td>\n",
       "    </tr>\n",
       "    <tr>\n",
       "      <th>2</th>\n",
       "      <td>32.875</td>\n",
       "      <td>53.000</td>\n",
       "      <td>53.000000</td>\n",
       "    </tr>\n",
       "    <tr>\n",
       "      <th>3</th>\n",
       "      <td>42.000</td>\n",
       "      <td>3.000</td>\n",
       "      <td>57.000000</td>\n",
       "    </tr>\n",
       "    <tr>\n",
       "      <th>4</th>\n",
       "      <td>32.875</td>\n",
       "      <td>34.125</td>\n",
       "      <td>42.142857</td>\n",
       "    </tr>\n",
       "    <tr>\n",
       "      <th>5</th>\n",
       "      <td>54.000</td>\n",
       "      <td>34.125</td>\n",
       "      <td>43.000000</td>\n",
       "    </tr>\n",
       "    <tr>\n",
       "      <th>6</th>\n",
       "      <td>22.000</td>\n",
       "      <td>42.000</td>\n",
       "      <td>76.000000</td>\n",
       "    </tr>\n",
       "    <tr>\n",
       "      <th>7</th>\n",
       "      <td>85.000</td>\n",
       "      <td>88.000</td>\n",
       "      <td>18.000000</td>\n",
       "    </tr>\n",
       "    <tr>\n",
       "      <th>8</th>\n",
       "      <td>19.000</td>\n",
       "      <td>9.000</td>\n",
       "      <td>42.142857</td>\n",
       "    </tr>\n",
       "    <tr>\n",
       "      <th>9</th>\n",
       "      <td>35.000</td>\n",
       "      <td>12.000</td>\n",
       "      <td>35.000000</td>\n",
       "    </tr>\n",
       "  </tbody>\n",
       "</table>\n",
       "</div>"
      ],
      "text/plain": [
       "       C1      C2         C3\n",
       "0   1.000  42.000  42.142857\n",
       "1   5.000  24.000  13.000000\n",
       "2  32.875  53.000  53.000000\n",
       "3  42.000   3.000  57.000000\n",
       "4  32.875  34.125  42.142857\n",
       "5  54.000  34.125  43.000000\n",
       "6  22.000  42.000  76.000000\n",
       "7  85.000  88.000  18.000000\n",
       "8  19.000   9.000  42.142857\n",
       "9  35.000  12.000  35.000000"
      ]
     },
     "execution_count": 71,
     "metadata": {},
     "output_type": "execute_result"
    }
   ],
   "source": [
    "df.apply(lambda col: col.fillna(col.mean()),axis=0)"
   ]
  },
  {
   "cell_type": "markdown",
   "id": "artificial-signal",
   "metadata": {
    "papermill": {
     "duration": 0.157986,
     "end_time": "2021-07-07T05:11:59.841747",
     "exception": false,
     "start_time": "2021-07-07T05:11:59.683761",
     "status": "completed"
    },
    "tags": []
   },
   "source": [
    "We can also use **where()** function."
   ]
  },
  {
   "cell_type": "code",
   "execution_count": 72,
   "id": "official-stroke",
   "metadata": {
    "execution": {
     "iopub.execute_input": "2021-07-07T05:12:00.180384Z",
     "iopub.status.busy": "2021-07-07T05:12:00.179470Z",
     "iopub.status.idle": "2021-07-07T05:12:00.183774Z",
     "shell.execute_reply": "2021-07-07T05:12:00.183220Z",
     "shell.execute_reply.started": "2021-07-07T05:08:36.239246Z"
    },
    "papermill": {
     "duration": 0.182586,
     "end_time": "2021-07-07T05:12:00.183915",
     "exception": false,
     "start_time": "2021-07-07T05:12:00.001329",
     "status": "completed"
    },
    "tags": []
   },
   "outputs": [
    {
     "data": {
      "text/html": [
       "<div>\n",
       "<style scoped>\n",
       "    .dataframe tbody tr th:only-of-type {\n",
       "        vertical-align: middle;\n",
       "    }\n",
       "\n",
       "    .dataframe tbody tr th {\n",
       "        vertical-align: top;\n",
       "    }\n",
       "\n",
       "    .dataframe thead th {\n",
       "        text-align: right;\n",
       "    }\n",
       "</style>\n",
       "<table border=\"1\" class=\"dataframe\">\n",
       "  <thead>\n",
       "    <tr style=\"text-align: right;\">\n",
       "      <th></th>\n",
       "      <th>C1</th>\n",
       "      <th>C2</th>\n",
       "      <th>C3</th>\n",
       "    </tr>\n",
       "  </thead>\n",
       "  <tbody>\n",
       "    <tr>\n",
       "      <th>0</th>\n",
       "      <td>1.0</td>\n",
       "      <td>42.0</td>\n",
       "      <td>43.0</td>\n",
       "    </tr>\n",
       "    <tr>\n",
       "      <th>1</th>\n",
       "      <td>5.0</td>\n",
       "      <td>24.0</td>\n",
       "      <td>13.0</td>\n",
       "    </tr>\n",
       "    <tr>\n",
       "      <th>2</th>\n",
       "      <td>28.5</td>\n",
       "      <td>53.0</td>\n",
       "      <td>53.0</td>\n",
       "    </tr>\n",
       "    <tr>\n",
       "      <th>3</th>\n",
       "      <td>42.0</td>\n",
       "      <td>3.0</td>\n",
       "      <td>57.0</td>\n",
       "    </tr>\n",
       "    <tr>\n",
       "      <th>4</th>\n",
       "      <td>28.5</td>\n",
       "      <td>33.0</td>\n",
       "      <td>43.0</td>\n",
       "    </tr>\n",
       "    <tr>\n",
       "      <th>5</th>\n",
       "      <td>54.0</td>\n",
       "      <td>33.0</td>\n",
       "      <td>43.0</td>\n",
       "    </tr>\n",
       "    <tr>\n",
       "      <th>6</th>\n",
       "      <td>22.0</td>\n",
       "      <td>42.0</td>\n",
       "      <td>76.0</td>\n",
       "    </tr>\n",
       "    <tr>\n",
       "      <th>7</th>\n",
       "      <td>85.0</td>\n",
       "      <td>88.0</td>\n",
       "      <td>18.0</td>\n",
       "    </tr>\n",
       "    <tr>\n",
       "      <th>8</th>\n",
       "      <td>19.0</td>\n",
       "      <td>9.0</td>\n",
       "      <td>43.0</td>\n",
       "    </tr>\n",
       "    <tr>\n",
       "      <th>9</th>\n",
       "      <td>35.0</td>\n",
       "      <td>12.0</td>\n",
       "      <td>35.0</td>\n",
       "    </tr>\n",
       "  </tbody>\n",
       "</table>\n",
       "</div>"
      ],
      "text/plain": [
       "     C1    C2    C3\n",
       "0   1.0  42.0  43.0\n",
       "1   5.0  24.0  13.0\n",
       "2  28.5  53.0  53.0\n",
       "3  42.0   3.0  57.0\n",
       "4  28.5  33.0  43.0\n",
       "5  54.0  33.0  43.0\n",
       "6  22.0  42.0  76.0\n",
       "7  85.0  88.0  18.0\n",
       "8  19.0   9.0  43.0\n",
       "9  35.0  12.0  35.0"
      ]
     },
     "execution_count": 72,
     "metadata": {},
     "output_type": "execute_result"
    }
   ],
   "source": [
    "df.where(pd.notna(df),df.median(),axis=\"columns\")"
   ]
  },
  {
   "cell_type": "markdown",
   "id": "psychological-terry",
   "metadata": {
    "papermill": {
     "duration": 0.160626,
     "end_time": "2021-07-07T05:12:00.508152",
     "exception": false,
     "start_time": "2021-07-07T05:12:00.347526",
     "status": "completed"
    },
    "tags": []
   },
   "source": [
    "We can also impute missing data by categorical variables."
   ]
  },
  {
   "cell_type": "code",
   "execution_count": 73,
   "id": "theoretical-viewer",
   "metadata": {
    "execution": {
     "iopub.execute_input": "2021-07-07T05:12:00.835787Z",
     "iopub.status.busy": "2021-07-07T05:12:00.835063Z",
     "iopub.status.idle": "2021-07-07T05:12:00.837912Z",
     "shell.execute_reply": "2021-07-07T05:12:00.838367Z",
     "shell.execute_reply.started": "2021-07-07T05:08:37.078480Z"
    },
    "papermill": {
     "duration": 0.170322,
     "end_time": "2021-07-07T05:12:00.838555",
     "exception": false,
     "start_time": "2021-07-07T05:12:00.668233",
     "status": "completed"
    },
    "tags": []
   },
   "outputs": [],
   "source": [
    "Salary = np.array([12900,5850,np.NaN,7600,np.NaN,6300,7500,8250,11900,9350])\n",
    "C2 = np.array([42,24,53,3,np.NaN,np.NaN,42,88,9,12])\n",
    "C3 = np.array([np.NaN,13,53,57,np.NaN,43,76,18,np.NaN,35])\n",
    "gender = np.array([\"F\",\"M\",\"M\",\"M\",\"F\",\"F\",\"F\",\"F\",\"M\",\"M\"])\n",
    "df = pd.DataFrame({\"Salary\":Salary,\"C2\":C2,\"C3\":C3, \"Gender\":gender})"
   ]
  },
  {
   "cell_type": "code",
   "execution_count": 74,
   "id": "effective-sapphire",
   "metadata": {
    "execution": {
     "iopub.execute_input": "2021-07-07T05:12:01.176518Z",
     "iopub.status.busy": "2021-07-07T05:12:01.175794Z",
     "iopub.status.idle": "2021-07-07T05:12:01.180776Z",
     "shell.execute_reply": "2021-07-07T05:12:01.181262Z",
     "shell.execute_reply.started": "2021-07-07T05:08:37.804777Z"
    },
    "papermill": {
     "duration": 0.180552,
     "end_time": "2021-07-07T05:12:01.181750",
     "exception": false,
     "start_time": "2021-07-07T05:12:01.001198",
     "status": "completed"
    },
    "tags": []
   },
   "outputs": [
    {
     "data": {
      "text/html": [
       "<div>\n",
       "<style scoped>\n",
       "    .dataframe tbody tr th:only-of-type {\n",
       "        vertical-align: middle;\n",
       "    }\n",
       "\n",
       "    .dataframe tbody tr th {\n",
       "        vertical-align: top;\n",
       "    }\n",
       "\n",
       "    .dataframe thead th {\n",
       "        text-align: right;\n",
       "    }\n",
       "</style>\n",
       "<table border=\"1\" class=\"dataframe\">\n",
       "  <thead>\n",
       "    <tr style=\"text-align: right;\">\n",
       "      <th></th>\n",
       "      <th>Salary</th>\n",
       "      <th>C2</th>\n",
       "      <th>C3</th>\n",
       "      <th>Gender</th>\n",
       "    </tr>\n",
       "  </thead>\n",
       "  <tbody>\n",
       "    <tr>\n",
       "      <th>0</th>\n",
       "      <td>12900.0</td>\n",
       "      <td>42.0</td>\n",
       "      <td>NaN</td>\n",
       "      <td>F</td>\n",
       "    </tr>\n",
       "    <tr>\n",
       "      <th>1</th>\n",
       "      <td>5850.0</td>\n",
       "      <td>24.0</td>\n",
       "      <td>13.0</td>\n",
       "      <td>M</td>\n",
       "    </tr>\n",
       "    <tr>\n",
       "      <th>2</th>\n",
       "      <td>NaN</td>\n",
       "      <td>53.0</td>\n",
       "      <td>53.0</td>\n",
       "      <td>M</td>\n",
       "    </tr>\n",
       "    <tr>\n",
       "      <th>3</th>\n",
       "      <td>7600.0</td>\n",
       "      <td>3.0</td>\n",
       "      <td>57.0</td>\n",
       "      <td>M</td>\n",
       "    </tr>\n",
       "    <tr>\n",
       "      <th>4</th>\n",
       "      <td>NaN</td>\n",
       "      <td>NaN</td>\n",
       "      <td>NaN</td>\n",
       "      <td>F</td>\n",
       "    </tr>\n",
       "    <tr>\n",
       "      <th>5</th>\n",
       "      <td>6300.0</td>\n",
       "      <td>NaN</td>\n",
       "      <td>43.0</td>\n",
       "      <td>F</td>\n",
       "    </tr>\n",
       "    <tr>\n",
       "      <th>6</th>\n",
       "      <td>7500.0</td>\n",
       "      <td>42.0</td>\n",
       "      <td>76.0</td>\n",
       "      <td>F</td>\n",
       "    </tr>\n",
       "    <tr>\n",
       "      <th>7</th>\n",
       "      <td>8250.0</td>\n",
       "      <td>88.0</td>\n",
       "      <td>18.0</td>\n",
       "      <td>F</td>\n",
       "    </tr>\n",
       "    <tr>\n",
       "      <th>8</th>\n",
       "      <td>11900.0</td>\n",
       "      <td>9.0</td>\n",
       "      <td>NaN</td>\n",
       "      <td>M</td>\n",
       "    </tr>\n",
       "    <tr>\n",
       "      <th>9</th>\n",
       "      <td>9350.0</td>\n",
       "      <td>12.0</td>\n",
       "      <td>35.0</td>\n",
       "      <td>M</td>\n",
       "    </tr>\n",
       "  </tbody>\n",
       "</table>\n",
       "</div>"
      ],
      "text/plain": [
       "    Salary    C2    C3 Gender\n",
       "0  12900.0  42.0   NaN      F\n",
       "1   5850.0  24.0  13.0      M\n",
       "2      NaN  53.0  53.0      M\n",
       "3   7600.0   3.0  57.0      M\n",
       "4      NaN   NaN   NaN      F\n",
       "5   6300.0   NaN  43.0      F\n",
       "6   7500.0  42.0  76.0      F\n",
       "7   8250.0  88.0  18.0      F\n",
       "8  11900.0   9.0   NaN      M\n",
       "9   9350.0  12.0  35.0      M"
      ]
     },
     "execution_count": 74,
     "metadata": {},
     "output_type": "execute_result"
    }
   ],
   "source": [
    "df"
   ]
  },
  {
   "cell_type": "code",
   "execution_count": 75,
   "id": "incident-novelty",
   "metadata": {
    "execution": {
     "iopub.execute_input": "2021-07-07T05:12:01.511001Z",
     "iopub.status.busy": "2021-07-07T05:12:01.510251Z",
     "iopub.status.idle": "2021-07-07T05:12:01.518102Z",
     "shell.execute_reply": "2021-07-07T05:12:01.517383Z",
     "shell.execute_reply.started": "2021-07-07T05:08:37.890723Z"
    },
    "papermill": {
     "duration": 0.177406,
     "end_time": "2021-07-07T05:12:01.518259",
     "exception": false,
     "start_time": "2021-07-07T05:12:01.340853",
     "status": "completed"
    },
    "tags": []
   },
   "outputs": [
    {
     "data": {
      "text/plain": [
       "Gender\n",
       "F    7875.0\n",
       "M    8475.0\n",
       "Name: Salary, dtype: float64"
      ]
     },
     "execution_count": 75,
     "metadata": {},
     "output_type": "execute_result"
    }
   ],
   "source": [
    "df.groupby(\"Gender\").median()[\"Salary\"]"
   ]
  },
  {
   "cell_type": "markdown",
   "id": "national-connecticut",
   "metadata": {
    "papermill": {
     "duration": 0.158875,
     "end_time": "2021-07-07T05:12:01.835575",
     "exception": false,
     "start_time": "2021-07-07T05:12:01.676700",
     "status": "completed"
    },
    "tags": []
   },
   "source": [
    "Let's assign values depending on Gender."
   ]
  },
  {
   "cell_type": "code",
   "execution_count": 76,
   "id": "documentary-acquisition",
   "metadata": {
    "execution": {
     "iopub.execute_input": "2021-07-07T05:12:02.168799Z",
     "iopub.status.busy": "2021-07-07T05:12:02.168031Z",
     "iopub.status.idle": "2021-07-07T05:12:02.171895Z",
     "shell.execute_reply": "2021-07-07T05:12:02.171252Z",
     "shell.execute_reply.started": "2021-07-07T05:08:38.847301Z"
    },
    "papermill": {
     "duration": 0.17557,
     "end_time": "2021-07-07T05:12:02.172034",
     "exception": false,
     "start_time": "2021-07-07T05:12:01.996464",
     "status": "completed"
    },
    "tags": []
   },
   "outputs": [
    {
     "data": {
      "text/plain": [
       "0    12900.0\n",
       "1     5850.0\n",
       "2     8475.0\n",
       "3     7600.0\n",
       "4     7875.0\n",
       "5     6300.0\n",
       "6     7500.0\n",
       "7     8250.0\n",
       "8    11900.0\n",
       "9     9350.0\n",
       "Name: Salary, dtype: float64"
      ]
     },
     "execution_count": 76,
     "metadata": {},
     "output_type": "execute_result"
    }
   ],
   "source": [
    "df[\"Salary\"].fillna(df.groupby(\"Gender\")[\"Salary\"].transform(\"median\"))"
   ]
  },
  {
   "cell_type": "markdown",
   "id": "graduate-armor",
   "metadata": {
    "papermill": {
     "duration": 0.168802,
     "end_time": "2021-07-07T05:12:02.508164",
     "exception": false,
     "start_time": "2021-07-07T05:12:02.339362",
     "status": "completed"
    },
    "tags": []
   },
   "source": [
    "We can also impute categorical variables."
   ]
  },
  {
   "cell_type": "code",
   "execution_count": 77,
   "id": "fifteen-catch",
   "metadata": {
    "execution": {
     "iopub.execute_input": "2021-07-07T05:12:02.844338Z",
     "iopub.status.busy": "2021-07-07T05:12:02.843665Z",
     "iopub.status.idle": "2021-07-07T05:12:02.853366Z",
     "shell.execute_reply": "2021-07-07T05:12:02.852781Z",
     "shell.execute_reply.started": "2021-07-07T05:08:39.702024Z"
    },
    "papermill": {
     "duration": 0.174171,
     "end_time": "2021-07-07T05:12:02.853512",
     "exception": false,
     "start_time": "2021-07-07T05:12:02.679341",
     "status": "completed"
    },
    "tags": []
   },
   "outputs": [],
   "source": [
    "Salary = np.array([12900,5850,np.NaN,7600,np.NaN,6300,7500,8250,11900,9350])\n",
    "C2 = np.array([42,24,53,3,np.NaN,np.NaN,42,88,9,12])\n",
    "C3 = np.array([np.NaN,13,53,57,np.NaN,43,76,18,np.NaN,35])\n",
    "gender = np.array([\"F\",np.NaN,\"M\",\"M\",np.NaN,\"F\",\"F\",\"F\",np.NaN,\"M\"],dtype=object)\n",
    "df = pd.DataFrame({\"Salary\":Salary,\"C2\":C2,\"C3\":C3, \"Gender\":gender})"
   ]
  },
  {
   "cell_type": "code",
   "execution_count": 78,
   "id": "caring-craft",
   "metadata": {
    "execution": {
     "iopub.execute_input": "2021-07-07T05:12:03.185751Z",
     "iopub.status.busy": "2021-07-07T05:12:03.184966Z",
     "iopub.status.idle": "2021-07-07T05:12:03.198781Z",
     "shell.execute_reply": "2021-07-07T05:12:03.199263Z",
     "shell.execute_reply.started": "2021-07-07T05:08:40.207692Z"
    },
    "papermill": {
     "duration": 0.181351,
     "end_time": "2021-07-07T05:12:03.199448",
     "exception": false,
     "start_time": "2021-07-07T05:12:03.018097",
     "status": "completed"
    },
    "tags": []
   },
   "outputs": [
    {
     "data": {
      "text/html": [
       "<div>\n",
       "<style scoped>\n",
       "    .dataframe tbody tr th:only-of-type {\n",
       "        vertical-align: middle;\n",
       "    }\n",
       "\n",
       "    .dataframe tbody tr th {\n",
       "        vertical-align: top;\n",
       "    }\n",
       "\n",
       "    .dataframe thead th {\n",
       "        text-align: right;\n",
       "    }\n",
       "</style>\n",
       "<table border=\"1\" class=\"dataframe\">\n",
       "  <thead>\n",
       "    <tr style=\"text-align: right;\">\n",
       "      <th></th>\n",
       "      <th>Salary</th>\n",
       "      <th>C2</th>\n",
       "      <th>C3</th>\n",
       "      <th>Gender</th>\n",
       "    </tr>\n",
       "  </thead>\n",
       "  <tbody>\n",
       "    <tr>\n",
       "      <th>0</th>\n",
       "      <td>12900.0</td>\n",
       "      <td>42.0</td>\n",
       "      <td>NaN</td>\n",
       "      <td>F</td>\n",
       "    </tr>\n",
       "    <tr>\n",
       "      <th>1</th>\n",
       "      <td>5850.0</td>\n",
       "      <td>24.0</td>\n",
       "      <td>13.0</td>\n",
       "      <td>NaN</td>\n",
       "    </tr>\n",
       "    <tr>\n",
       "      <th>2</th>\n",
       "      <td>NaN</td>\n",
       "      <td>53.0</td>\n",
       "      <td>53.0</td>\n",
       "      <td>M</td>\n",
       "    </tr>\n",
       "    <tr>\n",
       "      <th>3</th>\n",
       "      <td>7600.0</td>\n",
       "      <td>3.0</td>\n",
       "      <td>57.0</td>\n",
       "      <td>M</td>\n",
       "    </tr>\n",
       "    <tr>\n",
       "      <th>4</th>\n",
       "      <td>NaN</td>\n",
       "      <td>NaN</td>\n",
       "      <td>NaN</td>\n",
       "      <td>NaN</td>\n",
       "    </tr>\n",
       "    <tr>\n",
       "      <th>5</th>\n",
       "      <td>6300.0</td>\n",
       "      <td>NaN</td>\n",
       "      <td>43.0</td>\n",
       "      <td>F</td>\n",
       "    </tr>\n",
       "    <tr>\n",
       "      <th>6</th>\n",
       "      <td>7500.0</td>\n",
       "      <td>42.0</td>\n",
       "      <td>76.0</td>\n",
       "      <td>F</td>\n",
       "    </tr>\n",
       "    <tr>\n",
       "      <th>7</th>\n",
       "      <td>8250.0</td>\n",
       "      <td>88.0</td>\n",
       "      <td>18.0</td>\n",
       "      <td>F</td>\n",
       "    </tr>\n",
       "    <tr>\n",
       "      <th>8</th>\n",
       "      <td>11900.0</td>\n",
       "      <td>9.0</td>\n",
       "      <td>NaN</td>\n",
       "      <td>NaN</td>\n",
       "    </tr>\n",
       "    <tr>\n",
       "      <th>9</th>\n",
       "      <td>9350.0</td>\n",
       "      <td>12.0</td>\n",
       "      <td>35.0</td>\n",
       "      <td>M</td>\n",
       "    </tr>\n",
       "  </tbody>\n",
       "</table>\n",
       "</div>"
      ],
      "text/plain": [
       "    Salary    C2    C3 Gender\n",
       "0  12900.0  42.0   NaN      F\n",
       "1   5850.0  24.0  13.0    NaN\n",
       "2      NaN  53.0  53.0      M\n",
       "3   7600.0   3.0  57.0      M\n",
       "4      NaN   NaN   NaN    NaN\n",
       "5   6300.0   NaN  43.0      F\n",
       "6   7500.0  42.0  76.0      F\n",
       "7   8250.0  88.0  18.0      F\n",
       "8  11900.0   9.0   NaN    NaN\n",
       "9   9350.0  12.0  35.0      M"
      ]
     },
     "execution_count": 78,
     "metadata": {},
     "output_type": "execute_result"
    }
   ],
   "source": [
    "df"
   ]
  },
  {
   "cell_type": "markdown",
   "id": "tender-success",
   "metadata": {
    "papermill": {
     "duration": 0.179012,
     "end_time": "2021-07-07T05:12:03.542496",
     "exception": false,
     "start_time": "2021-07-07T05:12:03.363484",
     "status": "completed"
    },
    "tags": []
   },
   "source": [
    "Let's assign mode value of Gender."
   ]
  },
  {
   "cell_type": "code",
   "execution_count": 79,
   "id": "worse-dryer",
   "metadata": {
    "execution": {
     "iopub.execute_input": "2021-07-07T05:12:03.892354Z",
     "iopub.status.busy": "2021-07-07T05:12:03.891700Z",
     "iopub.status.idle": "2021-07-07T05:12:03.902605Z",
     "shell.execute_reply": "2021-07-07T05:12:03.902082Z",
     "shell.execute_reply.started": "2021-07-07T05:08:41.270075Z"
    },
    "papermill": {
     "duration": 0.186968,
     "end_time": "2021-07-07T05:12:03.902769",
     "exception": false,
     "start_time": "2021-07-07T05:12:03.715801",
     "status": "completed"
    },
    "tags": []
   },
   "outputs": [
    {
     "data": {
      "text/plain": [
       "0    F\n",
       "1    F\n",
       "2    M\n",
       "3    M\n",
       "4    F\n",
       "5    F\n",
       "6    F\n",
       "7    F\n",
       "8    F\n",
       "9    M\n",
       "Name: Gender, dtype: object"
      ]
     },
     "execution_count": 79,
     "metadata": {},
     "output_type": "execute_result"
    }
   ],
   "source": [
    "df[\"Gender\"].fillna(df.Gender.mode().item())"
   ]
  },
  {
   "cell_type": "markdown",
   "id": "eastern-trance",
   "metadata": {
    "papermill": {
     "duration": 0.166857,
     "end_time": "2021-07-07T05:12:04.232460",
     "exception": false,
     "start_time": "2021-07-07T05:12:04.065603",
     "status": "completed"
    },
    "tags": []
   },
   "source": [
    "We could also be a bit more savvy and replace missing values with whatever value comes directly after it in the same column. (This makes a lot of sense for datasets where the observations have some sort of logical order to them.) \n",
    "\n",
    "We will use *method* argument for that."
   ]
  },
  {
   "cell_type": "code",
   "execution_count": 80,
   "id": "indirect-screw",
   "metadata": {
    "execution": {
     "iopub.execute_input": "2021-07-07T05:12:04.572732Z",
     "iopub.status.busy": "2021-07-07T05:12:04.571087Z",
     "iopub.status.idle": "2021-07-07T05:12:04.577703Z",
     "shell.execute_reply": "2021-07-07T05:12:04.577074Z",
     "shell.execute_reply.started": "2021-07-07T05:08:42.169349Z"
    },
    "papermill": {
     "duration": 0.177872,
     "end_time": "2021-07-07T05:12:04.577861",
     "exception": false,
     "start_time": "2021-07-07T05:12:04.399989",
     "status": "completed"
    },
    "tags": []
   },
   "outputs": [
    {
     "data": {
      "text/plain": [
       "0    F\n",
       "1    M\n",
       "2    M\n",
       "3    M\n",
       "4    F\n",
       "5    F\n",
       "6    F\n",
       "7    F\n",
       "8    M\n",
       "9    M\n",
       "Name: Gender, dtype: object"
      ]
     },
     "execution_count": 80,
     "metadata": {},
     "output_type": "execute_result"
    }
   ],
   "source": [
    "df.Gender.fillna(method=\"bfill\")"
   ]
  },
  {
   "cell_type": "code",
   "execution_count": 81,
   "id": "worldwide-cabin",
   "metadata": {
    "execution": {
     "iopub.execute_input": "2021-07-07T05:12:04.910400Z",
     "iopub.status.busy": "2021-07-07T05:12:04.909765Z",
     "iopub.status.idle": "2021-07-07T05:12:04.912789Z",
     "shell.execute_reply": "2021-07-07T05:12:04.913256Z",
     "shell.execute_reply.started": "2021-07-07T05:08:42.639288Z"
    },
    "papermill": {
     "duration": 0.173647,
     "end_time": "2021-07-07T05:12:04.913418",
     "exception": false,
     "start_time": "2021-07-07T05:12:04.739771",
     "status": "completed"
    },
    "tags": []
   },
   "outputs": [
    {
     "data": {
      "text/plain": [
       "0    F\n",
       "1    F\n",
       "2    M\n",
       "3    M\n",
       "4    M\n",
       "5    F\n",
       "6    F\n",
       "7    F\n",
       "8    F\n",
       "9    M\n",
       "Name: Gender, dtype: object"
      ]
     },
     "execution_count": 81,
     "metadata": {},
     "output_type": "execute_result"
    }
   ],
   "source": [
    "df.Gender.fillna(method=\"ffill\")"
   ]
  },
  {
   "cell_type": "markdown",
   "id": "universal-promise",
   "metadata": {
    "papermill": {
     "duration": 0.169963,
     "end_time": "2021-07-07T05:12:05.246871",
     "exception": false,
     "start_time": "2021-07-07T05:12:05.076908",
     "status": "completed"
    },
    "tags": []
   },
   "source": [
    "**3) Prediction Model**\n",
    "\n",
    "Prediction model is one of the sophisticated method for handling missing data. Here, we create a predictive model to estimate values that will substitute the missing data. In this case, we divide our data set into two sets: One set with no missing values for the variable and another one with missing values. First data set become training data set of the model while second data set with missing values is test data set and variable with missing values is treated as target variable. Next, we create a model to predict target variable based on other attributes of the training data set and populate missing values of test data set."
   ]
  },
  {
   "cell_type": "markdown",
   "id": "cheap-romania",
   "metadata": {
    "papermill": {
     "duration": 0.161137,
     "end_time": "2021-07-07T05:12:05.568567",
     "exception": false,
     "start_time": "2021-07-07T05:12:05.407430",
     "status": "completed"
    },
    "tags": []
   },
   "source": [
    "For a real world example, we will work with *titanic* dataset of Seaborn."
   ]
  },
  {
   "cell_type": "code",
   "execution_count": 82,
   "id": "loved-credits",
   "metadata": {
    "execution": {
     "iopub.execute_input": "2021-07-07T05:12:05.895030Z",
     "iopub.status.busy": "2021-07-07T05:12:05.894393Z",
     "iopub.status.idle": "2021-07-07T05:12:07.020314Z",
     "shell.execute_reply": "2021-07-07T05:12:07.019651Z",
     "shell.execute_reply.started": "2021-07-07T05:08:44.300907Z"
    },
    "papermill": {
     "duration": 1.290015,
     "end_time": "2021-07-07T05:12:07.020464",
     "exception": false,
     "start_time": "2021-07-07T05:12:05.730449",
     "status": "completed"
    },
    "tags": []
   },
   "outputs": [
    {
     "data": {
      "text/html": [
       "<div>\n",
       "<style scoped>\n",
       "    .dataframe tbody tr th:only-of-type {\n",
       "        vertical-align: middle;\n",
       "    }\n",
       "\n",
       "    .dataframe tbody tr th {\n",
       "        vertical-align: top;\n",
       "    }\n",
       "\n",
       "    .dataframe thead th {\n",
       "        text-align: right;\n",
       "    }\n",
       "</style>\n",
       "<table border=\"1\" class=\"dataframe\">\n",
       "  <thead>\n",
       "    <tr style=\"text-align: right;\">\n",
       "      <th></th>\n",
       "      <th>survived</th>\n",
       "      <th>pclass</th>\n",
       "      <th>age</th>\n",
       "      <th>sibsp</th>\n",
       "      <th>parch</th>\n",
       "      <th>fare</th>\n",
       "    </tr>\n",
       "  </thead>\n",
       "  <tbody>\n",
       "    <tr>\n",
       "      <th>0</th>\n",
       "      <td>0</td>\n",
       "      <td>3</td>\n",
       "      <td>22.0</td>\n",
       "      <td>1</td>\n",
       "      <td>0</td>\n",
       "      <td>7.2500</td>\n",
       "    </tr>\n",
       "    <tr>\n",
       "      <th>1</th>\n",
       "      <td>1</td>\n",
       "      <td>1</td>\n",
       "      <td>38.0</td>\n",
       "      <td>1</td>\n",
       "      <td>0</td>\n",
       "      <td>71.2833</td>\n",
       "    </tr>\n",
       "    <tr>\n",
       "      <th>2</th>\n",
       "      <td>1</td>\n",
       "      <td>3</td>\n",
       "      <td>26.0</td>\n",
       "      <td>0</td>\n",
       "      <td>0</td>\n",
       "      <td>7.9250</td>\n",
       "    </tr>\n",
       "    <tr>\n",
       "      <th>3</th>\n",
       "      <td>1</td>\n",
       "      <td>1</td>\n",
       "      <td>35.0</td>\n",
       "      <td>1</td>\n",
       "      <td>0</td>\n",
       "      <td>53.1000</td>\n",
       "    </tr>\n",
       "    <tr>\n",
       "      <th>4</th>\n",
       "      <td>0</td>\n",
       "      <td>3</td>\n",
       "      <td>35.0</td>\n",
       "      <td>0</td>\n",
       "      <td>0</td>\n",
       "      <td>8.0500</td>\n",
       "    </tr>\n",
       "  </tbody>\n",
       "</table>\n",
       "</div>"
      ],
      "text/plain": [
       "   survived  pclass   age  sibsp  parch     fare\n",
       "0         0       3  22.0      1      0   7.2500\n",
       "1         1       1  38.0      1      0  71.2833\n",
       "2         1       3  26.0      0      0   7.9250\n",
       "3         1       1  35.0      1      0  53.1000\n",
       "4         0       3  35.0      0      0   8.0500"
      ]
     },
     "execution_count": 82,
     "metadata": {},
     "output_type": "execute_result"
    }
   ],
   "source": [
    "df = sns.load_dataset(\"titanic\")\n",
    "df = df.select_dtypes(include= [\"float64\",\"int64\"])\n",
    "df.head()"
   ]
  },
  {
   "cell_type": "code",
   "execution_count": 83,
   "id": "happy-boring",
   "metadata": {
    "execution": {
     "iopub.execute_input": "2021-07-07T05:12:07.361725Z",
     "iopub.status.busy": "2021-07-07T05:12:07.360871Z",
     "iopub.status.idle": "2021-07-07T05:12:07.364480Z",
     "shell.execute_reply": "2021-07-07T05:12:07.365070Z",
     "shell.execute_reply.started": "2021-07-07T05:08:44.767020Z"
    },
    "papermill": {
     "duration": 0.175142,
     "end_time": "2021-07-07T05:12:07.365255",
     "exception": false,
     "start_time": "2021-07-07T05:12:07.190113",
     "status": "completed"
    },
    "tags": []
   },
   "outputs": [
    {
     "data": {
      "text/plain": [
       "survived      0\n",
       "pclass        0\n",
       "age         177\n",
       "sibsp         0\n",
       "parch         0\n",
       "fare          0\n",
       "dtype: int64"
      ]
     },
     "execution_count": 83,
     "metadata": {},
     "output_type": "execute_result"
    }
   ],
   "source": [
    "df.isnull().sum()"
   ]
  },
  {
   "cell_type": "markdown",
   "id": "whole-friend",
   "metadata": {
    "papermill": {
     "duration": 0.167151,
     "end_time": "2021-07-07T05:12:10.621724",
     "exception": false,
     "start_time": "2021-07-07T05:12:10.454573",
     "status": "completed"
    },
    "tags": []
   },
   "source": [
    "**4) KNN Imputation**\n",
    "\n",
    "Here the missing values of an attribute are imputed using the given number of attributes that are most similar to the attribute whose values are missing. The similarity of two attributes is determined using a distance function. "
   ]
  },
  {
   "cell_type": "markdown",
   "id": "innocent-zimbabwe",
   "metadata": {
    "papermill": {
     "duration": 0.199779,
     "end_time": "2021-07-07T05:12:11.003805",
     "exception": false,
     "start_time": "2021-07-07T05:12:10.804026",
     "status": "completed"
    },
    "tags": []
   },
   "source": [
    "For a real world example, we will work with *titanic* dataset of Seaborn."
   ]
  },
  {
   "cell_type": "code",
   "execution_count": 91,
   "id": "subtle-dominican",
   "metadata": {
    "execution": {
     "iopub.execute_input": "2021-07-07T05:12:11.341792Z",
     "iopub.status.busy": "2021-07-07T05:12:11.341094Z",
     "iopub.status.idle": "2021-07-07T05:12:11.364870Z",
     "shell.execute_reply": "2021-07-07T05:12:11.364340Z",
     "shell.execute_reply.started": "2021-07-07T05:08:50.660755Z"
    },
    "papermill": {
     "duration": 0.193318,
     "end_time": "2021-07-07T05:12:11.365016",
     "exception": false,
     "start_time": "2021-07-07T05:12:11.171698",
     "status": "completed"
    },
    "tags": []
   },
   "outputs": [
    {
     "data": {
      "text/html": [
       "<div>\n",
       "<style scoped>\n",
       "    .dataframe tbody tr th:only-of-type {\n",
       "        vertical-align: middle;\n",
       "    }\n",
       "\n",
       "    .dataframe tbody tr th {\n",
       "        vertical-align: top;\n",
       "    }\n",
       "\n",
       "    .dataframe thead th {\n",
       "        text-align: right;\n",
       "    }\n",
       "</style>\n",
       "<table border=\"1\" class=\"dataframe\">\n",
       "  <thead>\n",
       "    <tr style=\"text-align: right;\">\n",
       "      <th></th>\n",
       "      <th>survived</th>\n",
       "      <th>pclass</th>\n",
       "      <th>age</th>\n",
       "      <th>sibsp</th>\n",
       "      <th>parch</th>\n",
       "      <th>fare</th>\n",
       "    </tr>\n",
       "  </thead>\n",
       "  <tbody>\n",
       "    <tr>\n",
       "      <th>0</th>\n",
       "      <td>0</td>\n",
       "      <td>3</td>\n",
       "      <td>22.0</td>\n",
       "      <td>1</td>\n",
       "      <td>0</td>\n",
       "      <td>7.2500</td>\n",
       "    </tr>\n",
       "    <tr>\n",
       "      <th>1</th>\n",
       "      <td>1</td>\n",
       "      <td>1</td>\n",
       "      <td>38.0</td>\n",
       "      <td>1</td>\n",
       "      <td>0</td>\n",
       "      <td>71.2833</td>\n",
       "    </tr>\n",
       "    <tr>\n",
       "      <th>2</th>\n",
       "      <td>1</td>\n",
       "      <td>3</td>\n",
       "      <td>26.0</td>\n",
       "      <td>0</td>\n",
       "      <td>0</td>\n",
       "      <td>7.9250</td>\n",
       "    </tr>\n",
       "    <tr>\n",
       "      <th>3</th>\n",
       "      <td>1</td>\n",
       "      <td>1</td>\n",
       "      <td>35.0</td>\n",
       "      <td>1</td>\n",
       "      <td>0</td>\n",
       "      <td>53.1000</td>\n",
       "    </tr>\n",
       "    <tr>\n",
       "      <th>4</th>\n",
       "      <td>0</td>\n",
       "      <td>3</td>\n",
       "      <td>35.0</td>\n",
       "      <td>0</td>\n",
       "      <td>0</td>\n",
       "      <td>8.0500</td>\n",
       "    </tr>\n",
       "  </tbody>\n",
       "</table>\n",
       "</div>"
      ],
      "text/plain": [
       "   survived  pclass   age  sibsp  parch     fare\n",
       "0         0       3  22.0      1      0   7.2500\n",
       "1         1       1  38.0      1      0  71.2833\n",
       "2         1       3  26.0      0      0   7.9250\n",
       "3         1       1  35.0      1      0  53.1000\n",
       "4         0       3  35.0      0      0   8.0500"
      ]
     },
     "execution_count": 91,
     "metadata": {},
     "output_type": "execute_result"
    }
   ],
   "source": [
    "df = sns.load_dataset(\"titanic\")\n",
    "df = df.select_dtypes(include= [\"float64\",\"int64\"])\n",
    "df.head()"
   ]
  },
  {
   "cell_type": "code",
   "execution_count": 92,
   "id": "blind-presentation",
   "metadata": {
    "execution": {
     "iopub.execute_input": "2021-07-07T05:12:11.701860Z",
     "iopub.status.busy": "2021-07-07T05:12:11.701189Z",
     "iopub.status.idle": "2021-07-07T05:12:11.704239Z",
     "shell.execute_reply": "2021-07-07T05:12:11.704734Z",
     "shell.execute_reply.started": "2021-07-07T05:08:51.269078Z"
    },
    "papermill": {
     "duration": 0.1762,
     "end_time": "2021-07-07T05:12:11.704911",
     "exception": false,
     "start_time": "2021-07-07T05:12:11.528711",
     "status": "completed"
    },
    "tags": []
   },
   "outputs": [
    {
     "data": {
      "text/plain": [
       "survived      0\n",
       "pclass        0\n",
       "age         177\n",
       "sibsp         0\n",
       "parch         0\n",
       "fare          0\n",
       "dtype: int64"
      ]
     },
     "execution_count": 92,
     "metadata": {},
     "output_type": "execute_result"
    }
   ],
   "source": [
    "df.isnull().sum()"
   ]
  },
  {
   "cell_type": "code",
   "execution_count": 93,
   "id": "serious-remains",
   "metadata": {
    "execution": {
     "iopub.execute_input": "2021-07-07T05:12:12.039120Z",
     "iopub.status.busy": "2021-07-07T05:12:12.038376Z",
     "iopub.status.idle": "2021-07-07T05:12:12.043588Z",
     "shell.execute_reply": "2021-07-07T05:12:12.042856Z",
     "shell.execute_reply.started": "2021-07-07T05:08:51.748453Z"
    },
    "papermill": {
     "duration": 0.174371,
     "end_time": "2021-07-07T05:12:12.043771",
     "exception": false,
     "start_time": "2021-07-07T05:12:11.869400",
     "status": "completed"
    },
    "tags": []
   },
   "outputs": [],
   "source": [
    "variables = list(df.columns)"
   ]
  },
  {
   "cell_type": "code",
   "execution_count": 94,
   "id": "seeing-socket",
   "metadata": {
    "execution": {
     "iopub.execute_input": "2021-07-07T05:12:12.387245Z",
     "iopub.status.busy": "2021-07-07T05:12:12.386563Z",
     "iopub.status.idle": "2021-07-07T05:12:12.389699Z",
     "shell.execute_reply": "2021-07-07T05:12:12.389167Z",
     "shell.execute_reply.started": "2021-07-07T05:08:52.250510Z"
    },
    "papermill": {
     "duration": 0.17436,
     "end_time": "2021-07-07T05:12:12.389855",
     "exception": false,
     "start_time": "2021-07-07T05:12:12.215495",
     "status": "completed"
    },
    "tags": []
   },
   "outputs": [],
   "source": [
    "new_df = np.array(df)"
   ]
  },
  {
   "cell_type": "code",
   "execution_count": 95,
   "id": "operational-techno",
   "metadata": {
    "execution": {
     "iopub.execute_input": "2021-07-07T05:12:12.731099Z",
     "iopub.status.busy": "2021-07-07T05:12:12.730460Z",
     "iopub.status.idle": "2021-07-07T05:12:12.734980Z",
     "shell.execute_reply": "2021-07-07T05:12:12.735468Z",
     "shell.execute_reply.started": "2021-07-07T05:08:52.759967Z"
    },
    "papermill": {
     "duration": 0.179919,
     "end_time": "2021-07-07T05:12:12.735668",
     "exception": false,
     "start_time": "2021-07-07T05:12:12.555749",
     "status": "completed"
    },
    "tags": []
   },
   "outputs": [
    {
     "data": {
      "text/plain": [
       "(891, 6)"
      ]
     },
     "execution_count": 95,
     "metadata": {},
     "output_type": "execute_result"
    }
   ],
   "source": [
    "new_df.shape"
   ]
  },
  {
   "cell_type": "code",
   "execution_count": 96,
   "id": "hidden-blair",
   "metadata": {
    "execution": {
     "iopub.execute_input": "2021-07-07T05:12:13.072751Z",
     "iopub.status.busy": "2021-07-07T05:12:13.072131Z",
     "iopub.status.idle": "2021-07-07T05:12:13.078867Z",
     "shell.execute_reply": "2021-07-07T05:12:13.078348Z",
     "shell.execute_reply.started": "2021-07-07T05:08:53.257326Z"
    },
    "papermill": {
     "duration": 0.17571,
     "end_time": "2021-07-07T05:12:13.079008",
     "exception": false,
     "start_time": "2021-07-07T05:12:12.903298",
     "status": "completed"
    },
    "tags": []
   },
   "outputs": [
    {
     "data": {
      "text/plain": [
       "array([[ 0.    ,  3.    , 22.    ,  1.    ,  0.    ,  7.25  ],\n",
       "       [ 1.    ,  1.    , 38.    ,  1.    ,  0.    , 71.2833],\n",
       "       [ 1.    ,  3.    , 26.    ,  0.    ,  0.    ,  7.925 ],\n",
       "       [ 1.    ,  1.    , 35.    ,  1.    ,  0.    , 53.1   ],\n",
       "       [ 0.    ,  3.    , 35.    ,  0.    ,  0.    ,  8.05  ],\n",
       "       [ 0.    ,  3.    ,     nan,  0.    ,  0.    ,  8.4583],\n",
       "       [ 0.    ,  1.    , 54.    ,  0.    ,  0.    , 51.8625],\n",
       "       [ 0.    ,  3.    ,  2.    ,  3.    ,  1.    , 21.075 ],\n",
       "       [ 1.    ,  3.    , 27.    ,  0.    ,  2.    , 11.1333],\n",
       "       [ 1.    ,  2.    , 14.    ,  1.    ,  0.    , 30.0708]])"
      ]
     },
     "execution_count": 96,
     "metadata": {},
     "output_type": "execute_result"
    }
   ],
   "source": [
    "new_df[:10]"
   ]
  },
  {
   "cell_type": "code",
   "execution_count": 97,
   "id": "miniature-aerospace",
   "metadata": {
    "execution": {
     "iopub.execute_input": "2021-07-07T05:12:13.423230Z",
     "iopub.status.busy": "2021-07-07T05:12:13.420813Z",
     "iopub.status.idle": "2021-07-07T05:12:13.577721Z",
     "shell.execute_reply": "2021-07-07T05:12:13.578267Z",
     "shell.execute_reply.started": "2021-07-07T05:08:53.649643Z"
    },
    "papermill": {
     "duration": 0.326607,
     "end_time": "2021-07-07T05:12:13.578451",
     "exception": false,
     "start_time": "2021-07-07T05:12:13.251844",
     "status": "completed"
    },
    "tags": []
   },
   "outputs": [
    {
     "name": "stdout",
     "output_type": "stream",
     "text": [
      "Imputing row 1/891 with 0 missing, elapsed time: 0.140\n",
      "Imputing row 101/891 with 0 missing, elapsed time: 0.142\n",
      "Imputing row 201/891 with 0 missing, elapsed time: 0.143\n",
      "Imputing row 301/891 with 1 missing, elapsed time: 0.144\n",
      "Imputing row 401/891 with 0 missing, elapsed time: 0.145\n",
      "Imputing row 501/891 with 0 missing, elapsed time: 0.147\n",
      "Imputing row 601/891 with 0 missing, elapsed time: 0.148\n",
      "Imputing row 701/891 with 0 missing, elapsed time: 0.149\n",
      "Imputing row 801/891 with 0 missing, elapsed time: 0.151\n"
     ]
    }
   ],
   "source": [
    "knn_df = knnimput.KNN(k=4).complete(new_df)"
   ]
  },
  {
   "cell_type": "code",
   "execution_count": 98,
   "id": "posted-pharmacology",
   "metadata": {
    "execution": {
     "iopub.execute_input": "2021-07-07T05:12:13.916056Z",
     "iopub.status.busy": "2021-07-07T05:12:13.915395Z",
     "iopub.status.idle": "2021-07-07T05:12:13.918961Z",
     "shell.execute_reply": "2021-07-07T05:12:13.918428Z",
     "shell.execute_reply.started": "2021-07-07T05:08:54.519868Z"
    },
    "papermill": {
     "duration": 0.172645,
     "end_time": "2021-07-07T05:12:13.919105",
     "exception": false,
     "start_time": "2021-07-07T05:12:13.746460",
     "status": "completed"
    },
    "tags": []
   },
   "outputs": [],
   "source": [
    "knn_df = pd.DataFrame(knn_df,columns=variables)"
   ]
  },
  {
   "cell_type": "code",
   "execution_count": 99,
   "id": "reflected-moore",
   "metadata": {
    "execution": {
     "iopub.execute_input": "2021-07-07T05:12:14.276912Z",
     "iopub.status.busy": "2021-07-07T05:12:14.275922Z",
     "iopub.status.idle": "2021-07-07T05:12:14.291535Z",
     "shell.execute_reply": "2021-07-07T05:12:14.292135Z",
     "shell.execute_reply.started": "2021-07-07T05:08:54.985562Z"
    },
    "papermill": {
     "duration": 0.186699,
     "end_time": "2021-07-07T05:12:14.292304",
     "exception": false,
     "start_time": "2021-07-07T05:12:14.105605",
     "status": "completed"
    },
    "tags": []
   },
   "outputs": [
    {
     "data": {
      "text/html": [
       "<div>\n",
       "<style scoped>\n",
       "    .dataframe tbody tr th:only-of-type {\n",
       "        vertical-align: middle;\n",
       "    }\n",
       "\n",
       "    .dataframe tbody tr th {\n",
       "        vertical-align: top;\n",
       "    }\n",
       "\n",
       "    .dataframe thead th {\n",
       "        text-align: right;\n",
       "    }\n",
       "</style>\n",
       "<table border=\"1\" class=\"dataframe\">\n",
       "  <thead>\n",
       "    <tr style=\"text-align: right;\">\n",
       "      <th></th>\n",
       "      <th>survived</th>\n",
       "      <th>pclass</th>\n",
       "      <th>age</th>\n",
       "      <th>sibsp</th>\n",
       "      <th>parch</th>\n",
       "      <th>fare</th>\n",
       "    </tr>\n",
       "  </thead>\n",
       "  <tbody>\n",
       "    <tr>\n",
       "      <th>0</th>\n",
       "      <td>0.0</td>\n",
       "      <td>3.0</td>\n",
       "      <td>22.0</td>\n",
       "      <td>1.0</td>\n",
       "      <td>0.0</td>\n",
       "      <td>7.2500</td>\n",
       "    </tr>\n",
       "    <tr>\n",
       "      <th>1</th>\n",
       "      <td>1.0</td>\n",
       "      <td>1.0</td>\n",
       "      <td>38.0</td>\n",
       "      <td>1.0</td>\n",
       "      <td>0.0</td>\n",
       "      <td>71.2833</td>\n",
       "    </tr>\n",
       "    <tr>\n",
       "      <th>2</th>\n",
       "      <td>1.0</td>\n",
       "      <td>3.0</td>\n",
       "      <td>26.0</td>\n",
       "      <td>0.0</td>\n",
       "      <td>0.0</td>\n",
       "      <td>7.9250</td>\n",
       "    </tr>\n",
       "    <tr>\n",
       "      <th>3</th>\n",
       "      <td>1.0</td>\n",
       "      <td>1.0</td>\n",
       "      <td>35.0</td>\n",
       "      <td>1.0</td>\n",
       "      <td>0.0</td>\n",
       "      <td>53.1000</td>\n",
       "    </tr>\n",
       "    <tr>\n",
       "      <th>4</th>\n",
       "      <td>0.0</td>\n",
       "      <td>3.0</td>\n",
       "      <td>35.0</td>\n",
       "      <td>0.0</td>\n",
       "      <td>0.0</td>\n",
       "      <td>8.0500</td>\n",
       "    </tr>\n",
       "  </tbody>\n",
       "</table>\n",
       "</div>"
      ],
      "text/plain": [
       "   survived  pclass   age  sibsp  parch     fare\n",
       "0       0.0     3.0  22.0    1.0    0.0   7.2500\n",
       "1       1.0     1.0  38.0    1.0    0.0  71.2833\n",
       "2       1.0     3.0  26.0    0.0    0.0   7.9250\n",
       "3       1.0     1.0  35.0    1.0    0.0  53.1000\n",
       "4       0.0     3.0  35.0    0.0    0.0   8.0500"
      ]
     },
     "execution_count": 99,
     "metadata": {},
     "output_type": "execute_result"
    }
   ],
   "source": [
    "knn_df.head()"
   ]
  },
  {
   "cell_type": "code",
   "execution_count": 100,
   "id": "seven-vatican",
   "metadata": {
    "execution": {
     "iopub.execute_input": "2021-07-07T05:12:14.642686Z",
     "iopub.status.busy": "2021-07-07T05:12:14.641710Z",
     "iopub.status.idle": "2021-07-07T05:12:14.649294Z",
     "shell.execute_reply": "2021-07-07T05:12:14.649767Z",
     "shell.execute_reply.started": "2021-07-07T05:08:55.497288Z"
    },
    "papermill": {
     "duration": 0.191772,
     "end_time": "2021-07-07T05:12:14.649948",
     "exception": false,
     "start_time": "2021-07-07T05:12:14.458176",
     "status": "completed"
    },
    "tags": []
   },
   "outputs": [
    {
     "data": {
      "text/plain": [
       "survived    0\n",
       "pclass      0\n",
       "age         0\n",
       "sibsp       0\n",
       "parch       0\n",
       "fare        0\n",
       "dtype: int64"
      ]
     },
     "execution_count": 100,
     "metadata": {},
     "output_type": "execute_result"
    }
   ],
   "source": [
    "knn_df.isnull().sum()"
   ]
  },
  {
   "cell_type": "markdown",
   "id": "expensive-archive",
   "metadata": {
    "papermill": {
     "duration": 0.199216,
     "end_time": "2021-07-07T05:12:15.015487",
     "exception": false,
     "start_time": "2021-07-07T05:12:14.816271",
     "status": "completed"
    },
    "tags": []
   },
   "source": [
    "**Vizualization of Missing Data**"
   ]
  },
  {
   "cell_type": "markdown",
   "id": "faced-hindu",
   "metadata": {
    "papermill": {
     "duration": 0.16725,
     "end_time": "2021-07-07T05:12:15.362360",
     "exception": false,
     "start_time": "2021-07-07T05:12:15.195110",
     "status": "completed"
    },
    "tags": []
   },
   "source": [
    "We will use *missingno* library."
   ]
  },
  {
   "cell_type": "code",
   "execution_count": 101,
   "id": "architectural-supplement",
   "metadata": {
    "execution": {
     "iopub.execute_input": "2021-07-07T05:12:15.698455Z",
     "iopub.status.busy": "2021-07-07T05:12:15.697491Z",
     "iopub.status.idle": "2021-07-07T05:12:15.704590Z",
     "shell.execute_reply": "2021-07-07T05:12:15.705060Z",
     "shell.execute_reply.started": "2021-07-07T05:08:57.028744Z"
    },
    "papermill": {
     "duration": 0.176141,
     "end_time": "2021-07-07T05:12:15.705240",
     "exception": false,
     "start_time": "2021-07-07T05:12:15.529099",
     "status": "completed"
    },
    "tags": []
   },
   "outputs": [],
   "source": [
    "C1 = np.array([1,5,np.NaN,42,np.NaN,54,22,85,19,35])\n",
    "C2 = np.array([42,24,53,3,np.NaN,np.NaN,42,88,9,12])\n",
    "C3 = np.array([np.NaN,13,53,57,np.NaN,43,76,18,np.NaN,35])\n",
    "df = pd.DataFrame({\"C1\":C1,\"C2\":C2,\"C3\":C3})"
   ]
  },
  {
   "cell_type": "code",
   "execution_count": 102,
   "id": "opposite-belarus",
   "metadata": {
    "execution": {
     "iopub.execute_input": "2021-07-07T05:12:16.041013Z",
     "iopub.status.busy": "2021-07-07T05:12:16.040009Z",
     "iopub.status.idle": "2021-07-07T05:12:16.053319Z",
     "shell.execute_reply": "2021-07-07T05:12:16.053785Z",
     "shell.execute_reply.started": "2021-07-07T05:08:57.501259Z"
    },
    "papermill": {
     "duration": 0.182583,
     "end_time": "2021-07-07T05:12:16.053964",
     "exception": false,
     "start_time": "2021-07-07T05:12:15.871381",
     "status": "completed"
    },
    "tags": []
   },
   "outputs": [
    {
     "data": {
      "text/html": [
       "<div>\n",
       "<style scoped>\n",
       "    .dataframe tbody tr th:only-of-type {\n",
       "        vertical-align: middle;\n",
       "    }\n",
       "\n",
       "    .dataframe tbody tr th {\n",
       "        vertical-align: top;\n",
       "    }\n",
       "\n",
       "    .dataframe thead th {\n",
       "        text-align: right;\n",
       "    }\n",
       "</style>\n",
       "<table border=\"1\" class=\"dataframe\">\n",
       "  <thead>\n",
       "    <tr style=\"text-align: right;\">\n",
       "      <th></th>\n",
       "      <th>C1</th>\n",
       "      <th>C2</th>\n",
       "      <th>C3</th>\n",
       "    </tr>\n",
       "  </thead>\n",
       "  <tbody>\n",
       "    <tr>\n",
       "      <th>0</th>\n",
       "      <td>1.0</td>\n",
       "      <td>42.0</td>\n",
       "      <td>NaN</td>\n",
       "    </tr>\n",
       "    <tr>\n",
       "      <th>1</th>\n",
       "      <td>5.0</td>\n",
       "      <td>24.0</td>\n",
       "      <td>13.0</td>\n",
       "    </tr>\n",
       "    <tr>\n",
       "      <th>2</th>\n",
       "      <td>NaN</td>\n",
       "      <td>53.0</td>\n",
       "      <td>53.0</td>\n",
       "    </tr>\n",
       "    <tr>\n",
       "      <th>3</th>\n",
       "      <td>42.0</td>\n",
       "      <td>3.0</td>\n",
       "      <td>57.0</td>\n",
       "    </tr>\n",
       "    <tr>\n",
       "      <th>4</th>\n",
       "      <td>NaN</td>\n",
       "      <td>NaN</td>\n",
       "      <td>NaN</td>\n",
       "    </tr>\n",
       "    <tr>\n",
       "      <th>5</th>\n",
       "      <td>54.0</td>\n",
       "      <td>NaN</td>\n",
       "      <td>43.0</td>\n",
       "    </tr>\n",
       "    <tr>\n",
       "      <th>6</th>\n",
       "      <td>22.0</td>\n",
       "      <td>42.0</td>\n",
       "      <td>76.0</td>\n",
       "    </tr>\n",
       "    <tr>\n",
       "      <th>7</th>\n",
       "      <td>85.0</td>\n",
       "      <td>88.0</td>\n",
       "      <td>18.0</td>\n",
       "    </tr>\n",
       "    <tr>\n",
       "      <th>8</th>\n",
       "      <td>19.0</td>\n",
       "      <td>9.0</td>\n",
       "      <td>NaN</td>\n",
       "    </tr>\n",
       "    <tr>\n",
       "      <th>9</th>\n",
       "      <td>35.0</td>\n",
       "      <td>12.0</td>\n",
       "      <td>35.0</td>\n",
       "    </tr>\n",
       "  </tbody>\n",
       "</table>\n",
       "</div>"
      ],
      "text/plain": [
       "     C1    C2    C3\n",
       "0   1.0  42.0   NaN\n",
       "1   5.0  24.0  13.0\n",
       "2   NaN  53.0  53.0\n",
       "3  42.0   3.0  57.0\n",
       "4   NaN   NaN   NaN\n",
       "5  54.0   NaN  43.0\n",
       "6  22.0  42.0  76.0\n",
       "7  85.0  88.0  18.0\n",
       "8  19.0   9.0   NaN\n",
       "9  35.0  12.0  35.0"
      ]
     },
     "execution_count": 102,
     "metadata": {},
     "output_type": "execute_result"
    }
   ],
   "source": [
    "df"
   ]
  },
  {
   "cell_type": "code",
   "execution_count": 103,
   "id": "communist-handbook",
   "metadata": {
    "execution": {
     "iopub.execute_input": "2021-07-07T05:12:16.395146Z",
     "iopub.status.busy": "2021-07-07T05:12:16.394177Z",
     "iopub.status.idle": "2021-07-07T05:12:16.995724Z",
     "shell.execute_reply": "2021-07-07T05:12:16.996232Z",
     "shell.execute_reply.started": "2021-07-07T05:08:57.969616Z"
    },
    "papermill": {
     "duration": 0.77295,
     "end_time": "2021-07-07T05:12:16.996404",
     "exception": false,
     "start_time": "2021-07-07T05:12:16.223454",
     "status": "completed"
    },
    "tags": []
   },
   "outputs": [
    {
     "data": {
      "image/png": "[encoded data removed]",
      "text/plain": [
       "<Figure size 1728x720 with 3 Axes>"
      ]
     },
     "metadata": {
      "needs_background": "light"
     },
     "output_type": "display_data"
    }
   ],
   "source": [
    "msno.bar(df)\n",
    "\n",
    "plt.title(\"Vizualization of Missing Data\")\n",
    "\n",
    "plt.show()"
   ]
  },
  {
   "cell_type": "markdown",
   "id": "compliant-black",
   "metadata": {
    "papermill": {
     "duration": 0.172785,
     "end_time": "2021-07-07T05:12:18.106232",
     "exception": false,
     "start_time": "2021-07-07T05:12:17.933447",
     "status": "completed"
    },
    "tags": []
   },
   "source": [
    "For a real world example we will use planets dataset of seaborn."
   ]
  },
  {
   "cell_type": "code",
   "execution_count": 8,
   "id": "august-argument",
   "metadata": {
    "execution": {
     "iopub.execute_input": "2021-07-07T05:12:18.467530Z",
     "iopub.status.busy": "2021-07-07T05:12:18.466840Z",
     "iopub.status.idle": "2021-07-07T05:12:19.465927Z",
     "shell.execute_reply": "2021-07-07T05:12:19.465395Z",
     "shell.execute_reply.started": "2021-07-07T05:09:00.299483Z"
    },
    "papermill": {
     "duration": 1.173283,
     "end_time": "2021-07-07T05:12:19.466068",
     "exception": false,
     "start_time": "2021-07-07T05:12:18.292785",
     "status": "completed"
    },
    "tags": []
   },
   "outputs": [
    {
     "data": {
      "text/html": [
       "<div>\n",
       "<style scoped>\n",
       "    .dataframe tbody tr th:only-of-type {\n",
       "        vertical-align: middle;\n",
       "    }\n",
       "\n",
       "    .dataframe tbody tr th {\n",
       "        vertical-align: top;\n",
       "    }\n",
       "\n",
       "    .dataframe thead th {\n",
       "        text-align: right;\n",
       "    }\n",
       "</style>\n",
       "<table border=\"1\" class=\"dataframe\">\n",
       "  <thead>\n",
       "    <tr style=\"text-align: right;\">\n",
       "      <th></th>\n",
       "      <th>method</th>\n",
       "      <th>number</th>\n",
       "      <th>orbital_period</th>\n",
       "      <th>mass</th>\n",
       "      <th>distance</th>\n",
       "      <th>year</th>\n",
       "    </tr>\n",
       "  </thead>\n",
       "  <tbody>\n",
       "    <tr>\n",
       "      <th>0</th>\n",
       "      <td>Radial Velocity</td>\n",
       "      <td>1</td>\n",
       "      <td>269.300</td>\n",
       "      <td>7.10</td>\n",
       "      <td>77.40</td>\n",
       "      <td>2006</td>\n",
       "    </tr>\n",
       "    <tr>\n",
       "      <th>1</th>\n",
       "      <td>Radial Velocity</td>\n",
       "      <td>1</td>\n",
       "      <td>874.774</td>\n",
       "      <td>2.21</td>\n",
       "      <td>56.95</td>\n",
       "      <td>2008</td>\n",
       "    </tr>\n",
       "    <tr>\n",
       "      <th>2</th>\n",
       "      <td>Radial Velocity</td>\n",
       "      <td>1</td>\n",
       "      <td>763.000</td>\n",
       "      <td>2.60</td>\n",
       "      <td>19.84</td>\n",
       "      <td>2011</td>\n",
       "    </tr>\n",
       "    <tr>\n",
       "      <th>3</th>\n",
       "      <td>Radial Velocity</td>\n",
       "      <td>1</td>\n",
       "      <td>326.030</td>\n",
       "      <td>19.40</td>\n",
       "      <td>110.62</td>\n",
       "      <td>2007</td>\n",
       "    </tr>\n",
       "    <tr>\n",
       "      <th>4</th>\n",
       "      <td>Radial Velocity</td>\n",
       "      <td>1</td>\n",
       "      <td>516.220</td>\n",
       "      <td>10.50</td>\n",
       "      <td>119.47</td>\n",
       "      <td>2009</td>\n",
       "    </tr>\n",
       "  </tbody>\n",
       "</table>\n",
       "</div>"
      ],
      "text/plain": [
       "            method  number  orbital_period   mass  distance  year\n",
       "0  Radial Velocity       1         269.300   7.10     77.40  2006\n",
       "1  Radial Velocity       1         874.774   2.21     56.95  2008\n",
       "2  Radial Velocity       1         763.000   2.60     19.84  2011\n",
       "3  Radial Velocity       1         326.030  19.40    110.62  2007\n",
       "4  Radial Velocity       1         516.220  10.50    119.47  2009"
      ]
     },
     "execution_count": 8,
     "metadata": {},
     "output_type": "execute_result"
    }
   ],
   "source": [
    "df = sns.load_dataset(\"planets\")\n",
    "df.head()"
   ]
  },
  {
   "cell_type": "code",
   "execution_count": 9,
   "id": "expressed-friend",
   "metadata": {
    "execution": {
     "iopub.execute_input": "2021-07-07T05:12:19.821369Z",
     "iopub.status.busy": "2021-07-07T05:12:19.820458Z",
     "iopub.status.idle": "2021-07-07T05:12:19.824907Z",
     "shell.execute_reply": "2021-07-07T05:12:19.824357Z",
     "shell.execute_reply.started": "2021-07-07T05:09:00.840572Z"
    },
    "papermill": {
     "duration": 0.183093,
     "end_time": "2021-07-07T05:12:19.825053",
     "exception": false,
     "start_time": "2021-07-07T05:12:19.641960",
     "status": "completed"
    },
    "tags": []
   },
   "outputs": [
    {
     "data": {
      "text/plain": [
       "method              0\n",
       "number              0\n",
       "orbital_period     43\n",
       "mass              522\n",
       "distance          227\n",
       "year                0\n",
       "dtype: int64"
      ]
     },
     "execution_count": 9,
     "metadata": {},
     "output_type": "execute_result"
    }
   ],
   "source": [
    "df.isnull().sum()"
   ]
  },
  {
   "cell_type": "code",
   "execution_count": 10,
   "id": "62f8bab6",
   "metadata": {},
   "outputs": [
    {
     "data": {
      "text/plain": [
       "<AxesSubplot:>"
      ]
     },
     "execution_count": 10,
     "metadata": {},
     "output_type": "execute_result"
    },
    {
     "data": {
      "image/png": "[encoded data removed]",
      "text/plain": [
       "<Figure size 1800x720 with 3 Axes>"
      ]
     },
     "metadata": {
      "needs_background": "light"
     },
     "output_type": "display_data"
    }
   ],
   "source": [
    "msno.bar(df)"
   ]
  },
  {
   "cell_type": "markdown",
   "id": "motivated-democracy",
   "metadata": {
    "heading_collapsed": true,
    "papermill": {
     "duration": 0.213275,
     "end_time": "2021-07-07T05:12:21.813221",
     "exception": false,
     "start_time": "2021-07-07T05:12:21.599946",
     "status": "completed"
    },
    "tags": []
   },
   "source": [
    "## Data Standardization / Feature Scaling"
   ]
  },
  {
   "cell_type": "markdown",
   "id": "neither-england",
   "metadata": {
    "heading_collapsed": true,
    "hidden": true,
    "papermill": {
     "duration": 0.203432,
     "end_time": "2021-07-07T05:12:22.199618",
     "exception": false,
     "start_time": "2021-07-07T05:12:21.996186",
     "status": "completed"
    },
    "tags": []
   },
   "source": [
    "### Normalization(0-1 Scaling)"
   ]
  },
  {
   "cell_type": "markdown",
   "id": "stone-cooking",
   "metadata": {
    "hidden": true,
    "papermill": {
     "duration": 0.177352,
     "end_time": "2021-07-07T05:12:22.582976",
     "exception": false,
     "start_time": "2021-07-07T05:12:22.405624",
     "status": "completed"
    },
    "tags": []
   },
   "source": [
    "Normalization is the process of scaling individual samples to have unit norm. Normalization typically means rescales the values into a range of [0,1].\n",
    "\n",
    "We will use **normalize()** function for normalization."
   ]
  },
  {
   "cell_type": "code",
   "execution_count": 15,
   "id": "generous-centre",
   "metadata": {
    "execution": {
     "iopub.execute_input": "2021-07-07T05:12:22.932295Z",
     "iopub.status.busy": "2021-07-07T05:12:22.931284Z",
     "iopub.status.idle": "2021-07-07T05:12:22.940022Z",
     "shell.execute_reply": "2021-07-07T05:12:22.940545Z",
     "shell.execute_reply.started": "2021-07-07T05:09:07.652614Z"
    },
    "hidden": true,
    "papermill": {
     "duration": 0.184675,
     "end_time": "2021-07-07T05:12:22.940742",
     "exception": false,
     "start_time": "2021-07-07T05:12:22.756067",
     "status": "completed"
    },
    "tags": []
   },
   "outputs": [],
   "source": [
    "C1 = np.array([1,5,43,54,22,85,19,35])\n",
    "C2 = np.array([42,24,53,342,88,9,54,12])\n",
    "C3 = np.array([13,53,57,43,76,18,45,35])\n",
    "df = pd.DataFrame({\"C1\":C1,\"C2\":C2,\"C3\":C3})\n",
    "\n",
    "df = df.astype(float)"
   ]
  },
  {
   "cell_type": "code",
   "execution_count": 16,
   "id": "posted-scroll",
   "metadata": {
    "execution": {
     "iopub.execute_input": "2021-07-07T05:12:23.315369Z",
     "iopub.status.busy": "2021-07-07T05:12:23.314409Z",
     "iopub.status.idle": "2021-07-07T05:12:23.328050Z",
     "shell.execute_reply": "2021-07-07T05:12:23.327466Z",
     "shell.execute_reply.started": "2021-07-07T05:09:07.660894Z"
    },
    "hidden": true,
    "papermill": {
     "duration": 0.204774,
     "end_time": "2021-07-07T05:12:23.328194",
     "exception": false,
     "start_time": "2021-07-07T05:12:23.123420",
     "status": "completed"
    },
    "tags": []
   },
   "outputs": [
    {
     "data": {
      "text/html": [
       "<div>\n",
       "<style scoped>\n",
       "    .dataframe tbody tr th:only-of-type {\n",
       "        vertical-align: middle;\n",
       "    }\n",
       "\n",
       "    .dataframe tbody tr th {\n",
       "        vertical-align: top;\n",
       "    }\n",
       "\n",
       "    .dataframe thead th {\n",
       "        text-align: right;\n",
       "    }\n",
       "</style>\n",
       "<table border=\"1\" class=\"dataframe\">\n",
       "  <thead>\n",
       "    <tr style=\"text-align: right;\">\n",
       "      <th></th>\n",
       "      <th>C1</th>\n",
       "      <th>C2</th>\n",
       "      <th>C3</th>\n",
       "    </tr>\n",
       "  </thead>\n",
       "  <tbody>\n",
       "    <tr>\n",
       "      <th>0</th>\n",
       "      <td>1.0</td>\n",
       "      <td>42.0</td>\n",
       "      <td>13.0</td>\n",
       "    </tr>\n",
       "    <tr>\n",
       "      <th>1</th>\n",
       "      <td>5.0</td>\n",
       "      <td>24.0</td>\n",
       "      <td>53.0</td>\n",
       "    </tr>\n",
       "    <tr>\n",
       "      <th>2</th>\n",
       "      <td>43.0</td>\n",
       "      <td>53.0</td>\n",
       "      <td>57.0</td>\n",
       "    </tr>\n",
       "    <tr>\n",
       "      <th>3</th>\n",
       "      <td>54.0</td>\n",
       "      <td>342.0</td>\n",
       "      <td>43.0</td>\n",
       "    </tr>\n",
       "    <tr>\n",
       "      <th>4</th>\n",
       "      <td>22.0</td>\n",
       "      <td>88.0</td>\n",
       "      <td>76.0</td>\n",
       "    </tr>\n",
       "    <tr>\n",
       "      <th>5</th>\n",
       "      <td>85.0</td>\n",
       "      <td>9.0</td>\n",
       "      <td>18.0</td>\n",
       "    </tr>\n",
       "    <tr>\n",
       "      <th>6</th>\n",
       "      <td>19.0</td>\n",
       "      <td>54.0</td>\n",
       "      <td>45.0</td>\n",
       "    </tr>\n",
       "    <tr>\n",
       "      <th>7</th>\n",
       "      <td>35.0</td>\n",
       "      <td>12.0</td>\n",
       "      <td>35.0</td>\n",
       "    </tr>\n",
       "  </tbody>\n",
       "</table>\n",
       "</div>"
      ],
      "text/plain": [
       "     C1     C2    C3\n",
       "0   1.0   42.0  13.0\n",
       "1   5.0   24.0  53.0\n",
       "2  43.0   53.0  57.0\n",
       "3  54.0  342.0  43.0\n",
       "4  22.0   88.0  76.0\n",
       "5  85.0    9.0  18.0\n",
       "6  19.0   54.0  45.0\n",
       "7  35.0   12.0  35.0"
      ]
     },
     "execution_count": 16,
     "metadata": {},
     "output_type": "execute_result"
    }
   ],
   "source": [
    "df"
   ]
  },
  {
   "cell_type": "markdown",
   "id": "focal-surveillance",
   "metadata": {
    "heading_collapsed": true,
    "hidden": true,
    "papermill": {
     "duration": 0.183732,
     "end_time": "2021-07-07T05:12:24.072834",
     "exception": false,
     "start_time": "2021-07-07T05:12:23.889102",
     "status": "completed"
    },
    "tags": []
   },
   "source": [
    "### Standardization(Z Score Scaling)"
   ]
  },
  {
   "cell_type": "markdown",
   "id": "threaded-bulgarian",
   "metadata": {
    "hidden": true,
    "papermill": {
     "duration": 0.182693,
     "end_time": "2021-07-07T05:12:24.433490",
     "exception": false,
     "start_time": "2021-07-07T05:12:24.250797",
     "status": "completed"
    },
    "tags": []
   },
   "source": [
    "The result of standardization (or Z-score normalization) is that the features will be rescaled so that they’ll have the properties of a standard normal distribution with\n",
    "\n",
    "                                        μ=0 and σ=1\n",
    "\n",
    "where μ is the mean (average) and σ is the standard deviation from the mean; standard scores (also called z scores) of the samples are calculated as follows:\n",
    "\n",
    "                                          z=x−μσ\n",
    "                                          \n",
    "We will use **preprocessing.StandardScaler()** or **scale()** function to make standardization.                   "
   ]
  },
  {
   "cell_type": "code",
   "execution_count": 19,
   "id": "coupled-crisis",
   "metadata": {
    "execution": {
     "iopub.execute_input": "2021-07-07T05:12:26.233940Z",
     "iopub.status.busy": "2021-07-07T05:12:26.232978Z",
     "iopub.status.idle": "2021-07-07T05:12:26.237725Z",
     "shell.execute_reply": "2021-07-07T05:12:26.238193Z",
     "shell.execute_reply.started": "2021-07-07T05:09:21.376534Z"
    },
    "hidden": true,
    "papermill": {
     "duration": 0.186051,
     "end_time": "2021-07-07T05:12:26.238365",
     "exception": false,
     "start_time": "2021-07-07T05:12:26.052314",
     "status": "completed"
    },
    "tags": []
   },
   "outputs": [],
   "source": [
    "df = preprocessing.StandardScaler().fit_transform(df)"
   ]
  },
  {
   "cell_type": "code",
   "execution_count": 118,
   "id": "latin-factory",
   "metadata": {
    "execution": {
     "iopub.execute_input": "2021-07-07T05:12:26.953952Z",
     "iopub.status.busy": "2021-07-07T05:12:26.952962Z",
     "iopub.status.idle": "2021-07-07T05:12:26.958830Z",
     "shell.execute_reply": "2021-07-07T05:12:26.959383Z",
     "shell.execute_reply.started": "2021-07-07T05:09:22.022284Z"
    },
    "hidden": true,
    "papermill": {
     "duration": 0.185188,
     "end_time": "2021-07-07T05:12:26.959559",
     "exception": false,
     "start_time": "2021-07-07T05:12:26.774371",
     "status": "completed"
    },
    "tags": []
   },
   "outputs": [
    {
     "data": {
      "text/plain": [
       "array([1., 1., 1.])"
      ]
     },
     "execution_count": 118,
     "metadata": {},
     "output_type": "execute_result"
    }
   ],
   "source": [
    "df.std(axis=0)"
   ]
  },
  {
   "cell_type": "markdown",
   "id": "pretty-river",
   "metadata": {
    "heading_collapsed": true,
    "hidden": true,
    "papermill": {
     "duration": 0.177636,
     "end_time": "2021-07-07T05:12:27.314802",
     "exception": false,
     "start_time": "2021-07-07T05:12:27.137166",
     "status": "completed"
    },
    "tags": []
   },
   "source": [
    "### Min-Max Scaling"
   ]
  },
  {
   "cell_type": "markdown",
   "id": "alleged-baptist",
   "metadata": {
    "hidden": true,
    "papermill": {
     "duration": 0.188523,
     "end_time": "2021-07-07T05:12:27.678845",
     "exception": false,
     "start_time": "2021-07-07T05:12:27.490322",
     "status": "completed"
    },
    "tags": []
   },
   "source": [
    "An alternative standardization is scaling features to lie between a given minimum and maximum value, often between zero and one, or so that the maximum absolute value of each feature is scaled to unit size. This can be achieved using MinMaxScaler or MaxAbsScaler, respectively.\n",
    "\n",
    "We will use **MinMaxScaler()** function for that."
   ]
  },
  {
   "cell_type": "code",
   "execution_count": 23,
   "id": "driving-binding",
   "metadata": {
    "execution": {
     "iopub.execute_input": "2021-07-07T05:12:28.055785Z",
     "iopub.status.busy": "2021-07-07T05:12:28.055022Z",
     "iopub.status.idle": "2021-07-07T05:12:28.059438Z",
     "shell.execute_reply": "2021-07-07T05:12:28.058772Z",
     "shell.execute_reply.started": "2021-07-07T05:09:22.880701Z"
    },
    "hidden": true,
    "papermill": {
     "duration": 0.188612,
     "end_time": "2021-07-07T05:12:28.059594",
     "exception": false,
     "start_time": "2021-07-07T05:12:27.870982",
     "status": "completed"
    },
    "tags": []
   },
   "outputs": [],
   "source": [
    "C1 = np.array([1,5,43,54,22,85,19,35])\n",
    "C2 = np.array([42,24,53,342,88,9,54,12])\n",
    "C3 = np.array([13,53,57,43,76,18,45,35])\n",
    "df = pd.DataFrame({\"C1\":C1,\"C2\":C2,\"C3\":C3})\n",
    "\n",
    "df = df.astype(float)"
   ]
  },
  {
   "cell_type": "code",
   "execution_count": 24,
   "id": "frozen-senior",
   "metadata": {
    "execution": {
     "iopub.execute_input": "2021-07-07T05:12:28.459310Z",
     "iopub.status.busy": "2021-07-07T05:12:28.458663Z",
     "iopub.status.idle": "2021-07-07T05:12:28.461621Z",
     "shell.execute_reply": "2021-07-07T05:12:28.462219Z",
     "shell.execute_reply.started": "2021-07-07T05:09:23.139860Z"
    },
    "hidden": true,
    "papermill": {
     "duration": 0.193854,
     "end_time": "2021-07-07T05:12:28.462392",
     "exception": false,
     "start_time": "2021-07-07T05:12:28.268538",
     "status": "completed"
    },
    "tags": []
   },
   "outputs": [
    {
     "data": {
      "text/html": [
       "<div>\n",
       "<style scoped>\n",
       "    .dataframe tbody tr th:only-of-type {\n",
       "        vertical-align: middle;\n",
       "    }\n",
       "\n",
       "    .dataframe tbody tr th {\n",
       "        vertical-align: top;\n",
       "    }\n",
       "\n",
       "    .dataframe thead th {\n",
       "        text-align: right;\n",
       "    }\n",
       "</style>\n",
       "<table border=\"1\" class=\"dataframe\">\n",
       "  <thead>\n",
       "    <tr style=\"text-align: right;\">\n",
       "      <th></th>\n",
       "      <th>C1</th>\n",
       "      <th>C2</th>\n",
       "      <th>C3</th>\n",
       "    </tr>\n",
       "  </thead>\n",
       "  <tbody>\n",
       "    <tr>\n",
       "      <th>0</th>\n",
       "      <td>1.0</td>\n",
       "      <td>42.0</td>\n",
       "      <td>13.0</td>\n",
       "    </tr>\n",
       "    <tr>\n",
       "      <th>1</th>\n",
       "      <td>5.0</td>\n",
       "      <td>24.0</td>\n",
       "      <td>53.0</td>\n",
       "    </tr>\n",
       "    <tr>\n",
       "      <th>2</th>\n",
       "      <td>43.0</td>\n",
       "      <td>53.0</td>\n",
       "      <td>57.0</td>\n",
       "    </tr>\n",
       "    <tr>\n",
       "      <th>3</th>\n",
       "      <td>54.0</td>\n",
       "      <td>342.0</td>\n",
       "      <td>43.0</td>\n",
       "    </tr>\n",
       "    <tr>\n",
       "      <th>4</th>\n",
       "      <td>22.0</td>\n",
       "      <td>88.0</td>\n",
       "      <td>76.0</td>\n",
       "    </tr>\n",
       "    <tr>\n",
       "      <th>5</th>\n",
       "      <td>85.0</td>\n",
       "      <td>9.0</td>\n",
       "      <td>18.0</td>\n",
       "    </tr>\n",
       "    <tr>\n",
       "      <th>6</th>\n",
       "      <td>19.0</td>\n",
       "      <td>54.0</td>\n",
       "      <td>45.0</td>\n",
       "    </tr>\n",
       "    <tr>\n",
       "      <th>7</th>\n",
       "      <td>35.0</td>\n",
       "      <td>12.0</td>\n",
       "      <td>35.0</td>\n",
       "    </tr>\n",
       "  </tbody>\n",
       "</table>\n",
       "</div>"
      ],
      "text/plain": [
       "     C1     C2    C3\n",
       "0   1.0   42.0  13.0\n",
       "1   5.0   24.0  53.0\n",
       "2  43.0   53.0  57.0\n",
       "3  54.0  342.0  43.0\n",
       "4  22.0   88.0  76.0\n",
       "5  85.0    9.0  18.0\n",
       "6  19.0   54.0  45.0\n",
       "7  35.0   12.0  35.0"
      ]
     },
     "execution_count": 24,
     "metadata": {},
     "output_type": "execute_result"
    }
   ],
   "source": [
    "df"
   ]
  },
  {
   "cell_type": "code",
   "execution_count": 25,
   "id": "virgin-rebound",
   "metadata": {
    "execution": {
     "iopub.execute_input": "2021-07-07T05:12:28.821768Z",
     "iopub.status.busy": "2021-07-07T05:12:28.821108Z",
     "iopub.status.idle": "2021-07-07T05:12:28.824771Z",
     "shell.execute_reply": "2021-07-07T05:12:28.825328Z",
     "shell.execute_reply.started": "2021-07-07T05:09:23.477216Z"
    },
    "hidden": true,
    "papermill": {
     "duration": 0.188347,
     "end_time": "2021-07-07T05:12:28.825513",
     "exception": false,
     "start_time": "2021-07-07T05:12:28.637166",
     "status": "completed"
    },
    "tags": []
   },
   "outputs": [],
   "source": [
    "mmscaler = preprocessing.MinMaxScaler()"
   ]
  },
  {
   "cell_type": "code",
   "execution_count": 26,
   "id": "crude-jacket",
   "metadata": {
    "execution": {
     "iopub.execute_input": "2021-07-07T05:12:29.200106Z",
     "iopub.status.busy": "2021-07-07T05:12:29.193201Z",
     "iopub.status.idle": "2021-07-07T05:12:29.204529Z",
     "shell.execute_reply": "2021-07-07T05:12:29.203961Z",
     "shell.execute_reply.started": "2021-07-07T05:09:23.760047Z"
    },
    "hidden": true,
    "papermill": {
     "duration": 0.199356,
     "end_time": "2021-07-07T05:12:29.204704",
     "exception": false,
     "start_time": "2021-07-07T05:12:29.005348",
     "status": "completed"
    },
    "tags": []
   },
   "outputs": [
    {
     "data": {
      "text/plain": [
       "array([[0.        , 0.0990991 , 0.        ],\n",
       "       [0.04761905, 0.04504505, 0.63492063],\n",
       "       [0.5       , 0.13213213, 0.6984127 ],\n",
       "       [0.63095238, 1.        , 0.47619048],\n",
       "       [0.25      , 0.23723724, 1.        ],\n",
       "       [1.        , 0.        , 0.07936508],\n",
       "       [0.21428571, 0.13513514, 0.50793651],\n",
       "       [0.4047619 , 0.00900901, 0.34920635]])"
      ]
     },
     "execution_count": 26,
     "metadata": {},
     "output_type": "execute_result"
    }
   ],
   "source": [
    "mmscaler.fit_transform(df)"
   ]
  },
  {
   "cell_type": "markdown",
   "id": "aging-chair",
   "metadata": {
    "heading_collapsed": true,
    "hidden": true,
    "papermill": {
     "duration": 0.175675,
     "end_time": "2021-07-07T05:12:29.556828",
     "exception": false,
     "start_time": "2021-07-07T05:12:29.381153",
     "status": "completed"
    },
    "tags": []
   },
   "source": [
    "### Binary Transformation"
   ]
  },
  {
   "cell_type": "markdown",
   "id": "chubby-poetry",
   "metadata": {
    "hidden": true,
    "papermill": {
     "duration": 0.175286,
     "end_time": "2021-07-07T05:12:29.949895",
     "exception": false,
     "start_time": "2021-07-07T05:12:29.774609",
     "status": "completed"
    },
    "tags": []
   },
   "source": [
    "An easy method of converting decimal to binary number equivalents is to write down the decimal number and to continually divide-by-2 (two) to give a result and a remainder of either a “1” or a “0” until the final result equals zero."
   ]
  },
  {
   "cell_type": "code",
   "execution_count": 123,
   "id": "executed-gravity",
   "metadata": {
    "execution": {
     "iopub.execute_input": "2021-07-07T05:12:30.312216Z",
     "iopub.status.busy": "2021-07-07T05:12:30.311383Z",
     "iopub.status.idle": "2021-07-07T05:12:30.314617Z",
     "shell.execute_reply": "2021-07-07T05:12:30.314066Z",
     "shell.execute_reply.started": "2021-07-07T05:09:24.654154Z"
    },
    "hidden": true,
    "papermill": {
     "duration": 0.18895,
     "end_time": "2021-07-07T05:12:30.314807",
     "exception": false,
     "start_time": "2021-07-07T05:12:30.125857",
     "status": "completed"
    },
    "tags": []
   },
   "outputs": [],
   "source": [
    "C1 = np.array([1,5,43,54,22,85,19,35])\n",
    "C2 = np.array([42,24,53,342,88,9,54,12])\n",
    "C3 = np.array([13,53,57,43,76,18,45,35])\n",
    "df = pd.DataFrame({\"C1\":C1,\"C2\":C2,\"C3\":C3})\n",
    "\n",
    "df = df.astype(float)"
   ]
  },
  {
   "cell_type": "code",
   "execution_count": 124,
   "id": "closing-genome",
   "metadata": {
    "execution": {
     "iopub.execute_input": "2021-07-07T05:12:30.680628Z",
     "iopub.status.busy": "2021-07-07T05:12:30.679554Z",
     "iopub.status.idle": "2021-07-07T05:12:30.684491Z",
     "shell.execute_reply": "2021-07-07T05:12:30.683860Z",
     "shell.execute_reply.started": "2021-07-07T05:09:24.935624Z"
    },
    "hidden": true,
    "papermill": {
     "duration": 0.195251,
     "end_time": "2021-07-07T05:12:30.684660",
     "exception": false,
     "start_time": "2021-07-07T05:12:30.489409",
     "status": "completed"
    },
    "tags": []
   },
   "outputs": [
    {
     "data": {
      "text/html": [
       "<div>\n",
       "<style scoped>\n",
       "    .dataframe tbody tr th:only-of-type {\n",
       "        vertical-align: middle;\n",
       "    }\n",
       "\n",
       "    .dataframe tbody tr th {\n",
       "        vertical-align: top;\n",
       "    }\n",
       "\n",
       "    .dataframe thead th {\n",
       "        text-align: right;\n",
       "    }\n",
       "</style>\n",
       "<table border=\"1\" class=\"dataframe\">\n",
       "  <thead>\n",
       "    <tr style=\"text-align: right;\">\n",
       "      <th></th>\n",
       "      <th>C1</th>\n",
       "      <th>C2</th>\n",
       "      <th>C3</th>\n",
       "    </tr>\n",
       "  </thead>\n",
       "  <tbody>\n",
       "    <tr>\n",
       "      <th>0</th>\n",
       "      <td>1.0</td>\n",
       "      <td>42.0</td>\n",
       "      <td>13.0</td>\n",
       "    </tr>\n",
       "    <tr>\n",
       "      <th>1</th>\n",
       "      <td>5.0</td>\n",
       "      <td>24.0</td>\n",
       "      <td>53.0</td>\n",
       "    </tr>\n",
       "    <tr>\n",
       "      <th>2</th>\n",
       "      <td>43.0</td>\n",
       "      <td>53.0</td>\n",
       "      <td>57.0</td>\n",
       "    </tr>\n",
       "    <tr>\n",
       "      <th>3</th>\n",
       "      <td>54.0</td>\n",
       "      <td>342.0</td>\n",
       "      <td>43.0</td>\n",
       "    </tr>\n",
       "    <tr>\n",
       "      <th>4</th>\n",
       "      <td>22.0</td>\n",
       "      <td>88.0</td>\n",
       "      <td>76.0</td>\n",
       "    </tr>\n",
       "    <tr>\n",
       "      <th>5</th>\n",
       "      <td>85.0</td>\n",
       "      <td>9.0</td>\n",
       "      <td>18.0</td>\n",
       "    </tr>\n",
       "    <tr>\n",
       "      <th>6</th>\n",
       "      <td>19.0</td>\n",
       "      <td>54.0</td>\n",
       "      <td>45.0</td>\n",
       "    </tr>\n",
       "    <tr>\n",
       "      <th>7</th>\n",
       "      <td>35.0</td>\n",
       "      <td>12.0</td>\n",
       "      <td>35.0</td>\n",
       "    </tr>\n",
       "  </tbody>\n",
       "</table>\n",
       "</div>"
      ],
      "text/plain": [
       "     C1     C2    C3\n",
       "0   1.0   42.0  13.0\n",
       "1   5.0   24.0  53.0\n",
       "2  43.0   53.0  57.0\n",
       "3  54.0  342.0  43.0\n",
       "4  22.0   88.0  76.0\n",
       "5  85.0    9.0  18.0\n",
       "6  19.0   54.0  45.0\n",
       "7  35.0   12.0  35.0"
      ]
     },
     "execution_count": 124,
     "metadata": {},
     "output_type": "execute_result"
    }
   ],
   "source": [
    "df"
   ]
  },
  {
   "cell_type": "code",
   "execution_count": 125,
   "id": "secret-bunch",
   "metadata": {
    "execution": {
     "iopub.execute_input": "2021-07-07T05:12:31.040681Z",
     "iopub.status.busy": "2021-07-07T05:12:31.040015Z",
     "iopub.status.idle": "2021-07-07T05:12:31.043450Z",
     "shell.execute_reply": "2021-07-07T05:12:31.042809Z",
     "shell.execute_reply.started": "2021-07-07T05:09:25.290602Z"
    },
    "hidden": true,
    "papermill": {
     "duration": 0.183931,
     "end_time": "2021-07-07T05:12:31.043590",
     "exception": false,
     "start_time": "2021-07-07T05:12:30.859659",
     "status": "completed"
    },
    "tags": []
   },
   "outputs": [],
   "source": [
    "binarizer = preprocessing.Binarizer(threshold=10)"
   ]
  },
  {
   "cell_type": "code",
   "execution_count": 126,
   "id": "given-repository",
   "metadata": {
    "execution": {
     "iopub.execute_input": "2021-07-07T05:12:31.408685Z",
     "iopub.status.busy": "2021-07-07T05:12:31.407730Z",
     "iopub.status.idle": "2021-07-07T05:12:31.412155Z",
     "shell.execute_reply": "2021-07-07T05:12:31.411503Z",
     "shell.execute_reply.started": "2021-07-07T05:09:25.629762Z"
    },
    "hidden": true,
    "papermill": {
     "duration": 0.188758,
     "end_time": "2021-07-07T05:12:31.412299",
     "exception": false,
     "start_time": "2021-07-07T05:12:31.223541",
     "status": "completed"
    },
    "tags": []
   },
   "outputs": [
    {
     "data": {
      "text/plain": [
       "array([[0., 1., 1.],\n",
       "       [0., 1., 1.],\n",
       "       [1., 1., 1.],\n",
       "       [1., 1., 1.],\n",
       "       [1., 1., 1.],\n",
       "       [1., 0., 1.],\n",
       "       [1., 1., 1.],\n",
       "       [1., 1., 1.]])"
      ]
     },
     "execution_count": 126,
     "metadata": {},
     "output_type": "execute_result"
    }
   ],
   "source": [
    "binarizer.fit_transform(df)"
   ]
  },
  {
   "cell_type": "markdown",
   "id": "uniform-appreciation",
   "metadata": {
    "heading_collapsed": true,
    "papermill": {
     "duration": 0.181716,
     "end_time": "2021-07-07T05:12:31.773291",
     "exception": false,
     "start_time": "2021-07-07T05:12:31.591575",
     "status": "completed"
    },
    "tags": []
   },
   "source": [
    "## Variable Transformation"
   ]
  },
  {
   "cell_type": "markdown",
   "id": "artistic-conditions",
   "metadata": {
    "heading_collapsed": true,
    "hidden": true,
    "papermill": {
     "duration": 0.176025,
     "end_time": "2021-07-07T05:12:32.124953",
     "exception": false,
     "start_time": "2021-07-07T05:12:31.948928",
     "status": "completed"
    },
    "tags": []
   },
   "source": [
    "### Label Encoding"
   ]
  },
  {
   "cell_type": "markdown",
   "id": "recreational-mason",
   "metadata": {
    "hidden": true,
    "papermill": {
     "duration": 0.175428,
     "end_time": "2021-07-07T05:12:32.477900",
     "exception": false,
     "start_time": "2021-07-07T05:12:32.302472",
     "status": "completed"
    },
    "tags": []
   },
   "source": [
    "Encode categorical target labels with value between 0 and n_classes-1."
   ]
  },
  {
   "cell_type": "markdown",
   "id": "hungry-miami",
   "metadata": {
    "hidden": true,
    "papermill": {
     "duration": 0.176705,
     "end_time": "2021-07-07T05:12:32.833013",
     "exception": false,
     "start_time": "2021-07-07T05:12:32.656308",
     "status": "completed"
    },
    "tags": []
   },
   "source": [
    "For a real world example, we will use tips dataset of Seaborn."
   ]
  },
  {
   "cell_type": "code",
   "execution_count": 127,
   "id": "delayed-bookmark",
   "metadata": {
    "execution": {
     "iopub.execute_input": "2021-07-07T05:12:33.191219Z",
     "iopub.status.busy": "2021-07-07T05:12:33.190476Z",
     "iopub.status.idle": "2021-07-07T05:12:33.213595Z",
     "shell.execute_reply": "2021-07-07T05:12:33.214107Z",
     "shell.execute_reply.started": "2021-07-07T05:09:27.491061Z"
    },
    "hidden": true,
    "papermill": {
     "duration": 0.205861,
     "end_time": "2021-07-07T05:12:33.214289",
     "exception": false,
     "start_time": "2021-07-07T05:12:33.008428",
     "status": "completed"
    },
    "tags": []
   },
   "outputs": [
    {
     "data": {
      "text/html": [
       "<div>\n",
       "<style scoped>\n",
       "    .dataframe tbody tr th:only-of-type {\n",
       "        vertical-align: middle;\n",
       "    }\n",
       "\n",
       "    .dataframe tbody tr th {\n",
       "        vertical-align: top;\n",
       "    }\n",
       "\n",
       "    .dataframe thead th {\n",
       "        text-align: right;\n",
       "    }\n",
       "</style>\n",
       "<table border=\"1\" class=\"dataframe\">\n",
       "  <thead>\n",
       "    <tr style=\"text-align: right;\">\n",
       "      <th></th>\n",
       "      <th>total_bill</th>\n",
       "      <th>tip</th>\n",
       "      <th>sex</th>\n",
       "      <th>smoker</th>\n",
       "      <th>day</th>\n",
       "      <th>time</th>\n",
       "      <th>size</th>\n",
       "    </tr>\n",
       "  </thead>\n",
       "  <tbody>\n",
       "    <tr>\n",
       "      <th>0</th>\n",
       "      <td>16.99</td>\n",
       "      <td>1.01</td>\n",
       "      <td>Female</td>\n",
       "      <td>No</td>\n",
       "      <td>Sun</td>\n",
       "      <td>Dinner</td>\n",
       "      <td>2</td>\n",
       "    </tr>\n",
       "    <tr>\n",
       "      <th>1</th>\n",
       "      <td>10.34</td>\n",
       "      <td>1.66</td>\n",
       "      <td>Male</td>\n",
       "      <td>No</td>\n",
       "      <td>Sun</td>\n",
       "      <td>Dinner</td>\n",
       "      <td>3</td>\n",
       "    </tr>\n",
       "    <tr>\n",
       "      <th>2</th>\n",
       "      <td>21.01</td>\n",
       "      <td>3.50</td>\n",
       "      <td>Male</td>\n",
       "      <td>No</td>\n",
       "      <td>Sun</td>\n",
       "      <td>Dinner</td>\n",
       "      <td>3</td>\n",
       "    </tr>\n",
       "    <tr>\n",
       "      <th>3</th>\n",
       "      <td>23.68</td>\n",
       "      <td>3.31</td>\n",
       "      <td>Male</td>\n",
       "      <td>No</td>\n",
       "      <td>Sun</td>\n",
       "      <td>Dinner</td>\n",
       "      <td>2</td>\n",
       "    </tr>\n",
       "    <tr>\n",
       "      <th>4</th>\n",
       "      <td>24.59</td>\n",
       "      <td>3.61</td>\n",
       "      <td>Female</td>\n",
       "      <td>No</td>\n",
       "      <td>Sun</td>\n",
       "      <td>Dinner</td>\n",
       "      <td>4</td>\n",
       "    </tr>\n",
       "  </tbody>\n",
       "</table>\n",
       "</div>"
      ],
      "text/plain": [
       "   total_bill   tip     sex smoker  day    time  size\n",
       "0       16.99  1.01  Female     No  Sun  Dinner     2\n",
       "1       10.34  1.66    Male     No  Sun  Dinner     3\n",
       "2       21.01  3.50    Male     No  Sun  Dinner     3\n",
       "3       23.68  3.31    Male     No  Sun  Dinner     2\n",
       "4       24.59  3.61  Female     No  Sun  Dinner     4"
      ]
     },
     "execution_count": 127,
     "metadata": {},
     "output_type": "execute_result"
    }
   ],
   "source": [
    "df = sns.load_dataset(\"tips\")\n",
    "df.head()"
   ]
  },
  {
   "cell_type": "code",
   "execution_count": 128,
   "id": "forced-adaptation",
   "metadata": {
    "execution": {
     "iopub.execute_input": "2021-07-07T05:12:33.575596Z",
     "iopub.status.busy": "2021-07-07T05:12:33.574930Z",
     "iopub.status.idle": "2021-07-07T05:12:33.578245Z",
     "shell.execute_reply": "2021-07-07T05:12:33.578756Z",
     "shell.execute_reply.started": "2021-07-07T05:09:27.761477Z"
    },
    "hidden": true,
    "papermill": {
     "duration": 0.186772,
     "end_time": "2021-07-07T05:12:33.578928",
     "exception": false,
     "start_time": "2021-07-07T05:12:33.392156",
     "status": "completed"
    },
    "tags": []
   },
   "outputs": [],
   "source": [
    "label_encoder = LabelEncoder()"
   ]
  },
  {
   "cell_type": "code",
   "execution_count": 129,
   "id": "victorian-consideration",
   "metadata": {
    "execution": {
     "iopub.execute_input": "2021-07-07T05:12:33.943331Z",
     "iopub.status.busy": "2021-07-07T05:12:33.942340Z",
     "iopub.status.idle": "2021-07-07T05:12:33.946754Z",
     "shell.execute_reply": "2021-07-07T05:12:33.946198Z"
    },
    "hidden": true,
    "papermill": {
     "duration": 0.186948,
     "end_time": "2021-07-07T05:12:33.946907",
     "exception": false,
     "start_time": "2021-07-07T05:12:33.759959",
     "status": "completed"
    },
    "tags": []
   },
   "outputs": [
    {
     "data": {
      "text/plain": [
       "array([0, 1, 1, 1, 0, 1, 1, 1, 1, 1, 1, 0, 1, 1, 0, 1, 0, 1, 0, 1, 1, 0,\n",
       "       0, 1, 1, 1, 1, 1, 1, 0, 1, 1, 0, 0, 1, 1, 1, 0, 1, 1, 1, 1, 1, 1,\n",
       "       1, 1, 1, 1, 1, 1, 1, 0, 0, 1, 1, 1, 1, 0, 1, 1, 1, 1, 1, 1, 1, 1,\n",
       "       0, 0, 1, 1, 1, 0, 0, 0, 0, 1, 1, 1, 1, 1, 1, 1, 0, 1, 1, 0, 1, 1,\n",
       "       1, 1, 1, 1, 0, 0, 0, 1, 1, 1, 1, 1, 0, 0, 0, 0, 0, 1, 1, 1, 1, 0,\n",
       "       1, 0, 1, 1, 0, 0, 1, 0, 0, 0, 1, 0, 1, 1, 0, 0, 1, 0, 0, 1, 1, 0,\n",
       "       0, 0, 0, 0, 0, 0, 1, 0, 0, 1, 1, 0, 0, 0, 0, 0, 1, 1, 1, 1, 1, 1,\n",
       "       1, 0, 1, 0, 0, 1, 1, 1, 0, 1, 0, 1, 1, 1, 0, 0, 1, 1, 1, 1, 1, 1,\n",
       "       1, 1, 0, 1, 1, 1, 1, 1, 1, 1, 0, 1, 0, 1, 1, 0, 1, 1, 1, 1, 1, 0,\n",
       "       0, 1, 1, 0, 0, 0, 1, 0, 1, 1, 1, 0, 1, 1, 1, 0, 0, 0, 1, 1, 1, 0,\n",
       "       1, 0, 1, 0, 1, 0, 0, 1, 1, 0, 1, 1, 1, 1, 1, 1, 1, 1, 0, 1, 0, 1,\n",
       "       1, 0])"
      ]
     },
     "execution_count": 129,
     "metadata": {},
     "output_type": "execute_result"
    }
   ],
   "source": [
    "label_encoder.fit_transform(df[\"sex\"])"
   ]
  },
  {
   "cell_type": "code",
   "execution_count": 130,
   "id": "identical-pricing",
   "metadata": {
    "execution": {
     "iopub.execute_input": "2021-07-07T05:12:34.324392Z",
     "iopub.status.busy": "2021-07-07T05:12:34.323788Z",
     "iopub.status.idle": "2021-07-07T05:12:34.326534Z",
     "shell.execute_reply": "2021-07-07T05:12:34.325990Z"
    },
    "hidden": true,
    "papermill": {
     "duration": 0.192726,
     "end_time": "2021-07-07T05:12:34.326696",
     "exception": false,
     "start_time": "2021-07-07T05:12:34.133970",
     "status": "completed"
    },
    "tags": []
   },
   "outputs": [],
   "source": [
    "df[\"encoded_sex\"] = label_encoder.fit_transform(df[\"sex\"])"
   ]
  },
  {
   "cell_type": "code",
   "execution_count": 131,
   "id": "steady-evolution",
   "metadata": {
    "execution": {
     "iopub.execute_input": "2021-07-07T05:12:34.741592Z",
     "iopub.status.busy": "2021-07-07T05:12:34.740939Z",
     "iopub.status.idle": "2021-07-07T05:12:34.744467Z",
     "shell.execute_reply": "2021-07-07T05:12:34.743907Z"
    },
    "hidden": true,
    "papermill": {
     "duration": 0.237016,
     "end_time": "2021-07-07T05:12:34.744610",
     "exception": false,
     "start_time": "2021-07-07T05:12:34.507594",
     "status": "completed"
    },
    "tags": []
   },
   "outputs": [
    {
     "data": {
      "text/html": [
       "<div>\n",
       "<style scoped>\n",
       "    .dataframe tbody tr th:only-of-type {\n",
       "        vertical-align: middle;\n",
       "    }\n",
       "\n",
       "    .dataframe tbody tr th {\n",
       "        vertical-align: top;\n",
       "    }\n",
       "\n",
       "    .dataframe thead th {\n",
       "        text-align: right;\n",
       "    }\n",
       "</style>\n",
       "<table border=\"1\" class=\"dataframe\">\n",
       "  <thead>\n",
       "    <tr style=\"text-align: right;\">\n",
       "      <th></th>\n",
       "      <th>total_bill</th>\n",
       "      <th>tip</th>\n",
       "      <th>sex</th>\n",
       "      <th>smoker</th>\n",
       "      <th>day</th>\n",
       "      <th>time</th>\n",
       "      <th>size</th>\n",
       "      <th>encoded_sex</th>\n",
       "    </tr>\n",
       "  </thead>\n",
       "  <tbody>\n",
       "    <tr>\n",
       "      <th>0</th>\n",
       "      <td>16.99</td>\n",
       "      <td>1.01</td>\n",
       "      <td>Female</td>\n",
       "      <td>No</td>\n",
       "      <td>Sun</td>\n",
       "      <td>Dinner</td>\n",
       "      <td>2</td>\n",
       "      <td>0</td>\n",
       "    </tr>\n",
       "    <tr>\n",
       "      <th>1</th>\n",
       "      <td>10.34</td>\n",
       "      <td>1.66</td>\n",
       "      <td>Male</td>\n",
       "      <td>No</td>\n",
       "      <td>Sun</td>\n",
       "      <td>Dinner</td>\n",
       "      <td>3</td>\n",
       "      <td>1</td>\n",
       "    </tr>\n",
       "    <tr>\n",
       "      <th>2</th>\n",
       "      <td>21.01</td>\n",
       "      <td>3.50</td>\n",
       "      <td>Male</td>\n",
       "      <td>No</td>\n",
       "      <td>Sun</td>\n",
       "      <td>Dinner</td>\n",
       "      <td>3</td>\n",
       "      <td>1</td>\n",
       "    </tr>\n",
       "    <tr>\n",
       "      <th>3</th>\n",
       "      <td>23.68</td>\n",
       "      <td>3.31</td>\n",
       "      <td>Male</td>\n",
       "      <td>No</td>\n",
       "      <td>Sun</td>\n",
       "      <td>Dinner</td>\n",
       "      <td>2</td>\n",
       "      <td>1</td>\n",
       "    </tr>\n",
       "    <tr>\n",
       "      <th>4</th>\n",
       "      <td>24.59</td>\n",
       "      <td>3.61</td>\n",
       "      <td>Female</td>\n",
       "      <td>No</td>\n",
       "      <td>Sun</td>\n",
       "      <td>Dinner</td>\n",
       "      <td>4</td>\n",
       "      <td>0</td>\n",
       "    </tr>\n",
       "  </tbody>\n",
       "</table>\n",
       "</div>"
      ],
      "text/plain": [
       "   total_bill   tip     sex smoker  day    time  size  encoded_sex\n",
       "0       16.99  1.01  Female     No  Sun  Dinner     2            0\n",
       "1       10.34  1.66    Male     No  Sun  Dinner     3            1\n",
       "2       21.01  3.50    Male     No  Sun  Dinner     3            1\n",
       "3       23.68  3.31    Male     No  Sun  Dinner     2            1\n",
       "4       24.59  3.61  Female     No  Sun  Dinner     4            0"
      ]
     },
     "execution_count": 131,
     "metadata": {},
     "output_type": "execute_result"
    }
   ],
   "source": [
    "df.head()"
   ]
  },
  {
   "cell_type": "markdown",
   "id": "unsigned-ballet",
   "metadata": {
    "hidden": true,
    "papermill": {
     "duration": 0.179507,
     "end_time": "2021-07-07T05:12:35.102623",
     "exception": false,
     "start_time": "2021-07-07T05:12:34.923116",
     "status": "completed"
    },
    "tags": []
   },
   "source": [
    "If we want a binary transformation, we can also use **cat.codes** function."
   ]
  },
  {
   "cell_type": "code",
   "execution_count": 132,
   "id": "enhanced-hudson",
   "metadata": {
    "execution": {
     "iopub.execute_input": "2021-07-07T05:12:35.495156Z",
     "iopub.status.busy": "2021-07-07T05:12:35.494217Z",
     "iopub.status.idle": "2021-07-07T05:12:35.497805Z",
     "shell.execute_reply": "2021-07-07T05:12:35.497109Z"
    },
    "hidden": true,
    "papermill": {
     "duration": 0.210894,
     "end_time": "2021-07-07T05:12:35.497952",
     "exception": false,
     "start_time": "2021-07-07T05:12:35.287058",
     "status": "completed"
    },
    "tags": []
   },
   "outputs": [],
   "source": [
    "df[\"smoker_encoded\"] = df[\"smoker\"].cat.codes"
   ]
  },
  {
   "cell_type": "code",
   "execution_count": 133,
   "id": "asian-curve",
   "metadata": {
    "execution": {
     "iopub.execute_input": "2021-07-07T05:12:35.916805Z",
     "iopub.status.busy": "2021-07-07T05:12:35.906676Z",
     "iopub.status.idle": "2021-07-07T05:12:35.920949Z",
     "shell.execute_reply": "2021-07-07T05:12:35.921444Z"
    },
    "hidden": true,
    "papermill": {
     "duration": 0.240189,
     "end_time": "2021-07-07T05:12:35.921615",
     "exception": false,
     "start_time": "2021-07-07T05:12:35.681426",
     "status": "completed"
    },
    "tags": []
   },
   "outputs": [
    {
     "data": {
      "text/html": [
       "<div>\n",
       "<style scoped>\n",
       "    .dataframe tbody tr th:only-of-type {\n",
       "        vertical-align: middle;\n",
       "    }\n",
       "\n",
       "    .dataframe tbody tr th {\n",
       "        vertical-align: top;\n",
       "    }\n",
       "\n",
       "    .dataframe thead th {\n",
       "        text-align: right;\n",
       "    }\n",
       "</style>\n",
       "<table border=\"1\" class=\"dataframe\">\n",
       "  <thead>\n",
       "    <tr style=\"text-align: right;\">\n",
       "      <th></th>\n",
       "      <th>total_bill</th>\n",
       "      <th>tip</th>\n",
       "      <th>sex</th>\n",
       "      <th>smoker</th>\n",
       "      <th>day</th>\n",
       "      <th>time</th>\n",
       "      <th>size</th>\n",
       "      <th>encoded_sex</th>\n",
       "      <th>smoker_encoded</th>\n",
       "    </tr>\n",
       "  </thead>\n",
       "  <tbody>\n",
       "    <tr>\n",
       "      <th>0</th>\n",
       "      <td>16.99</td>\n",
       "      <td>1.01</td>\n",
       "      <td>Female</td>\n",
       "      <td>No</td>\n",
       "      <td>Sun</td>\n",
       "      <td>Dinner</td>\n",
       "      <td>2</td>\n",
       "      <td>0</td>\n",
       "      <td>1</td>\n",
       "    </tr>\n",
       "    <tr>\n",
       "      <th>1</th>\n",
       "      <td>10.34</td>\n",
       "      <td>1.66</td>\n",
       "      <td>Male</td>\n",
       "      <td>No</td>\n",
       "      <td>Sun</td>\n",
       "      <td>Dinner</td>\n",
       "      <td>3</td>\n",
       "      <td>1</td>\n",
       "      <td>1</td>\n",
       "    </tr>\n",
       "    <tr>\n",
       "      <th>2</th>\n",
       "      <td>21.01</td>\n",
       "      <td>3.50</td>\n",
       "      <td>Male</td>\n",
       "      <td>No</td>\n",
       "      <td>Sun</td>\n",
       "      <td>Dinner</td>\n",
       "      <td>3</td>\n",
       "      <td>1</td>\n",
       "      <td>1</td>\n",
       "    </tr>\n",
       "    <tr>\n",
       "      <th>3</th>\n",
       "      <td>23.68</td>\n",
       "      <td>3.31</td>\n",
       "      <td>Male</td>\n",
       "      <td>No</td>\n",
       "      <td>Sun</td>\n",
       "      <td>Dinner</td>\n",
       "      <td>2</td>\n",
       "      <td>1</td>\n",
       "      <td>1</td>\n",
       "    </tr>\n",
       "    <tr>\n",
       "      <th>4</th>\n",
       "      <td>24.59</td>\n",
       "      <td>3.61</td>\n",
       "      <td>Female</td>\n",
       "      <td>No</td>\n",
       "      <td>Sun</td>\n",
       "      <td>Dinner</td>\n",
       "      <td>4</td>\n",
       "      <td>0</td>\n",
       "      <td>1</td>\n",
       "    </tr>\n",
       "    <tr>\n",
       "      <th>...</th>\n",
       "      <td>...</td>\n",
       "      <td>...</td>\n",
       "      <td>...</td>\n",
       "      <td>...</td>\n",
       "      <td>...</td>\n",
       "      <td>...</td>\n",
       "      <td>...</td>\n",
       "      <td>...</td>\n",
       "      <td>...</td>\n",
       "    </tr>\n",
       "    <tr>\n",
       "      <th>239</th>\n",
       "      <td>29.03</td>\n",
       "      <td>5.92</td>\n",
       "      <td>Male</td>\n",
       "      <td>No</td>\n",
       "      <td>Sat</td>\n",
       "      <td>Dinner</td>\n",
       "      <td>3</td>\n",
       "      <td>1</td>\n",
       "      <td>1</td>\n",
       "    </tr>\n",
       "    <tr>\n",
       "      <th>240</th>\n",
       "      <td>27.18</td>\n",
       "      <td>2.00</td>\n",
       "      <td>Female</td>\n",
       "      <td>Yes</td>\n",
       "      <td>Sat</td>\n",
       "      <td>Dinner</td>\n",
       "      <td>2</td>\n",
       "      <td>0</td>\n",
       "      <td>0</td>\n",
       "    </tr>\n",
       "    <tr>\n",
       "      <th>241</th>\n",
       "      <td>22.67</td>\n",
       "      <td>2.00</td>\n",
       "      <td>Male</td>\n",
       "      <td>Yes</td>\n",
       "      <td>Sat</td>\n",
       "      <td>Dinner</td>\n",
       "      <td>2</td>\n",
       "      <td>1</td>\n",
       "      <td>0</td>\n",
       "    </tr>\n",
       "    <tr>\n",
       "      <th>242</th>\n",
       "      <td>17.82</td>\n",
       "      <td>1.75</td>\n",
       "      <td>Male</td>\n",
       "      <td>No</td>\n",
       "      <td>Sat</td>\n",
       "      <td>Dinner</td>\n",
       "      <td>2</td>\n",
       "      <td>1</td>\n",
       "      <td>1</td>\n",
       "    </tr>\n",
       "    <tr>\n",
       "      <th>243</th>\n",
       "      <td>18.78</td>\n",
       "      <td>3.00</td>\n",
       "      <td>Female</td>\n",
       "      <td>No</td>\n",
       "      <td>Thur</td>\n",
       "      <td>Dinner</td>\n",
       "      <td>2</td>\n",
       "      <td>0</td>\n",
       "      <td>1</td>\n",
       "    </tr>\n",
       "  </tbody>\n",
       "</table>\n",
       "<p>244 rows × 9 columns</p>\n",
       "</div>"
      ],
      "text/plain": [
       "     total_bill   tip     sex smoker   day    time  size  encoded_sex  \\\n",
       "0         16.99  1.01  Female     No   Sun  Dinner     2            0   \n",
       "1         10.34  1.66    Male     No   Sun  Dinner     3            1   \n",
       "2         21.01  3.50    Male     No   Sun  Dinner     3            1   \n",
       "3         23.68  3.31    Male     No   Sun  Dinner     2            1   \n",
       "4         24.59  3.61  Female     No   Sun  Dinner     4            0   \n",
       "..          ...   ...     ...    ...   ...     ...   ...          ...   \n",
       "239       29.03  5.92    Male     No   Sat  Dinner     3            1   \n",
       "240       27.18  2.00  Female    Yes   Sat  Dinner     2            0   \n",
       "241       22.67  2.00    Male    Yes   Sat  Dinner     2            1   \n",
       "242       17.82  1.75    Male     No   Sat  Dinner     2            1   \n",
       "243       18.78  3.00  Female     No  Thur  Dinner     2            0   \n",
       "\n",
       "     smoker_encoded  \n",
       "0                 1  \n",
       "1                 1  \n",
       "2                 1  \n",
       "3                 1  \n",
       "4                 1  \n",
       "..              ...  \n",
       "239               1  \n",
       "240               0  \n",
       "241               0  \n",
       "242               1  \n",
       "243               1  \n",
       "\n",
       "[244 rows x 9 columns]"
      ]
     },
     "execution_count": 133,
     "metadata": {},
     "output_type": "execute_result"
    }
   ],
   "source": [
    "df"
   ]
  },
  {
   "cell_type": "markdown",
   "id": "dressed-colors",
   "metadata": {
    "hidden": true,
    "papermill": {
     "duration": 0.180631,
     "end_time": "2021-07-07T05:12:36.309177",
     "exception": false,
     "start_time": "2021-07-07T05:12:36.128546",
     "status": "completed"
    },
    "tags": []
   },
   "source": [
    "We can also do that for multiple classes but its not recommended. *One Hot Encoding* can be used for that."
   ]
  },
  {
   "cell_type": "code",
   "execution_count": 134,
   "id": "attached-portable",
   "metadata": {
    "execution": {
     "iopub.execute_input": "2021-07-07T05:12:36.676422Z",
     "iopub.status.busy": "2021-07-07T05:12:36.675673Z",
     "iopub.status.idle": "2021-07-07T05:12:36.678954Z",
     "shell.execute_reply": "2021-07-07T05:12:36.678298Z"
    },
    "hidden": true,
    "papermill": {
     "duration": 0.188367,
     "end_time": "2021-07-07T05:12:36.679106",
     "exception": false,
     "start_time": "2021-07-07T05:12:36.490739",
     "status": "completed"
    },
    "tags": []
   },
   "outputs": [],
   "source": [
    "df[\"day_encoded\"] =label_encoder.fit_transform(df[\"day\"])"
   ]
  },
  {
   "cell_type": "code",
   "execution_count": 135,
   "id": "lovely-fetish",
   "metadata": {
    "execution": {
     "iopub.execute_input": "2021-07-07T05:12:37.061974Z",
     "iopub.status.busy": "2021-07-07T05:12:37.061327Z",
     "iopub.status.idle": "2021-07-07T05:12:37.077799Z",
     "shell.execute_reply": "2021-07-07T05:12:37.078268Z"
    },
    "hidden": true,
    "papermill": {
     "duration": 0.219605,
     "end_time": "2021-07-07T05:12:37.078449",
     "exception": false,
     "start_time": "2021-07-07T05:12:36.858844",
     "status": "completed"
    },
    "tags": []
   },
   "outputs": [
    {
     "data": {
      "text/html": [
       "<div>\n",
       "<style scoped>\n",
       "    .dataframe tbody tr th:only-of-type {\n",
       "        vertical-align: middle;\n",
       "    }\n",
       "\n",
       "    .dataframe tbody tr th {\n",
       "        vertical-align: top;\n",
       "    }\n",
       "\n",
       "    .dataframe thead th {\n",
       "        text-align: right;\n",
       "    }\n",
       "</style>\n",
       "<table border=\"1\" class=\"dataframe\">\n",
       "  <thead>\n",
       "    <tr style=\"text-align: right;\">\n",
       "      <th></th>\n",
       "      <th>total_bill</th>\n",
       "      <th>tip</th>\n",
       "      <th>sex</th>\n",
       "      <th>smoker</th>\n",
       "      <th>day</th>\n",
       "      <th>time</th>\n",
       "      <th>size</th>\n",
       "      <th>encoded_sex</th>\n",
       "      <th>smoker_encoded</th>\n",
       "      <th>day_encoded</th>\n",
       "    </tr>\n",
       "  </thead>\n",
       "  <tbody>\n",
       "    <tr>\n",
       "      <th>0</th>\n",
       "      <td>16.99</td>\n",
       "      <td>1.01</td>\n",
       "      <td>Female</td>\n",
       "      <td>No</td>\n",
       "      <td>Sun</td>\n",
       "      <td>Dinner</td>\n",
       "      <td>2</td>\n",
       "      <td>0</td>\n",
       "      <td>1</td>\n",
       "      <td>2</td>\n",
       "    </tr>\n",
       "    <tr>\n",
       "      <th>1</th>\n",
       "      <td>10.34</td>\n",
       "      <td>1.66</td>\n",
       "      <td>Male</td>\n",
       "      <td>No</td>\n",
       "      <td>Sun</td>\n",
       "      <td>Dinner</td>\n",
       "      <td>3</td>\n",
       "      <td>1</td>\n",
       "      <td>1</td>\n",
       "      <td>2</td>\n",
       "    </tr>\n",
       "    <tr>\n",
       "      <th>2</th>\n",
       "      <td>21.01</td>\n",
       "      <td>3.50</td>\n",
       "      <td>Male</td>\n",
       "      <td>No</td>\n",
       "      <td>Sun</td>\n",
       "      <td>Dinner</td>\n",
       "      <td>3</td>\n",
       "      <td>1</td>\n",
       "      <td>1</td>\n",
       "      <td>2</td>\n",
       "    </tr>\n",
       "    <tr>\n",
       "      <th>3</th>\n",
       "      <td>23.68</td>\n",
       "      <td>3.31</td>\n",
       "      <td>Male</td>\n",
       "      <td>No</td>\n",
       "      <td>Sun</td>\n",
       "      <td>Dinner</td>\n",
       "      <td>2</td>\n",
       "      <td>1</td>\n",
       "      <td>1</td>\n",
       "      <td>2</td>\n",
       "    </tr>\n",
       "    <tr>\n",
       "      <th>4</th>\n",
       "      <td>24.59</td>\n",
       "      <td>3.61</td>\n",
       "      <td>Female</td>\n",
       "      <td>No</td>\n",
       "      <td>Sun</td>\n",
       "      <td>Dinner</td>\n",
       "      <td>4</td>\n",
       "      <td>0</td>\n",
       "      <td>1</td>\n",
       "      <td>2</td>\n",
       "    </tr>\n",
       "    <tr>\n",
       "      <th>...</th>\n",
       "      <td>...</td>\n",
       "      <td>...</td>\n",
       "      <td>...</td>\n",
       "      <td>...</td>\n",
       "      <td>...</td>\n",
       "      <td>...</td>\n",
       "      <td>...</td>\n",
       "      <td>...</td>\n",
       "      <td>...</td>\n",
       "      <td>...</td>\n",
       "    </tr>\n",
       "    <tr>\n",
       "      <th>239</th>\n",
       "      <td>29.03</td>\n",
       "      <td>5.92</td>\n",
       "      <td>Male</td>\n",
       "      <td>No</td>\n",
       "      <td>Sat</td>\n",
       "      <td>Dinner</td>\n",
       "      <td>3</td>\n",
       "      <td>1</td>\n",
       "      <td>1</td>\n",
       "      <td>1</td>\n",
       "    </tr>\n",
       "    <tr>\n",
       "      <th>240</th>\n",
       "      <td>27.18</td>\n",
       "      <td>2.00</td>\n",
       "      <td>Female</td>\n",
       "      <td>Yes</td>\n",
       "      <td>Sat</td>\n",
       "      <td>Dinner</td>\n",
       "      <td>2</td>\n",
       "      <td>0</td>\n",
       "      <td>0</td>\n",
       "      <td>1</td>\n",
       "    </tr>\n",
       "    <tr>\n",
       "      <th>241</th>\n",
       "      <td>22.67</td>\n",
       "      <td>2.00</td>\n",
       "      <td>Male</td>\n",
       "      <td>Yes</td>\n",
       "      <td>Sat</td>\n",
       "      <td>Dinner</td>\n",
       "      <td>2</td>\n",
       "      <td>1</td>\n",
       "      <td>0</td>\n",
       "      <td>1</td>\n",
       "    </tr>\n",
       "    <tr>\n",
       "      <th>242</th>\n",
       "      <td>17.82</td>\n",
       "      <td>1.75</td>\n",
       "      <td>Male</td>\n",
       "      <td>No</td>\n",
       "      <td>Sat</td>\n",
       "      <td>Dinner</td>\n",
       "      <td>2</td>\n",
       "      <td>1</td>\n",
       "      <td>1</td>\n",
       "      <td>1</td>\n",
       "    </tr>\n",
       "    <tr>\n",
       "      <th>243</th>\n",
       "      <td>18.78</td>\n",
       "      <td>3.00</td>\n",
       "      <td>Female</td>\n",
       "      <td>No</td>\n",
       "      <td>Thur</td>\n",
       "      <td>Dinner</td>\n",
       "      <td>2</td>\n",
       "      <td>0</td>\n",
       "      <td>1</td>\n",
       "      <td>3</td>\n",
       "    </tr>\n",
       "  </tbody>\n",
       "</table>\n",
       "<p>244 rows × 10 columns</p>\n",
       "</div>"
      ],
      "text/plain": [
       "     total_bill   tip     sex smoker   day    time  size  encoded_sex  \\\n",
       "0         16.99  1.01  Female     No   Sun  Dinner     2            0   \n",
       "1         10.34  1.66    Male     No   Sun  Dinner     3            1   \n",
       "2         21.01  3.50    Male     No   Sun  Dinner     3            1   \n",
       "3         23.68  3.31    Male     No   Sun  Dinner     2            1   \n",
       "4         24.59  3.61  Female     No   Sun  Dinner     4            0   \n",
       "..          ...   ...     ...    ...   ...     ...   ...          ...   \n",
       "239       29.03  5.92    Male     No   Sat  Dinner     3            1   \n",
       "240       27.18  2.00  Female    Yes   Sat  Dinner     2            0   \n",
       "241       22.67  2.00    Male    Yes   Sat  Dinner     2            1   \n",
       "242       17.82  1.75    Male     No   Sat  Dinner     2            1   \n",
       "243       18.78  3.00  Female     No  Thur  Dinner     2            0   \n",
       "\n",
       "     smoker_encoded  day_encoded  \n",
       "0                 1            2  \n",
       "1                 1            2  \n",
       "2                 1            2  \n",
       "3                 1            2  \n",
       "4                 1            2  \n",
       "..              ...          ...  \n",
       "239               1            1  \n",
       "240               0            1  \n",
       "241               0            1  \n",
       "242               1            1  \n",
       "243               1            3  \n",
       "\n",
       "[244 rows x 10 columns]"
      ]
     },
     "execution_count": 135,
     "metadata": {},
     "output_type": "execute_result"
    }
   ],
   "source": [
    "df"
   ]
  },
  {
   "cell_type": "markdown",
   "id": "civic-bernard",
   "metadata": {
    "heading_collapsed": true,
    "hidden": true,
    "papermill": {
     "duration": 0.179833,
     "end_time": "2021-07-07T05:12:37.450553",
     "exception": false,
     "start_time": "2021-07-07T05:12:37.270720",
     "status": "completed"
    },
    "tags": []
   },
   "source": [
    "### One Hot Encoding"
   ]
  },
  {
   "cell_type": "markdown",
   "id": "fixed-allah",
   "metadata": {
    "hidden": true,
    "papermill": {
     "duration": 0.179146,
     "end_time": "2021-07-07T05:12:37.810728",
     "exception": false,
     "start_time": "2021-07-07T05:12:37.631582",
     "status": "completed"
    },
    "tags": []
   },
   "source": [
    "A one hot encoding is a representation of categorical variables as binary vectors.\n",
    "\n",
    "This first requires that the categorical values be mapped to integer values."
   ]
  },
  {
   "cell_type": "markdown",
   "id": "chemical-elimination",
   "metadata": {
    "hidden": true,
    "papermill": {
     "duration": 0.180823,
     "end_time": "2021-07-07T05:12:38.176708",
     "exception": false,
     "start_time": "2021-07-07T05:12:37.995885",
     "status": "completed"
    },
    "tags": []
   },
   "source": [
    "For a real world example, we will use tips dataset of Seaborn."
   ]
  },
  {
   "cell_type": "code",
   "execution_count": 136,
   "id": "informative-calendar",
   "metadata": {
    "execution": {
     "iopub.execute_input": "2021-07-07T05:12:38.546560Z",
     "iopub.status.busy": "2021-07-07T05:12:38.545942Z",
     "iopub.status.idle": "2021-07-07T05:12:38.566285Z",
     "shell.execute_reply": "2021-07-07T05:12:38.566772Z"
    },
    "hidden": true,
    "papermill": {
     "duration": 0.208097,
     "end_time": "2021-07-07T05:12:38.566953",
     "exception": false,
     "start_time": "2021-07-07T05:12:38.358856",
     "status": "completed"
    },
    "tags": []
   },
   "outputs": [
    {
     "data": {
      "text/html": [
       "<div>\n",
       "<style scoped>\n",
       "    .dataframe tbody tr th:only-of-type {\n",
       "        vertical-align: middle;\n",
       "    }\n",
       "\n",
       "    .dataframe tbody tr th {\n",
       "        vertical-align: top;\n",
       "    }\n",
       "\n",
       "    .dataframe thead th {\n",
       "        text-align: right;\n",
       "    }\n",
       "</style>\n",
       "<table border=\"1\" class=\"dataframe\">\n",
       "  <thead>\n",
       "    <tr style=\"text-align: right;\">\n",
       "      <th></th>\n",
       "      <th>total_bill</th>\n",
       "      <th>tip</th>\n",
       "      <th>sex</th>\n",
       "      <th>smoker</th>\n",
       "      <th>day</th>\n",
       "      <th>time</th>\n",
       "      <th>size</th>\n",
       "    </tr>\n",
       "  </thead>\n",
       "  <tbody>\n",
       "    <tr>\n",
       "      <th>0</th>\n",
       "      <td>16.99</td>\n",
       "      <td>1.01</td>\n",
       "      <td>Female</td>\n",
       "      <td>No</td>\n",
       "      <td>Sun</td>\n",
       "      <td>Dinner</td>\n",
       "      <td>2</td>\n",
       "    </tr>\n",
       "    <tr>\n",
       "      <th>1</th>\n",
       "      <td>10.34</td>\n",
       "      <td>1.66</td>\n",
       "      <td>Male</td>\n",
       "      <td>No</td>\n",
       "      <td>Sun</td>\n",
       "      <td>Dinner</td>\n",
       "      <td>3</td>\n",
       "    </tr>\n",
       "    <tr>\n",
       "      <th>2</th>\n",
       "      <td>21.01</td>\n",
       "      <td>3.50</td>\n",
       "      <td>Male</td>\n",
       "      <td>No</td>\n",
       "      <td>Sun</td>\n",
       "      <td>Dinner</td>\n",
       "      <td>3</td>\n",
       "    </tr>\n",
       "    <tr>\n",
       "      <th>3</th>\n",
       "      <td>23.68</td>\n",
       "      <td>3.31</td>\n",
       "      <td>Male</td>\n",
       "      <td>No</td>\n",
       "      <td>Sun</td>\n",
       "      <td>Dinner</td>\n",
       "      <td>2</td>\n",
       "    </tr>\n",
       "    <tr>\n",
       "      <th>4</th>\n",
       "      <td>24.59</td>\n",
       "      <td>3.61</td>\n",
       "      <td>Female</td>\n",
       "      <td>No</td>\n",
       "      <td>Sun</td>\n",
       "      <td>Dinner</td>\n",
       "      <td>4</td>\n",
       "    </tr>\n",
       "  </tbody>\n",
       "</table>\n",
       "</div>"
      ],
      "text/plain": [
       "   total_bill   tip     sex smoker  day    time  size\n",
       "0       16.99  1.01  Female     No  Sun  Dinner     2\n",
       "1       10.34  1.66    Male     No  Sun  Dinner     3\n",
       "2       21.01  3.50    Male     No  Sun  Dinner     3\n",
       "3       23.68  3.31    Male     No  Sun  Dinner     2\n",
       "4       24.59  3.61  Female     No  Sun  Dinner     4"
      ]
     },
     "execution_count": 136,
     "metadata": {},
     "output_type": "execute_result"
    }
   ],
   "source": [
    "df = sns.load_dataset(\"tips\")\n",
    "df.head()"
   ]
  },
  {
   "cell_type": "code",
   "execution_count": 137,
   "id": "sized-joseph",
   "metadata": {
    "execution": {
     "iopub.execute_input": "2021-07-07T05:12:38.953221Z",
     "iopub.status.busy": "2021-07-07T05:12:38.952570Z",
     "iopub.status.idle": "2021-07-07T05:12:38.966709Z",
     "shell.execute_reply": "2021-07-07T05:12:38.966162Z"
    },
    "hidden": true,
    "papermill": {
     "duration": 0.21866,
     "end_time": "2021-07-07T05:12:38.966856",
     "exception": false,
     "start_time": "2021-07-07T05:12:38.748196",
     "status": "completed"
    },
    "tags": []
   },
   "outputs": [
    {
     "data": {
      "text/html": [
       "<div>\n",
       "<style scoped>\n",
       "    .dataframe tbody tr th:only-of-type {\n",
       "        vertical-align: middle;\n",
       "    }\n",
       "\n",
       "    .dataframe tbody tr th {\n",
       "        vertical-align: top;\n",
       "    }\n",
       "\n",
       "    .dataframe thead th {\n",
       "        text-align: right;\n",
       "    }\n",
       "</style>\n",
       "<table border=\"1\" class=\"dataframe\">\n",
       "  <thead>\n",
       "    <tr style=\"text-align: right;\">\n",
       "      <th></th>\n",
       "      <th>total_bill</th>\n",
       "      <th>tip</th>\n",
       "      <th>sex</th>\n",
       "      <th>smoker</th>\n",
       "      <th>day</th>\n",
       "      <th>size</th>\n",
       "      <th>time_Lunch</th>\n",
       "      <th>time_Dinner</th>\n",
       "    </tr>\n",
       "  </thead>\n",
       "  <tbody>\n",
       "    <tr>\n",
       "      <th>0</th>\n",
       "      <td>16.99</td>\n",
       "      <td>1.01</td>\n",
       "      <td>Female</td>\n",
       "      <td>No</td>\n",
       "      <td>Sun</td>\n",
       "      <td>2</td>\n",
       "      <td>0</td>\n",
       "      <td>1</td>\n",
       "    </tr>\n",
       "    <tr>\n",
       "      <th>1</th>\n",
       "      <td>10.34</td>\n",
       "      <td>1.66</td>\n",
       "      <td>Male</td>\n",
       "      <td>No</td>\n",
       "      <td>Sun</td>\n",
       "      <td>3</td>\n",
       "      <td>0</td>\n",
       "      <td>1</td>\n",
       "    </tr>\n",
       "    <tr>\n",
       "      <th>2</th>\n",
       "      <td>21.01</td>\n",
       "      <td>3.50</td>\n",
       "      <td>Male</td>\n",
       "      <td>No</td>\n",
       "      <td>Sun</td>\n",
       "      <td>3</td>\n",
       "      <td>0</td>\n",
       "      <td>1</td>\n",
       "    </tr>\n",
       "    <tr>\n",
       "      <th>3</th>\n",
       "      <td>23.68</td>\n",
       "      <td>3.31</td>\n",
       "      <td>Male</td>\n",
       "      <td>No</td>\n",
       "      <td>Sun</td>\n",
       "      <td>2</td>\n",
       "      <td>0</td>\n",
       "      <td>1</td>\n",
       "    </tr>\n",
       "    <tr>\n",
       "      <th>4</th>\n",
       "      <td>24.59</td>\n",
       "      <td>3.61</td>\n",
       "      <td>Female</td>\n",
       "      <td>No</td>\n",
       "      <td>Sun</td>\n",
       "      <td>4</td>\n",
       "      <td>0</td>\n",
       "      <td>1</td>\n",
       "    </tr>\n",
       "    <tr>\n",
       "      <th>...</th>\n",
       "      <td>...</td>\n",
       "      <td>...</td>\n",
       "      <td>...</td>\n",
       "      <td>...</td>\n",
       "      <td>...</td>\n",
       "      <td>...</td>\n",
       "      <td>...</td>\n",
       "      <td>...</td>\n",
       "    </tr>\n",
       "    <tr>\n",
       "      <th>239</th>\n",
       "      <td>29.03</td>\n",
       "      <td>5.92</td>\n",
       "      <td>Male</td>\n",
       "      <td>No</td>\n",
       "      <td>Sat</td>\n",
       "      <td>3</td>\n",
       "      <td>0</td>\n",
       "      <td>1</td>\n",
       "    </tr>\n",
       "    <tr>\n",
       "      <th>240</th>\n",
       "      <td>27.18</td>\n",
       "      <td>2.00</td>\n",
       "      <td>Female</td>\n",
       "      <td>Yes</td>\n",
       "      <td>Sat</td>\n",
       "      <td>2</td>\n",
       "      <td>0</td>\n",
       "      <td>1</td>\n",
       "    </tr>\n",
       "    <tr>\n",
       "      <th>241</th>\n",
       "      <td>22.67</td>\n",
       "      <td>2.00</td>\n",
       "      <td>Male</td>\n",
       "      <td>Yes</td>\n",
       "      <td>Sat</td>\n",
       "      <td>2</td>\n",
       "      <td>0</td>\n",
       "      <td>1</td>\n",
       "    </tr>\n",
       "    <tr>\n",
       "      <th>242</th>\n",
       "      <td>17.82</td>\n",
       "      <td>1.75</td>\n",
       "      <td>Male</td>\n",
       "      <td>No</td>\n",
       "      <td>Sat</td>\n",
       "      <td>2</td>\n",
       "      <td>0</td>\n",
       "      <td>1</td>\n",
       "    </tr>\n",
       "    <tr>\n",
       "      <th>243</th>\n",
       "      <td>18.78</td>\n",
       "      <td>3.00</td>\n",
       "      <td>Female</td>\n",
       "      <td>No</td>\n",
       "      <td>Thur</td>\n",
       "      <td>2</td>\n",
       "      <td>0</td>\n",
       "      <td>1</td>\n",
       "    </tr>\n",
       "  </tbody>\n",
       "</table>\n",
       "<p>244 rows × 8 columns</p>\n",
       "</div>"
      ],
      "text/plain": [
       "     total_bill   tip     sex smoker   day  size  time_Lunch  time_Dinner\n",
       "0         16.99  1.01  Female     No   Sun     2           0            1\n",
       "1         10.34  1.66    Male     No   Sun     3           0            1\n",
       "2         21.01  3.50    Male     No   Sun     3           0            1\n",
       "3         23.68  3.31    Male     No   Sun     2           0            1\n",
       "4         24.59  3.61  Female     No   Sun     4           0            1\n",
       "..          ...   ...     ...    ...   ...   ...         ...          ...\n",
       "239       29.03  5.92    Male     No   Sat     3           0            1\n",
       "240       27.18  2.00  Female    Yes   Sat     2           0            1\n",
       "241       22.67  2.00    Male    Yes   Sat     2           0            1\n",
       "242       17.82  1.75    Male     No   Sat     2           0            1\n",
       "243       18.78  3.00  Female     No  Thur     2           0            1\n",
       "\n",
       "[244 rows x 8 columns]"
      ]
     },
     "execution_count": 137,
     "metadata": {},
     "output_type": "execute_result"
    }
   ],
   "source": [
    "pd.get_dummies(df,columns=[\"time\"],prefix=[\"time\"])"
   ]
  }
 ],
 "metadata": {
  "kernelspec": {
   "display_name": "Python 3 (ipykernel)",
   "language": "python",
   "name": "python3"
  },
  "language_info": {
   "codemirror_mode": {
    "name": "ipython",
    "version": 3
   },
   "file_extension": ".py",
   "mimetype": "text/x-python",
   "name": "python",
   "nbconvert_exporter": "python",
   "pygments_lexer": "ipython3",
   "version": "3.9.12"
  },
  "papermill": {
   "default_parameters": {},
   "duration": 98.603726,
   "end_time": "2021-07-07T05:12:40.089964",
   "environment_variables": {},
   "exception": null,
   "input_path": "__notebook__.ipynb",
   "output_path": "__notebook__.ipynb",
   "parameters": {},
   "start_time": "2021-07-07T05:11:01.486238",
   "version": "2.3.3"
  }
 },
 "nbformat": 4,
 "nbformat_minor": 5
}
